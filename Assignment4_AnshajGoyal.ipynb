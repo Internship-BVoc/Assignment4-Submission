{
  "nbformat": 4,
  "nbformat_minor": 0,
  "metadata": {
    "colab": {
      "name": "Assignment4_AnshajGoyal.ipynb",
      "provenance": [],
      "collapsed_sections": []
    },
    "kernelspec": {
      "name": "python3",
      "display_name": "Python 3"
    }
  },
  "cells": [
    {
      "cell_type": "code",
      "metadata": {
        "id": "hjG_Ivwo9rwO",
        "colab_type": "code",
        "colab": {
          "base_uri": "https://localhost:8080/",
          "height": 241
        },
        "outputId": "006cf917-1f88-409d-9904-de0256a71431"
      },
      "source": [
        "#Anshaj_Goyal\n",
        "import pandas as pd\n",
        "df = pd.read_csv('dataset_model.csv')\n",
        "primaryKeyDf = pd.DataFrame()\n",
        "for i in df:\n",
        "  if df[i].is_unique:\n",
        "    primaryKeyDf[i] = df[i]\n",
        "    df = df.drop(i,axis=1)\n",
        "df.head()"
      ],
      "execution_count": 62,
      "outputs": [
        {
          "output_type": "execute_result",
          "data": {
            "text/html": [
              "<div>\n",
              "<style scoped>\n",
              "    .dataframe tbody tr th:only-of-type {\n",
              "        vertical-align: middle;\n",
              "    }\n",
              "\n",
              "    .dataframe tbody tr th {\n",
              "        vertical-align: top;\n",
              "    }\n",
              "\n",
              "    .dataframe thead th {\n",
              "        text-align: right;\n",
              "    }\n",
              "</style>\n",
              "<table border=\"1\" class=\"dataframe\">\n",
              "  <thead>\n",
              "    <tr style=\"text-align: right;\">\n",
              "      <th></th>\n",
              "      <th>Gender</th>\n",
              "      <th>Married</th>\n",
              "      <th>Dependents</th>\n",
              "      <th>Education</th>\n",
              "      <th>Self_Employed</th>\n",
              "      <th>ApplicantIncome</th>\n",
              "      <th>CoapplicantIncome</th>\n",
              "      <th>LoanAmount</th>\n",
              "      <th>Loan_Amount_Term</th>\n",
              "      <th>Credit_History</th>\n",
              "      <th>Property_Area</th>\n",
              "      <th>Loan_Status</th>\n",
              "    </tr>\n",
              "  </thead>\n",
              "  <tbody>\n",
              "    <tr>\n",
              "      <th>0</th>\n",
              "      <td>Male</td>\n",
              "      <td>No</td>\n",
              "      <td>0</td>\n",
              "      <td>Graduate</td>\n",
              "      <td>No</td>\n",
              "      <td>5849</td>\n",
              "      <td>0.0</td>\n",
              "      <td>NaN</td>\n",
              "      <td>360.0</td>\n",
              "      <td>1.0</td>\n",
              "      <td>Urban</td>\n",
              "      <td>Y</td>\n",
              "    </tr>\n",
              "    <tr>\n",
              "      <th>1</th>\n",
              "      <td>Male</td>\n",
              "      <td>Yes</td>\n",
              "      <td>1</td>\n",
              "      <td>Graduate</td>\n",
              "      <td>No</td>\n",
              "      <td>4583</td>\n",
              "      <td>1508.0</td>\n",
              "      <td>128.0</td>\n",
              "      <td>360.0</td>\n",
              "      <td>1.0</td>\n",
              "      <td>Rural</td>\n",
              "      <td>N</td>\n",
              "    </tr>\n",
              "    <tr>\n",
              "      <th>2</th>\n",
              "      <td>Male</td>\n",
              "      <td>Yes</td>\n",
              "      <td>0</td>\n",
              "      <td>Graduate</td>\n",
              "      <td>Yes</td>\n",
              "      <td>3000</td>\n",
              "      <td>0.0</td>\n",
              "      <td>66.0</td>\n",
              "      <td>360.0</td>\n",
              "      <td>1.0</td>\n",
              "      <td>Urban</td>\n",
              "      <td>Y</td>\n",
              "    </tr>\n",
              "    <tr>\n",
              "      <th>3</th>\n",
              "      <td>Male</td>\n",
              "      <td>Yes</td>\n",
              "      <td>0</td>\n",
              "      <td>Not Graduate</td>\n",
              "      <td>No</td>\n",
              "      <td>2583</td>\n",
              "      <td>2358.0</td>\n",
              "      <td>120.0</td>\n",
              "      <td>360.0</td>\n",
              "      <td>1.0</td>\n",
              "      <td>Urban</td>\n",
              "      <td>Y</td>\n",
              "    </tr>\n",
              "    <tr>\n",
              "      <th>4</th>\n",
              "      <td>Male</td>\n",
              "      <td>No</td>\n",
              "      <td>0</td>\n",
              "      <td>Graduate</td>\n",
              "      <td>No</td>\n",
              "      <td>6000</td>\n",
              "      <td>0.0</td>\n",
              "      <td>141.0</td>\n",
              "      <td>360.0</td>\n",
              "      <td>1.0</td>\n",
              "      <td>Urban</td>\n",
              "      <td>Y</td>\n",
              "    </tr>\n",
              "  </tbody>\n",
              "</table>\n",
              "</div>"
            ],
            "text/plain": [
              "  Gender Married Dependents  ... Credit_History Property_Area  Loan_Status\n",
              "0   Male      No          0  ...            1.0         Urban            Y\n",
              "1   Male     Yes          1  ...            1.0         Rural            N\n",
              "2   Male     Yes          0  ...            1.0         Urban            Y\n",
              "3   Male     Yes          0  ...            1.0         Urban            Y\n",
              "4   Male      No          0  ...            1.0         Urban            Y\n",
              "\n",
              "[5 rows x 12 columns]"
            ]
          },
          "metadata": {
            "tags": []
          },
          "execution_count": 62
        }
      ]
    },
    {
      "cell_type": "code",
      "metadata": {
        "id": "tIullbyH-Fnq",
        "colab_type": "code",
        "colab": {
          "base_uri": "https://localhost:8080/",
          "height": 162
        },
        "outputId": "bef12033-0869-4082-9678-ea9bb37a70c0"
      },
      "source": [
        "continuousColumns = [i for i in df._get_numeric_data().columns if(len(df[i].unique())>df.shape[0]/25)] #['ApplicantIncome', 'CoapplicantIncome', 'LoanAmount']\n",
        "categoricalColumns = [i for i in df if len(df[i].unique())<=df.shape[0]/25] #['Gender', 'Married', 'Dependents', 'Education', 'Self_Employed', 'Credit_History', 'Property_Area', 'Loan_Status']\n",
        "df.groupby('Loan_Status').count()"
      ],
      "execution_count": 63,
      "outputs": [
        {
          "output_type": "execute_result",
          "data": {
            "text/html": [
              "<div>\n",
              "<style scoped>\n",
              "    .dataframe tbody tr th:only-of-type {\n",
              "        vertical-align: middle;\n",
              "    }\n",
              "\n",
              "    .dataframe tbody tr th {\n",
              "        vertical-align: top;\n",
              "    }\n",
              "\n",
              "    .dataframe thead th {\n",
              "        text-align: right;\n",
              "    }\n",
              "</style>\n",
              "<table border=\"1\" class=\"dataframe\">\n",
              "  <thead>\n",
              "    <tr style=\"text-align: right;\">\n",
              "      <th></th>\n",
              "      <th>Gender</th>\n",
              "      <th>Married</th>\n",
              "      <th>Dependents</th>\n",
              "      <th>Education</th>\n",
              "      <th>Self_Employed</th>\n",
              "      <th>ApplicantIncome</th>\n",
              "      <th>CoapplicantIncome</th>\n",
              "      <th>LoanAmount</th>\n",
              "      <th>Loan_Amount_Term</th>\n",
              "      <th>Credit_History</th>\n",
              "      <th>Property_Area</th>\n",
              "    </tr>\n",
              "    <tr>\n",
              "      <th>Loan_Status</th>\n",
              "      <th></th>\n",
              "      <th></th>\n",
              "      <th></th>\n",
              "      <th></th>\n",
              "      <th></th>\n",
              "      <th></th>\n",
              "      <th></th>\n",
              "      <th></th>\n",
              "      <th></th>\n",
              "      <th></th>\n",
              "      <th></th>\n",
              "    </tr>\n",
              "  </thead>\n",
              "  <tbody>\n",
              "    <tr>\n",
              "      <th>N</th>\n",
              "      <td>187</td>\n",
              "      <td>192</td>\n",
              "      <td>186</td>\n",
              "      <td>192</td>\n",
              "      <td>183</td>\n",
              "      <td>192</td>\n",
              "      <td>192</td>\n",
              "      <td>181</td>\n",
              "      <td>186</td>\n",
              "      <td>179</td>\n",
              "      <td>192</td>\n",
              "    </tr>\n",
              "    <tr>\n",
              "      <th>Y</th>\n",
              "      <td>414</td>\n",
              "      <td>419</td>\n",
              "      <td>413</td>\n",
              "      <td>422</td>\n",
              "      <td>399</td>\n",
              "      <td>422</td>\n",
              "      <td>422</td>\n",
              "      <td>411</td>\n",
              "      <td>414</td>\n",
              "      <td>385</td>\n",
              "      <td>422</td>\n",
              "    </tr>\n",
              "  </tbody>\n",
              "</table>\n",
              "</div>"
            ],
            "text/plain": [
              "             Gender  Married  ...  Credit_History  Property_Area\n",
              "Loan_Status                   ...                               \n",
              "N               187      192  ...             179            192\n",
              "Y               414      419  ...             385            422\n",
              "\n",
              "[2 rows x 11 columns]"
            ]
          },
          "metadata": {
            "tags": []
          },
          "execution_count": 63
        }
      ]
    },
    {
      "cell_type": "markdown",
      "metadata": {
        "id": "7E94fJHWD1ca",
        "colab_type": "text"
      },
      "source": [
        "***Missing Value Check***"
      ]
    },
    {
      "cell_type": "code",
      "metadata": {
        "id": "Uf8NHsx8-1cD",
        "colab_type": "code",
        "colab": {
          "base_uri": "https://localhost:8080/",
          "height": 119
        },
        "outputId": "b7158c45-7b53-48ac-d6f0-0a1251555a29"
      },
      "source": [
        "import numpy as np\n",
        "for col in df.columns:\n",
        "  missingPercent = np.mean(df[col].isnull())\n",
        "  if round(missingPercent*100) >0:\n",
        "    missingValues = df[col].isnull().sum().sum()\n",
        "    print(\"Column {} with mean {} with missing values  {}\".format(col,int(round(missingPercent*100)),missingValues))\n",
        "#As the below output the following columns in data have missing values with number of missin values written"
      ],
      "execution_count": 51,
      "outputs": [
        {
          "output_type": "stream",
          "text": [
            "Column Gender with mean 2 with missing values  13\n",
            "Column Dependents with mean 2 with missing values  15\n",
            "Column Self_Employed with mean 5 with missing values  32\n",
            "Column LoanAmount with mean 4 with missing values  22\n",
            "Column Loan_Amount_Term with mean 2 with missing values  14\n",
            "Column Credit_History with mean 8 with missing values  50\n"
          ],
          "name": "stdout"
        }
      ]
    },
    {
      "cell_type": "markdown",
      "metadata": {
        "id": "aLHhtn7RAM9o",
        "colab_type": "text"
      },
      "source": [
        "***Sparsity Check***"
      ]
    },
    {
      "cell_type": "code",
      "metadata": {
        "id": "LBeixf-VAMYI",
        "colab_type": "code",
        "colab": {
          "base_uri": "https://localhost:8080/",
          "height": 272
        },
        "outputId": "bf303d38-6316-4afd-b383-c10bb07eb0f0"
      },
      "source": [
        "print(df.dtypes.apply(pd.api.types.is_sparse))\n",
        "print(\"\\n{} 0 Records Sparse\".format(any(df.dtypes.apply(pd.api.types.is_sparse))))\n",
        "#No Rows/Columns are sparse so we will carry on without removing any records \n",
        "#and handle missing data "
      ],
      "execution_count": 52,
      "outputs": [
        {
          "output_type": "stream",
          "text": [
            "Gender               False\n",
            "Married              False\n",
            "Dependents           False\n",
            "Education            False\n",
            "Self_Employed        False\n",
            "ApplicantIncome      False\n",
            "CoapplicantIncome    False\n",
            "LoanAmount           False\n",
            "Loan_Amount_Term     False\n",
            "Credit_History       False\n",
            "Property_Area        False\n",
            "Loan_Status          False\n",
            "dtype: bool\n",
            "\n",
            "False 0 Records Sparse\n"
          ],
          "name": "stdout"
        }
      ]
    },
    {
      "cell_type": "markdown",
      "metadata": {
        "id": "SnxxmlowD4HG",
        "colab_type": "text"
      },
      "source": [
        "***Handle Missing Values***"
      ]
    },
    {
      "cell_type": "code",
      "metadata": {
        "id": "fShijuskCIvO",
        "colab_type": "code",
        "colab": {
          "base_uri": "https://localhost:8080/",
          "height": 238
        },
        "outputId": "3a482e24-3867-4c4f-da25-5262b0d5d9af"
      },
      "source": [
        "#Replacing null values with the most frequent value in the respective column\n",
        "for i in df.columns:\n",
        "  df[i] = df[i].fillna(df[i].value_counts().nlargest(n=1).index[0])\n",
        "df.isnull().sum()\n",
        "# After Executing above segments of node no null values were found"
      ],
      "execution_count": 64,
      "outputs": [
        {
          "output_type": "execute_result",
          "data": {
            "text/plain": [
              "Gender               0\n",
              "Married              0\n",
              "Dependents           0\n",
              "Education            0\n",
              "Self_Employed        0\n",
              "ApplicantIncome      0\n",
              "CoapplicantIncome    0\n",
              "LoanAmount           0\n",
              "Loan_Amount_Term     0\n",
              "Credit_History       0\n",
              "Property_Area        0\n",
              "Loan_Status          0\n",
              "dtype: int64"
            ]
          },
          "metadata": {
            "tags": []
          },
          "execution_count": 64
        }
      ]
    },
    {
      "cell_type": "markdown",
      "metadata": {
        "id": "oUpd1mdUFsVq",
        "colab_type": "text"
      },
      "source": [
        "***Outlier Detection & Handling***"
      ]
    },
    {
      "cell_type": "code",
      "metadata": {
        "id": "Q3QkBKk1FA5c",
        "colab_type": "code",
        "colab": {
          "base_uri": "https://localhost:8080/",
          "height": 85
        },
        "outputId": "7756b7e9-e09f-4871-ce26-4de8f46a423a"
      },
      "source": [
        "df[continuousColumns].skew()\n",
        "#Data is highly unsymmetrical so we'll skew it"
      ],
      "execution_count": 65,
      "outputs": [
        {
          "output_type": "execute_result",
          "data": {
            "text/plain": [
              "ApplicantIncome      6.539513\n",
              "CoapplicantIncome    7.491531\n",
              "LoanAmount           2.745407\n",
              "dtype: float64"
            ]
          },
          "metadata": {
            "tags": []
          },
          "execution_count": 65
        }
      ]
    },
    {
      "cell_type": "code",
      "metadata": {
        "id": "LONwB1uvGMsn",
        "colab_type": "code",
        "colab": {
          "base_uri": "https://localhost:8080/",
          "height": 297
        },
        "outputId": "d684d77d-9a62-4fb3-f92d-c5f998ac501e"
      },
      "source": [
        "#Except Credit_History every other column is having outliers\n",
        "#Which is visible after looking the difference in 75% and max(100%) values\n",
        "\n",
        "df[continuousColumns].describe()"
      ],
      "execution_count": 56,
      "outputs": [
        {
          "output_type": "execute_result",
          "data": {
            "text/html": [
              "<div>\n",
              "<style scoped>\n",
              "    .dataframe tbody tr th:only-of-type {\n",
              "        vertical-align: middle;\n",
              "    }\n",
              "\n",
              "    .dataframe tbody tr th {\n",
              "        vertical-align: top;\n",
              "    }\n",
              "\n",
              "    .dataframe thead th {\n",
              "        text-align: right;\n",
              "    }\n",
              "</style>\n",
              "<table border=\"1\" class=\"dataframe\">\n",
              "  <thead>\n",
              "    <tr style=\"text-align: right;\">\n",
              "      <th></th>\n",
              "      <th>ApplicantIncome</th>\n",
              "      <th>CoapplicantIncome</th>\n",
              "      <th>LoanAmount</th>\n",
              "    </tr>\n",
              "  </thead>\n",
              "  <tbody>\n",
              "    <tr>\n",
              "      <th>count</th>\n",
              "      <td>614.000000</td>\n",
              "      <td>614.000000</td>\n",
              "      <td>614.000000</td>\n",
              "    </tr>\n",
              "    <tr>\n",
              "      <th>mean</th>\n",
              "      <td>5403.459283</td>\n",
              "      <td>1621.245798</td>\n",
              "      <td>145.465798</td>\n",
              "    </tr>\n",
              "    <tr>\n",
              "      <th>std</th>\n",
              "      <td>6109.041673</td>\n",
              "      <td>2926.248369</td>\n",
              "      <td>84.180967</td>\n",
              "    </tr>\n",
              "    <tr>\n",
              "      <th>min</th>\n",
              "      <td>150.000000</td>\n",
              "      <td>0.000000</td>\n",
              "      <td>9.000000</td>\n",
              "    </tr>\n",
              "    <tr>\n",
              "      <th>25%</th>\n",
              "      <td>2877.500000</td>\n",
              "      <td>0.000000</td>\n",
              "      <td>100.250000</td>\n",
              "    </tr>\n",
              "    <tr>\n",
              "      <th>50%</th>\n",
              "      <td>3812.500000</td>\n",
              "      <td>1188.500000</td>\n",
              "      <td>125.000000</td>\n",
              "    </tr>\n",
              "    <tr>\n",
              "      <th>75%</th>\n",
              "      <td>5795.000000</td>\n",
              "      <td>2297.250000</td>\n",
              "      <td>164.750000</td>\n",
              "    </tr>\n",
              "    <tr>\n",
              "      <th>max</th>\n",
              "      <td>81000.000000</td>\n",
              "      <td>41667.000000</td>\n",
              "      <td>700.000000</td>\n",
              "    </tr>\n",
              "  </tbody>\n",
              "</table>\n",
              "</div>"
            ],
            "text/plain": [
              "       ApplicantIncome  CoapplicantIncome  LoanAmount\n",
              "count       614.000000         614.000000  614.000000\n",
              "mean       5403.459283        1621.245798  145.465798\n",
              "std        6109.041673        2926.248369   84.180967\n",
              "min         150.000000           0.000000    9.000000\n",
              "25%        2877.500000           0.000000  100.250000\n",
              "50%        3812.500000        1188.500000  125.000000\n",
              "75%        5795.000000        2297.250000  164.750000\n",
              "max       81000.000000       41667.000000  700.000000"
            ]
          },
          "metadata": {
            "tags": []
          },
          "execution_count": 56
        }
      ]
    },
    {
      "cell_type": "code",
      "metadata": {
        "id": "xXWfn4w1JsVX",
        "colab_type": "code",
        "colab": {
          "base_uri": "https://localhost:8080/",
          "height": 85
        },
        "outputId": "6784c1c9-d0da-4d59-b95f-8b2045f16c89"
      },
      "source": [
        "#Will modify outlier values with conditions and won't remove it\n",
        "#based on 0.05% quantile and 95% quantile\n",
        "for i in continuousColumns:\n",
        "  df[i] = np.where(df[i] <int(df[i].quantile(0.05)), int(df[i].quantile(0.1)),df[i])\n",
        "  df[i] = np.where(df[i] >int(df[i].quantile(0.97)), int(df[i].quantile(0.9)),df[i])\n",
        "df[continuousColumns].skew()\n",
        "#So the skewed values of this df are now almost bearable\n",
        "##Outlier Treatment Done"
      ],
      "execution_count": 66,
      "outputs": [
        {
          "output_type": "execute_result",
          "data": {
            "text/plain": [
              "ApplicantIncome      1.776181\n",
              "CoapplicantIncome    0.795976\n",
              "LoanAmount           1.156346\n",
              "dtype: float64"
            ]
          },
          "metadata": {
            "tags": []
          },
          "execution_count": 66
        }
      ]
    },
    {
      "cell_type": "markdown",
      "metadata": {
        "id": "xTeGIkxMLC5Q",
        "colab_type": "text"
      },
      "source": [
        "***Use Label Encoder as encoding technique on features , predict using below algorithms***\n",
        "\n",
        "*1.Using Logistic Regression - Perform the parameter tuning and list your best performance metrics on -*Precision, Recall, F1 Score & AUROC"
      ]
    },
    {
      "cell_type": "code",
      "metadata": {
        "id": "V24l2SzgLpHd",
        "colab_type": "code",
        "colab": {
          "base_uri": "https://localhost:8080/",
          "height": 170
        },
        "outputId": "a9b935a9-7881-4bfe-dc1e-7be4fbca15c4"
      },
      "source": [
        "#Encoding the categorical features\n",
        "#Adding those encoded feature columns in another dataframe\n",
        "#Dropping original columns from the dataframe \n",
        "from sklearn.preprocessing import LabelEncoder\n",
        "le = LabelEncoder()\n",
        "dfEnc = df.copy()\n",
        "for i in categoricalColumns:\n",
        "  print(\"{}  Feature Column Encoded\".format(i.ljust(16,\" \")))\n",
        "  dfEnc[i+\"_enc\"] = le.fit_transform(dfEnc[i])\n",
        "  dfEnc = dfEnc.drop(i,axis=1)"
      ],
      "execution_count": 247,
      "outputs": [
        {
          "output_type": "stream",
          "text": [
            "Gender            Feature Column Encoded\n",
            "Married           Feature Column Encoded\n",
            "Dependents        Feature Column Encoded\n",
            "Education         Feature Column Encoded\n",
            "Self_Employed     Feature Column Encoded\n",
            "Loan_Amount_Term  Feature Column Encoded\n",
            "Credit_History    Feature Column Encoded\n",
            "Property_Area     Feature Column Encoded\n",
            "Loan_Status       Feature Column Encoded\n"
          ],
          "name": "stdout"
        }
      ]
    },
    {
      "cell_type": "code",
      "metadata": {
        "id": "IU2Hh7tcMv0y",
        "colab_type": "code",
        "colab": {
          "base_uri": "https://localhost:8080/",
          "height": 258
        },
        "outputId": "4abce1d9-71ac-4e6f-9f62-356cdf4333aa"
      },
      "source": [
        "#Class % Distribution of Target Variable\n",
        "tdf = pd.DataFrame(le.fit_transform(df['Loan_Status']))\n",
        "tdf.columns = (['Loan_Status'])\n",
        "lb1, lb2 =  dfEnc['Loan_Status_enc'].value_counts()\n",
        "print(\"1 Class %age - {}\\n0 Class %age - {}\".format((lb1*100)/(lb1+lb2), (lb2*100)/(lb1+lb2)))\n",
        "dfEnc = dfEnc.drop('Loan_Status_enc',axis=1)\n",
        "dfEnc.head()"
      ],
      "execution_count": 249,
      "outputs": [
        {
          "output_type": "stream",
          "text": [
            "1 Class %age - 68.72964169381108\n",
            "0 Class %age - 31.270358306188925\n"
          ],
          "name": "stdout"
        },
        {
          "output_type": "execute_result",
          "data": {
            "text/html": [
              "<div>\n",
              "<style scoped>\n",
              "    .dataframe tbody tr th:only-of-type {\n",
              "        vertical-align: middle;\n",
              "    }\n",
              "\n",
              "    .dataframe tbody tr th {\n",
              "        vertical-align: top;\n",
              "    }\n",
              "\n",
              "    .dataframe thead th {\n",
              "        text-align: right;\n",
              "    }\n",
              "</style>\n",
              "<table border=\"1\" class=\"dataframe\">\n",
              "  <thead>\n",
              "    <tr style=\"text-align: right;\">\n",
              "      <th></th>\n",
              "      <th>ApplicantIncome</th>\n",
              "      <th>CoapplicantIncome</th>\n",
              "      <th>LoanAmount</th>\n",
              "      <th>Gender_enc</th>\n",
              "      <th>Married_enc</th>\n",
              "      <th>Dependents_enc</th>\n",
              "      <th>Education_enc</th>\n",
              "      <th>Self_Employed_enc</th>\n",
              "      <th>Loan_Amount_Term_enc</th>\n",
              "      <th>Credit_History_enc</th>\n",
              "      <th>Property_Area_enc</th>\n",
              "    </tr>\n",
              "  </thead>\n",
              "  <tbody>\n",
              "    <tr>\n",
              "      <th>0</th>\n",
              "      <td>5849</td>\n",
              "      <td>0.0</td>\n",
              "      <td>120.0</td>\n",
              "      <td>1</td>\n",
              "      <td>0</td>\n",
              "      <td>0</td>\n",
              "      <td>0</td>\n",
              "      <td>0</td>\n",
              "      <td>8</td>\n",
              "      <td>1</td>\n",
              "      <td>2</td>\n",
              "    </tr>\n",
              "    <tr>\n",
              "      <th>1</th>\n",
              "      <td>4583</td>\n",
              "      <td>1508.0</td>\n",
              "      <td>128.0</td>\n",
              "      <td>1</td>\n",
              "      <td>1</td>\n",
              "      <td>1</td>\n",
              "      <td>0</td>\n",
              "      <td>0</td>\n",
              "      <td>8</td>\n",
              "      <td>1</td>\n",
              "      <td>0</td>\n",
              "    </tr>\n",
              "    <tr>\n",
              "      <th>2</th>\n",
              "      <td>3000</td>\n",
              "      <td>0.0</td>\n",
              "      <td>66.0</td>\n",
              "      <td>1</td>\n",
              "      <td>1</td>\n",
              "      <td>0</td>\n",
              "      <td>0</td>\n",
              "      <td>1</td>\n",
              "      <td>8</td>\n",
              "      <td>1</td>\n",
              "      <td>2</td>\n",
              "    </tr>\n",
              "    <tr>\n",
              "      <th>3</th>\n",
              "      <td>2583</td>\n",
              "      <td>2358.0</td>\n",
              "      <td>120.0</td>\n",
              "      <td>1</td>\n",
              "      <td>1</td>\n",
              "      <td>0</td>\n",
              "      <td>1</td>\n",
              "      <td>0</td>\n",
              "      <td>8</td>\n",
              "      <td>1</td>\n",
              "      <td>2</td>\n",
              "    </tr>\n",
              "    <tr>\n",
              "      <th>4</th>\n",
              "      <td>6000</td>\n",
              "      <td>0.0</td>\n",
              "      <td>141.0</td>\n",
              "      <td>1</td>\n",
              "      <td>0</td>\n",
              "      <td>0</td>\n",
              "      <td>0</td>\n",
              "      <td>0</td>\n",
              "      <td>8</td>\n",
              "      <td>1</td>\n",
              "      <td>2</td>\n",
              "    </tr>\n",
              "  </tbody>\n",
              "</table>\n",
              "</div>"
            ],
            "text/plain": [
              "   ApplicantIncome  CoapplicantIncome  ...  Credit_History_enc  Property_Area_enc\n",
              "0             5849                0.0  ...                   1                  2\n",
              "1             4583             1508.0  ...                   1                  0\n",
              "2             3000                0.0  ...                   1                  2\n",
              "3             2583             2358.0  ...                   1                  2\n",
              "4             6000                0.0  ...                   1                  2\n",
              "\n",
              "[5 rows x 11 columns]"
            ]
          },
          "metadata": {
            "tags": []
          },
          "execution_count": 249
        }
      ]
    },
    {
      "cell_type": "code",
      "metadata": {
        "id": "UiiUHVsHQn4j",
        "colab_type": "code",
        "colab": {
          "base_uri": "https://localhost:8080/",
          "height": 85
        },
        "outputId": "f41b9f27-0497-4d1f-fd55-8eb7d3d4fcd5"
      },
      "source": [
        "## Logistic Regression test_size 0.25 EncodingType - LabelEncoding\n",
        "#Splitting of dataset into training and testing\n",
        "from sklearn.model_selection import train_test_split\n",
        "x_train, x_test, y_train, y_test = train_test_split(dfEnc,tdf,test_size = 0.25, \\\n",
        "                                                    random_state = 30, stratify = tdf)\n",
        "\n",
        "print(\"Train Feature set: {}\\nTrain Label Feature set: {}\\nTest Feature set: {}\\nTest label set: {}\".format(\\\n",
        "len(x_train),len(y_train),len(x_test),len(y_test)))"
      ],
      "execution_count": 250,
      "outputs": [
        {
          "output_type": "stream",
          "text": [
            "Train Feature set: 460\n",
            "Train Label Feature set: 460\n",
            "Test Feature set: 154\n",
            "Test label set: 154\n"
          ],
          "name": "stdout"
        }
      ]
    },
    {
      "cell_type": "code",
      "metadata": {
        "id": "ayXsuallT1WD",
        "colab_type": "code",
        "colab": {
          "base_uri": "https://localhost:8080/",
          "height": 136
        },
        "outputId": "2499e10d-958b-41b3-e994-94b6f0418e68"
      },
      "source": [
        "#Stratify Analysis\n",
        "lb1,lb0 = y_train['Loan_Status'].value_counts()\n",
        "print(\"For Training Dataset\\n1 Class %age - {}\\n0 Class %age - {}\\n\".format((lb1*100)/(lb1+lb0),(lb0*100)/(lb1+lb0)))\n",
        "lb1,lb0 = y_test['Loan_Status'].value_counts()\n",
        "print(\"For Testing Dataset\\n1 Class %age - {}\\n0 Class %age - {}\".format((lb1*100)/(lb1+lb0),(lb0*100)/(lb1+lb0)))"
      ],
      "execution_count": 251,
      "outputs": [
        {
          "output_type": "stream",
          "text": [
            "For Training Dataset\n",
            "1 Class %age - 68.69565217391305\n",
            "0 Class %age - 31.304347826086957\n",
            "\n",
            "For Testing Dataset\n",
            "1 Class %age - 68.83116883116882\n",
            "0 Class %age - 31.16883116883117\n"
          ],
          "name": "stdout"
        }
      ]
    },
    {
      "cell_type": "code",
      "metadata": {
        "id": "FoCSW_NPXQ5R",
        "colab_type": "code",
        "colab": {}
      },
      "source": [
        "from sklearn.linear_model import LogisticRegression\n",
        "from sklearn.metrics import confusion_matrix,accuracy_score,precision_score,recall_score,f1_score,roc_auc_score,roc_curve\n",
        "model = LogisticRegression(random_state=30)\n",
        "model.fit(x_train, y_train['Loan_Status'])\n",
        "y_pred = model.predict(x_test)"
      ],
      "execution_count": 0,
      "outputs": []
    },
    {
      "cell_type": "code",
      "metadata": {
        "id": "NjFcs--bcPCw",
        "colab_type": "code",
        "colab": {
          "base_uri": "https://localhost:8080/",
          "height": 432
        },
        "outputId": "573fb894-f60c-4e89-ae1c-b065782c0f8e"
      },
      "source": [
        "from matplotlib import pyplot as plt\n",
        "print(\"Confusion Matrix \\n %s\" % confusion_matrix(y_test,y_pred))\n",
        "print(\"Accuracy of LR Model: %s\" % accuracy_score(y_test, y_pred))\n",
        "print(\"Precision of LR Model: %s\" % precision_score(y_test, y_pred))\n",
        "print(\"Recall of LR Model: %s\" % recall_score(y_test, y_pred))\n",
        "print(\"F1 Score of LR Model: %s\" % f1_score(y_test, y_pred))\n",
        "print(\"ROC_AUC score of LR Model: %s\" % roc_auc_score(y_test,y_pred))\n",
        "fpr, tpr, thresholds = roc_curve(y_test,y_pred)\n",
        "plt.figure(1)\n",
        "plt.plot([0, 1], [0, 1], 'k--')\n",
        "plt.plot(fpr, tpr, label='ROC curve (area = %0.2f)'% roc_auc_score(y_test,y_pred))\n",
        "plt.xlabel('False positive rate')\n",
        "plt.ylabel('True positive rate')\n",
        "plt.legend(loc='best')"
      ],
      "execution_count": 253,
      "outputs": [
        {
          "output_type": "stream",
          "text": [
            "Confusion Matrix \n",
            " [[ 17  31]\n",
            " [  1 105]]\n",
            "Accuracy of LR Model: 0.7922077922077922\n",
            "Precision of LR Model: 0.7720588235294118\n",
            "Recall of LR Model: 0.9905660377358491\n",
            "F1 Score of LR Model: 0.8677685950413223\n",
            "ROC_AUC score of LR Model: 0.6723663522012578\n"
          ],
          "name": "stdout"
        },
        {
          "output_type": "execute_result",
          "data": {
            "text/plain": [
              "<matplotlib.legend.Legend at 0x7ff37e2605f8>"
            ]
          },
          "metadata": {
            "tags": []
          },
          "execution_count": 253
        },
        {
          "output_type": "display_data",
          "data": {
            "image/png": "[encoded data removed]",
            "text/plain": [
              "<Figure size 432x288 with 1 Axes>"
            ]
          },
          "metadata": {
            "tags": [],
            "needs_background": "light"
          }
        }
      ]
    },
    {
      "cell_type": "markdown",
      "metadata": {
        "id": "PWpMzODrhkP3",
        "colab_type": "text"
      },
      "source": [
        "***Parameters Tuning***"
      ]
    },
    {
      "cell_type": "code",
      "metadata": {
        "id": "x9jl9Hgpedsr",
        "colab_type": "code",
        "colab": {
          "base_uri": "https://localhost:8080/",
          "height": 153
        },
        "outputId": "26171281-43d8-4126-f8ca-47508105bfa8"
      },
      "source": [
        "## Logistic Regression test_size 0.20 EncodingType - LabelEncoding\n",
        "#Tuning Parameters\n",
        "x_train, x_test, y_train, y_test = train_test_split(dfEnc,tdf,test_size = 0.20, \\\n",
        "                                                    random_state = 30, stratify = tdf)\n",
        "model = LogisticRegression(random_state=30)\n",
        "model.fit(x_train, y_train['Loan_Status'])\n",
        "y_pred = model.predict(x_test)\n",
        "print(\"Confusion Matrix \\n %s\" % confusion_matrix(y_test,y_pred))\n",
        "print(\"Accuracy of LR Model: %s\" % accuracy_score(y_test, y_pred))\n",
        "print(\"Precision of LR Model: %s\" % precision_score(y_test, y_pred))\n",
        "print(\"Recall of LR Model: %s\" % recall_score(y_test, y_pred))\n",
        "print(\"F1 Score of LR Model: %s\" % f1_score(y_test, y_pred))\n",
        "print(\"ROC_AUC score of LR Model: %s\" % roc_auc_score(y_test,y_pred))\n",
        "\n",
        "#The best performance was when the test size of dataset was 0.20 in comparision to test_size of 0.25"
      ],
      "execution_count": 340,
      "outputs": [
        {
          "output_type": "stream",
          "text": [
            "Confusion Matrix \n",
            " [[14 24]\n",
            " [ 1 84]]\n",
            "Accuracy of LR Model: 0.7967479674796748\n",
            "Precision of LR Model: 0.7777777777777778\n",
            "Recall of LR Model: 0.9882352941176471\n",
            "F1 Score of LR Model: 0.8704663212435234\n",
            "ROC_AUC score of LR Model: 0.678328173374613\n"
          ],
          "name": "stdout"
        }
      ]
    },
    {
      "cell_type": "markdown",
      "metadata": {
        "id": "FbmzXhanhnvj",
        "colab_type": "text"
      },
      "source": [
        "***2.Using RandomForest Classifier - Perform the parameter tuning and list your best performance metrics on***\n",
        "\n",
        "*Precision ,Recall & F1 Score ,AUROC*"
      ]
    },
    {
      "cell_type": "code",
      "metadata": {
        "id": "fugmXhkKhsmX",
        "colab_type": "code",
        "colab": {
          "base_uri": "https://localhost:8080/",
          "height": 153
        },
        "outputId": "efcb80ff-dec8-484d-eace-ea7240f250ac"
      },
      "source": [
        "## RandomForestClassifier test_size 0.25 EncodingType - LabelEncoding\n",
        "from sklearn.ensemble import RandomForestClassifier\n",
        "x_train, x_test, y_train, y_test = train_test_split(dfEnc,tdf,test_size = 0.25, \\\n",
        "                                                    random_state = 30, stratify = tdf)\n",
        "model = RandomForestClassifier(random_state=30)\n",
        "model.fit(x_train,y_train['Loan_Status'])\n",
        "y_pred = model.predict(x_test)\n",
        "print(\"Confusion Matrix \\n %s\" % confusion_matrix(y_test,y_pred))\n",
        "print(\"Accuracy of RF Model: %s\" % accuracy_score(y_test, y_pred))\n",
        "print(\"Precision of RF Model: %s\" % precision_score(y_test, y_pred))\n",
        "print(\"Recall of RF Model: %s\" % recall_score(y_test, y_pred))\n",
        "print(\"F1 Score of RF Model: %s\" % f1_score(y_test, y_pred))\n",
        "print(\"ROC_AUC score of RF Model: %s\" % roc_auc_score(y_test,y_pred))\n",
        "\n"
      ],
      "execution_count": 334,
      "outputs": [
        {
          "output_type": "stream",
          "text": [
            "Confusion Matrix \n",
            " [[20 28]\n",
            " [ 8 98]]\n",
            "Accuracy of RF Model: 0.7662337662337663\n",
            "Precision of RF Model: 0.7777777777777778\n",
            "Recall of RF Model: 0.9245283018867925\n",
            "F1 Score of RF Model: 0.8448275862068966\n",
            "ROC_AUC score of RF Model: 0.6705974842767295\n"
          ],
          "name": "stdout"
        }
      ]
    },
    {
      "cell_type": "code",
      "metadata": {
        "id": "ymrfPn_7mNt4",
        "colab_type": "code",
        "colab": {
          "base_uri": "https://localhost:8080/",
          "height": 153
        },
        "outputId": "d5c9285b-3069-4654-c609-6ecd5e2eaf1b"
      },
      "source": [
        "## RandomForestClassifier test_size 0.20 EncodingType - LabelEncoding\n",
        "x_train, x_test, y_train, y_test = train_test_split(dfEnc,tdf,test_size = 0.20, \\\n",
        "                                                    random_state = 30, stratify = tdf)\n",
        "model = RandomForestClassifier(random_state=30)\n",
        "model.fit(x_train,y_train['Loan_Status'])\n",
        "y_pred = model.predict(x_test)\n",
        "print(\"Confusion Matrix \\n %s\" % confusion_matrix(y_test,y_pred))\n",
        "print(\"Accuracy of RF Model: %s\" % accuracy_score(y_test, y_pred))\n",
        "print(\"Precision of RF Model: %s\" % precision_score(y_test, y_pred))\n",
        "print(\"Recall of RF Model: %s\" % recall_score(y_test, y_pred))\n",
        "print(\"F1 Score of RF Model: %s\" % f1_score(y_test, y_pred))\n",
        "print(\"ROC_AUC score of RF Model: %s\" % roc_auc_score(y_test,y_pred))\n",
        "\n",
        "#The performance improved when the dataset test_size was improved to 0.27 from 0.25"
      ],
      "execution_count": 342,
      "outputs": [
        {
          "output_type": "stream",
          "text": [
            "Confusion Matrix \n",
            " [[17 21]\n",
            " [ 8 77]]\n",
            "Accuracy of RF Model: 0.7642276422764228\n",
            "Precision of RF Model: 0.7857142857142857\n",
            "Recall of RF Model: 0.9058823529411765\n",
            "F1 Score of RF Model: 0.8415300546448088\n",
            "ROC_AUC score of RF Model: 0.676625386996904\n"
          ],
          "name": "stdout"
        }
      ]
    },
    {
      "cell_type": "markdown",
      "metadata": {
        "id": "z9O5BwB3n6fc",
        "colab_type": "text"
      },
      "source": [
        "\n",
        "\n",
        "*Use One hot Encoder as encoding technique on feature , predict using the below algorithms*\n",
        "\n",
        "***3.Using Logistic Regression - Perform the parameter tuning and list your best performance metrics on -***\n",
        "\n",
        "*Precision ,Recall & F1 Score ,AUROC*"
      ]
    },
    {
      "cell_type": "code",
      "metadata": {
        "id": "9E3-9u5toDnd",
        "colab_type": "code",
        "colab": {
          "base_uri": "https://localhost:8080/",
          "height": 224
        },
        "outputId": "01873a59-6b66-4bf5-f6f3-8f8b48979a9a"
      },
      "source": [
        "#oneHotEncoding the features and labelHotEncoding the target variable\n",
        "from sklearn.preprocessing import OneHotEncoder\n",
        "ohe = OneHotEncoder(handle_unknown='ignore')\n",
        "dfHotEnc = df.copy()\n",
        "\n",
        "tdf = pd.DataFrame(le.fit_transform(df['Loan_Status']))\n",
        "tdf.columns = (['Loan_Status'])\n",
        "\n",
        "for i in set(categoricalColumns)-set(['Loan_Status']):\n",
        "  enc_rel = pd.DataFrame(ohe.fit_transform(dfHotEnc[[i]]).toarray())\n",
        "  enc_rel = enc_rel.add_prefix(i+\"_\")\n",
        "  dfHotEnc = dfHotEnc.join(enc_rel)\n",
        "  dfHotEnc = dfHotEnc.drop(i,axis=1)\n",
        "\n",
        "dfHotEnc = dfHotEnc.drop('Loan_Status',axis=1)  \n",
        "dfHotEnc.head()"
      ],
      "execution_count": 322,
      "outputs": [
        {
          "output_type": "execute_result",
          "data": {
            "text/html": [
              "<div>\n",
              "<style scoped>\n",
              "    .dataframe tbody tr th:only-of-type {\n",
              "        vertical-align: middle;\n",
              "    }\n",
              "\n",
              "    .dataframe tbody tr th {\n",
              "        vertical-align: top;\n",
              "    }\n",
              "\n",
              "    .dataframe thead th {\n",
              "        text-align: right;\n",
              "    }\n",
              "</style>\n",
              "<table border=\"1\" class=\"dataframe\">\n",
              "  <thead>\n",
              "    <tr style=\"text-align: right;\">\n",
              "      <th></th>\n",
              "      <th>ApplicantIncome</th>\n",
              "      <th>CoapplicantIncome</th>\n",
              "      <th>LoanAmount</th>\n",
              "      <th>Gender_0</th>\n",
              "      <th>Gender_1</th>\n",
              "      <th>Loan_Amount_Term_0</th>\n",
              "      <th>Loan_Amount_Term_1</th>\n",
              "      <th>Loan_Amount_Term_2</th>\n",
              "      <th>Loan_Amount_Term_3</th>\n",
              "      <th>Loan_Amount_Term_4</th>\n",
              "      <th>Loan_Amount_Term_5</th>\n",
              "      <th>Loan_Amount_Term_6</th>\n",
              "      <th>Loan_Amount_Term_7</th>\n",
              "      <th>Loan_Amount_Term_8</th>\n",
              "      <th>Loan_Amount_Term_9</th>\n",
              "      <th>Education_0</th>\n",
              "      <th>Education_1</th>\n",
              "      <th>Dependents_0</th>\n",
              "      <th>Dependents_1</th>\n",
              "      <th>Dependents_2</th>\n",
              "      <th>Dependents_3</th>\n",
              "      <th>Married_0</th>\n",
              "      <th>Married_1</th>\n",
              "      <th>Credit_History_0</th>\n",
              "      <th>Credit_History_1</th>\n",
              "      <th>Property_Area_0</th>\n",
              "      <th>Property_Area_1</th>\n",
              "      <th>Property_Area_2</th>\n",
              "      <th>Self_Employed_0</th>\n",
              "      <th>Self_Employed_1</th>\n",
              "    </tr>\n",
              "  </thead>\n",
              "  <tbody>\n",
              "    <tr>\n",
              "      <th>0</th>\n",
              "      <td>5849</td>\n",
              "      <td>0.0</td>\n",
              "      <td>120.0</td>\n",
              "      <td>0.0</td>\n",
              "      <td>1.0</td>\n",
              "      <td>0.0</td>\n",
              "      <td>0.0</td>\n",
              "      <td>0.0</td>\n",
              "      <td>0.0</td>\n",
              "      <td>0.0</td>\n",
              "      <td>0.0</td>\n",
              "      <td>0.0</td>\n",
              "      <td>0.0</td>\n",
              "      <td>1.0</td>\n",
              "      <td>0.0</td>\n",
              "      <td>1.0</td>\n",
              "      <td>0.0</td>\n",
              "      <td>1.0</td>\n",
              "      <td>0.0</td>\n",
              "      <td>0.0</td>\n",
              "      <td>0.0</td>\n",
              "      <td>1.0</td>\n",
              "      <td>0.0</td>\n",
              "      <td>0.0</td>\n",
              "      <td>1.0</td>\n",
              "      <td>0.0</td>\n",
              "      <td>0.0</td>\n",
              "      <td>1.0</td>\n",
              "      <td>1.0</td>\n",
              "      <td>0.0</td>\n",
              "    </tr>\n",
              "    <tr>\n",
              "      <th>1</th>\n",
              "      <td>4583</td>\n",
              "      <td>1508.0</td>\n",
              "      <td>128.0</td>\n",
              "      <td>0.0</td>\n",
              "      <td>1.0</td>\n",
              "      <td>0.0</td>\n",
              "      <td>0.0</td>\n",
              "      <td>0.0</td>\n",
              "      <td>0.0</td>\n",
              "      <td>0.0</td>\n",
              "      <td>0.0</td>\n",
              "      <td>0.0</td>\n",
              "      <td>0.0</td>\n",
              "      <td>1.0</td>\n",
              "      <td>0.0</td>\n",
              "      <td>1.0</td>\n",
              "      <td>0.0</td>\n",
              "      <td>0.0</td>\n",
              "      <td>1.0</td>\n",
              "      <td>0.0</td>\n",
              "      <td>0.0</td>\n",
              "      <td>0.0</td>\n",
              "      <td>1.0</td>\n",
              "      <td>0.0</td>\n",
              "      <td>1.0</td>\n",
              "      <td>1.0</td>\n",
              "      <td>0.0</td>\n",
              "      <td>0.0</td>\n",
              "      <td>1.0</td>\n",
              "      <td>0.0</td>\n",
              "    </tr>\n",
              "    <tr>\n",
              "      <th>2</th>\n",
              "      <td>3000</td>\n",
              "      <td>0.0</td>\n",
              "      <td>66.0</td>\n",
              "      <td>0.0</td>\n",
              "      <td>1.0</td>\n",
              "      <td>0.0</td>\n",
              "      <td>0.0</td>\n",
              "      <td>0.0</td>\n",
              "      <td>0.0</td>\n",
              "      <td>0.0</td>\n",
              "      <td>0.0</td>\n",
              "      <td>0.0</td>\n",
              "      <td>0.0</td>\n",
              "      <td>1.0</td>\n",
              "      <td>0.0</td>\n",
              "      <td>1.0</td>\n",
              "      <td>0.0</td>\n",
              "      <td>1.0</td>\n",
              "      <td>0.0</td>\n",
              "      <td>0.0</td>\n",
              "      <td>0.0</td>\n",
              "      <td>0.0</td>\n",
              "      <td>1.0</td>\n",
              "      <td>0.0</td>\n",
              "      <td>1.0</td>\n",
              "      <td>0.0</td>\n",
              "      <td>0.0</td>\n",
              "      <td>1.0</td>\n",
              "      <td>0.0</td>\n",
              "      <td>1.0</td>\n",
              "    </tr>\n",
              "    <tr>\n",
              "      <th>3</th>\n",
              "      <td>2583</td>\n",
              "      <td>2358.0</td>\n",
              "      <td>120.0</td>\n",
              "      <td>0.0</td>\n",
              "      <td>1.0</td>\n",
              "      <td>0.0</td>\n",
              "      <td>0.0</td>\n",
              "      <td>0.0</td>\n",
              "      <td>0.0</td>\n",
              "      <td>0.0</td>\n",
              "      <td>0.0</td>\n",
              "      <td>0.0</td>\n",
              "      <td>0.0</td>\n",
              "      <td>1.0</td>\n",
              "      <td>0.0</td>\n",
              "      <td>0.0</td>\n",
              "      <td>1.0</td>\n",
              "      <td>1.0</td>\n",
              "      <td>0.0</td>\n",
              "      <td>0.0</td>\n",
              "      <td>0.0</td>\n",
              "      <td>0.0</td>\n",
              "      <td>1.0</td>\n",
              "      <td>0.0</td>\n",
              "      <td>1.0</td>\n",
              "      <td>0.0</td>\n",
              "      <td>0.0</td>\n",
              "      <td>1.0</td>\n",
              "      <td>1.0</td>\n",
              "      <td>0.0</td>\n",
              "    </tr>\n",
              "    <tr>\n",
              "      <th>4</th>\n",
              "      <td>6000</td>\n",
              "      <td>0.0</td>\n",
              "      <td>141.0</td>\n",
              "      <td>0.0</td>\n",
              "      <td>1.0</td>\n",
              "      <td>0.0</td>\n",
              "      <td>0.0</td>\n",
              "      <td>0.0</td>\n",
              "      <td>0.0</td>\n",
              "      <td>0.0</td>\n",
              "      <td>0.0</td>\n",
              "      <td>0.0</td>\n",
              "      <td>0.0</td>\n",
              "      <td>1.0</td>\n",
              "      <td>0.0</td>\n",
              "      <td>1.0</td>\n",
              "      <td>0.0</td>\n",
              "      <td>1.0</td>\n",
              "      <td>0.0</td>\n",
              "      <td>0.0</td>\n",
              "      <td>0.0</td>\n",
              "      <td>1.0</td>\n",
              "      <td>0.0</td>\n",
              "      <td>0.0</td>\n",
              "      <td>1.0</td>\n",
              "      <td>0.0</td>\n",
              "      <td>0.0</td>\n",
              "      <td>1.0</td>\n",
              "      <td>1.0</td>\n",
              "      <td>0.0</td>\n",
              "    </tr>\n",
              "  </tbody>\n",
              "</table>\n",
              "</div>"
            ],
            "text/plain": [
              "   ApplicantIncome  CoapplicantIncome  ...  Self_Employed_0  Self_Employed_1\n",
              "0             5849                0.0  ...              1.0              0.0\n",
              "1             4583             1508.0  ...              1.0              0.0\n",
              "2             3000                0.0  ...              0.0              1.0\n",
              "3             2583             2358.0  ...              1.0              0.0\n",
              "4             6000                0.0  ...              1.0              0.0\n",
              "\n",
              "[5 rows x 30 columns]"
            ]
          },
          "metadata": {
            "tags": []
          },
          "execution_count": 322
        }
      ]
    },
    {
      "cell_type": "code",
      "metadata": {
        "id": "T-AullG4vzEn",
        "colab_type": "code",
        "colab": {
          "base_uri": "https://localhost:8080/",
          "height": 153
        },
        "outputId": "33e1329c-ba48-43be-e323-861f7331ac16"
      },
      "source": [
        "## Logistic Regression test_size 0.25 EncodingType - OneHotEncoding\n",
        "x_train, x_test, y_train, y_test = train_test_split(dfHotEnc,tdf,test_size = 0.25, \\\n",
        "                                                    random_state = 30, stratify = tdf)\n",
        "model = LogisticRegression(random_state=30)\n",
        "model.fit(x_train, y_train['Loan_Status'])\n",
        "y_pred = model.predict(x_test)\n",
        "print(\"Confusion Matrix \\n %s\" % confusion_matrix(y_test,y_pred))\n",
        "print(\"Accuracy of LR Model: %s\" % accuracy_score(y_test, y_pred))\n",
        "print(\"Precision of LR Model: %s\" % precision_score(y_test, y_pred))\n",
        "print(\"Recall of LR Model: %s\" % recall_score(y_test, y_pred))\n",
        "print(\"F1 Score of LR Model: %s\" % f1_score(y_test, y_pred))\n",
        "print(\"ROC_AUC score of LR Model: %s\" % roc_auc_score(y_test,y_pred))\n"
      ],
      "execution_count": 336,
      "outputs": [
        {
          "output_type": "stream",
          "text": [
            "Confusion Matrix \n",
            " [[ 17  31]\n",
            " [  1 105]]\n",
            "Accuracy of LR Model: 0.7922077922077922\n",
            "Precision of LR Model: 0.7720588235294118\n",
            "Recall of LR Model: 0.9905660377358491\n",
            "F1 Score of LR Model: 0.8677685950413223\n",
            "ROC_AUC score of LR Model: 0.6723663522012578\n"
          ],
          "name": "stdout"
        }
      ]
    },
    {
      "cell_type": "code",
      "metadata": {
        "id": "wKdee2Tuv5Vi",
        "colab_type": "code",
        "colab": {
          "base_uri": "https://localhost:8080/",
          "height": 153
        },
        "outputId": "400500d2-6d57-4cfd-eed8-b942d2da4630"
      },
      "source": [
        "## Logistic Regression test_size 0.27 EncodingType - OneHotEncoding\n",
        "x_train, x_test, y_train, y_test = train_test_split(dfHotEnc,tdf,test_size = 0.27, \\\n",
        "                                                    random_state = 30, stratify = tdf)\n",
        "model = LogisticRegression(random_state=30)\n",
        "model.fit(x_train, y_train['Loan_Status'])\n",
        "y_pred = model.predict(x_test)\n",
        "print(\"Confusion Matrix \\n %s\" % confusion_matrix(y_test,y_pred))\n",
        "print(\"Accuracy of LR Model: %s\" % accuracy_score(y_test, y_pred))\n",
        "print(\"Precision of LR Model: %s\" % precision_score(y_test, y_pred))\n",
        "print(\"Recall of LR Model: %s\" % recall_score(y_test, y_pred))\n",
        "print(\"F1 Score of LR Model: %s\" % f1_score(y_test, y_pred))\n",
        "print(\"ROC_AUC score of LR Model: %s\" % roc_auc_score(y_test,y_pred))\n"
      ],
      "execution_count": 341,
      "outputs": [
        {
          "output_type": "stream",
          "text": [
            "Confusion Matrix \n",
            " [[ 19  33]\n",
            " [  1 113]]\n",
            "Accuracy of LR Model: 0.7951807228915663\n",
            "Precision of LR Model: 0.773972602739726\n",
            "Recall of LR Model: 0.9912280701754386\n",
            "F1 Score of LR Model: 0.8692307692307693\n",
            "ROC_AUC score of LR Model: 0.678306342780027\n"
          ],
          "name": "stdout"
        }
      ]
    },
    {
      "cell_type": "markdown",
      "metadata": {
        "id": "vw3S7FITwAna",
        "colab_type": "text"
      },
      "source": [
        "***4.Using RandomForest Classifier - Perform the parameter tuning and list your best performance metrics on -***\n",
        "\n",
        "*Precision ,Recall & F1 Score ,AUROC*"
      ]
    },
    {
      "cell_type": "code",
      "metadata": {
        "id": "vhY0VsxxwA45",
        "colab_type": "code",
        "colab": {
          "base_uri": "https://localhost:8080/",
          "height": 153
        },
        "outputId": "6695454a-b66c-4ad4-eb50-28595d83a5d7"
      },
      "source": [
        "## RandomForestClassifier test_size 0.25 EncodingType - OneHotEncoding\n",
        "x_train, x_test, y_train, y_test = train_test_split(dfEnc,tdf,test_size = 0.25, \\\n",
        "                                                    random_state = 30, stratify = tdf)\n",
        "model = RandomForestClassifier(random_state=30)\n",
        "model.fit(x_train,y_train['Loan_Status'])\n",
        "y_pred = model.predict(x_test)\n",
        "print(\"Confusion Matrix \\n %s\" % confusion_matrix(y_test,y_pred))\n",
        "print(\"Accuracy of RF Model: %s\" % accuracy_score(y_test, y_pred))\n",
        "print(\"Precision of RF Model: %s\" % precision_score(y_test, y_pred))\n",
        "print(\"Recall of RF Model: %s\" % recall_score(y_test, y_pred))\n",
        "print(\"F1 Score of RF Model: %s\" % f1_score(y_test, y_pred))\n",
        "print(\"ROC_AUC score of RF Model: %s\" % roc_auc_score(y_test,y_pred))"
      ],
      "execution_count": 338,
      "outputs": [
        {
          "output_type": "stream",
          "text": [
            "Confusion Matrix \n",
            " [[20 28]\n",
            " [ 8 98]]\n",
            "Accuracy of RF Model: 0.7662337662337663\n",
            "Precision of RF Model: 0.7777777777777778\n",
            "Recall of RF Model: 0.9245283018867925\n",
            "F1 Score of RF Model: 0.8448275862068966\n",
            "ROC_AUC score of RF Model: 0.6705974842767295\n"
          ],
          "name": "stdout"
        }
      ]
    },
    {
      "cell_type": "code",
      "metadata": {
        "id": "LJX23B4fwEk0",
        "colab_type": "code",
        "colab": {
          "base_uri": "https://localhost:8080/",
          "height": 153
        },
        "outputId": "1b849237-9fb2-4fe8-abb4-0c914b0f8194"
      },
      "source": [
        "## RandomForestClassifier test_size 0.27 EncodingType - OneHotEncoding\n",
        "x_train, x_test, y_train, y_test = train_test_split(dfEnc,tdf,test_size = 0.27, \\\n",
        "                                                    random_state = 30, stratify = tdf)\n",
        "model = RandomForestClassifier(random_state=30)\n",
        "model.fit(x_train,y_train['Loan_Status'])\n",
        "y_pred = model.predict(x_test)\n",
        "print(\"Confusion Matrix \\n %s\" % confusion_matrix(y_test,y_pred))\n",
        "print(\"Accuracy of RF Model: %s\" % accuracy_score(y_test, y_pred))\n",
        "print(\"Precision of RF Model: %s\" % precision_score(y_test, y_pred))\n",
        "print(\"Recall of RF Model: %s\" % recall_score(y_test, y_pred))\n",
        "print(\"F1 Score of RF Model: %s\" % f1_score(y_test, y_pred))\n",
        "print(\"ROC_AUC score of RF Model: %s\" % roc_auc_score(y_test,y_pred))"
      ],
      "execution_count": 339,
      "outputs": [
        {
          "output_type": "stream",
          "text": [
            "Confusion Matrix \n",
            " [[ 22  30]\n",
            " [  7 107]]\n",
            "Accuracy of RF Model: 0.7771084337349398\n",
            "Precision of RF Model: 0.781021897810219\n",
            "Recall of RF Model: 0.9385964912280702\n",
            "F1 Score of RF Model: 0.852589641434263\n",
            "ROC_AUC score of RF Model: 0.6808367071524967\n"
          ],
          "name": "stdout"
        }
      ]
    },
    {
      "cell_type": "markdown",
      "metadata": {
        "id": "W7oYoKIIyBhB",
        "colab_type": "text"
      },
      "source": [
        "In Logistic Regression:\n",
        "\n",
        "    In OneHotEncoding:\n",
        "    Performance Increased On Increasing test_size 0.25 -> 0.27\n",
        "\n",
        "    In Lab Encoding:\n",
        "    Performance Increased on Decreasing test_size 0.25 -> 0.20\n",
        "\n",
        "    So the best was OneHotEncoding here as the training data\n",
        "    it took was less and still gave better peroformance\n",
        "\n",
        "In RandomForestClassifier:\n",
        "\n",
        "    In Label Encoding :\n",
        "\n",
        "    Performance Decreased when test_size of dataset \n",
        "    was decreased from 0.25 -> 0.20\n",
        "\n",
        "    In OneHotEncoding:\n",
        "\n",
        "    Performance Increased when test_size of dataset\n",
        "    was increased from 0.25 -> 0.27 \n",
        "\n",
        "    So Random Classifier was best in OneHotEncoding for the same \n",
        "    reason i.e., increased dataset test_size and still accuracy\n",
        "    was improved "
      ]
    }
  ]
}