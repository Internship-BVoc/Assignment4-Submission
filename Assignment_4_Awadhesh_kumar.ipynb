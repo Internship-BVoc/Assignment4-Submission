{
  "nbformat": 4,
  "nbformat_minor": 0,
  "metadata": {
    "colab": {
      "name": "Assignment 4.Awadhesh kumar.ipynb",
      "provenance": []
    },
    "kernelspec": {
      "name": "python3",
      "display_name": "Python 3"
    }
  },
  "cells": [
    {
      "cell_type": "markdown",
      "metadata": {
        "id": "ujcQ4FhKVJAA",
        "colab_type": "text"
      },
      "source": [
        "*Awadhesh kumar"
      ]
    },
    {
      "cell_type": "code",
      "metadata": {
        "id": "dYqkfmDAVSh9",
        "colab_type": "code",
        "colab": {}
      },
      "source": [
        "import pandas as pd\n",
        "import numpy as np\n",
        "from scipy.stats import mstats\n",
        "import matplotlib.pyplot as plt\n",
        "from sklearn.preprocessing import LabelEncoder\n",
        "from sklearn.preprocessing import OneHotEncoder\n",
        "from sklearn.model_selection import train_test_split\n",
        "from sklearn.model_selection import GridSearchCV\n",
        "from sklearn.model_selection import RandomizedSearchCV\n",
        "from sklearn.metrics import *\n",
        "from sklearn.linear_model import LogisticRegression\n",
        "from sklearn.ensemble import RandomForestClassifier"
      ],
      "execution_count": 0,
      "outputs": []
    },
    {
      "cell_type": "code",
      "metadata": {
        "id": "9BsPI4VaVg8_",
        "colab_type": "code",
        "colab": {
          "base_uri": "https://localhost:8080/",
          "height": 235
        },
        "outputId": "f58e034c-cf8a-4a87-aaa2-6b70d31391d0"
      },
      "source": [
        "df = pd.read_csv('/content/dataset_model (1).csv')\n",
        "pd.set_option('display.max_rows', df.shape[0]+1)\n",
        "df.head()"
      ],
      "execution_count": 25,
      "outputs": [
        {
          "output_type": "execute_result",
          "data": {
            "text/html": [
              "<div>\n",
              "<style scoped>\n",
              "    .dataframe tbody tr th:only-of-type {\n",
              "        vertical-align: middle;\n",
              "    }\n",
              "\n",
              "    .dataframe tbody tr th {\n",
              "        vertical-align: top;\n",
              "    }\n",
              "\n",
              "    .dataframe thead th {\n",
              "        text-align: right;\n",
              "    }\n",
              "</style>\n",
              "<table border=\"1\" class=\"dataframe\">\n",
              "  <thead>\n",
              "    <tr style=\"text-align: right;\">\n",
              "      <th></th>\n",
              "      <th>Loan_ID</th>\n",
              "      <th>Gender</th>\n",
              "      <th>Married</th>\n",
              "      <th>Dependents</th>\n",
              "      <th>Education</th>\n",
              "      <th>Self_Employed</th>\n",
              "      <th>ApplicantIncome</th>\n",
              "      <th>CoapplicantIncome</th>\n",
              "      <th>LoanAmount</th>\n",
              "      <th>Loan_Amount_Term</th>\n",
              "      <th>Credit_History</th>\n",
              "      <th>Property_Area</th>\n",
              "      <th>Loan_Status</th>\n",
              "    </tr>\n",
              "  </thead>\n",
              "  <tbody>\n",
              "    <tr>\n",
              "      <th>0</th>\n",
              "      <td>LP001002</td>\n",
              "      <td>Male</td>\n",
              "      <td>No</td>\n",
              "      <td>0</td>\n",
              "      <td>Graduate</td>\n",
              "      <td>No</td>\n",
              "      <td>5849</td>\n",
              "      <td>0.0</td>\n",
              "      <td>NaN</td>\n",
              "      <td>360.0</td>\n",
              "      <td>1.0</td>\n",
              "      <td>Urban</td>\n",
              "      <td>Y</td>\n",
              "    </tr>\n",
              "    <tr>\n",
              "      <th>1</th>\n",
              "      <td>LP001003</td>\n",
              "      <td>Male</td>\n",
              "      <td>Yes</td>\n",
              "      <td>1</td>\n",
              "      <td>Graduate</td>\n",
              "      <td>No</td>\n",
              "      <td>4583</td>\n",
              "      <td>1508.0</td>\n",
              "      <td>128.0</td>\n",
              "      <td>360.0</td>\n",
              "      <td>1.0</td>\n",
              "      <td>Rural</td>\n",
              "      <td>N</td>\n",
              "    </tr>\n",
              "    <tr>\n",
              "      <th>2</th>\n",
              "      <td>LP001005</td>\n",
              "      <td>Male</td>\n",
              "      <td>Yes</td>\n",
              "      <td>0</td>\n",
              "      <td>Graduate</td>\n",
              "      <td>Yes</td>\n",
              "      <td>3000</td>\n",
              "      <td>0.0</td>\n",
              "      <td>66.0</td>\n",
              "      <td>360.0</td>\n",
              "      <td>1.0</td>\n",
              "      <td>Urban</td>\n",
              "      <td>Y</td>\n",
              "    </tr>\n",
              "    <tr>\n",
              "      <th>3</th>\n",
              "      <td>LP001006</td>\n",
              "      <td>Male</td>\n",
              "      <td>Yes</td>\n",
              "      <td>0</td>\n",
              "      <td>Not Graduate</td>\n",
              "      <td>No</td>\n",
              "      <td>2583</td>\n",
              "      <td>2358.0</td>\n",
              "      <td>120.0</td>\n",
              "      <td>360.0</td>\n",
              "      <td>1.0</td>\n",
              "      <td>Urban</td>\n",
              "      <td>Y</td>\n",
              "    </tr>\n",
              "    <tr>\n",
              "      <th>4</th>\n",
              "      <td>LP001008</td>\n",
              "      <td>Male</td>\n",
              "      <td>No</td>\n",
              "      <td>0</td>\n",
              "      <td>Graduate</td>\n",
              "      <td>No</td>\n",
              "      <td>6000</td>\n",
              "      <td>0.0</td>\n",
              "      <td>141.0</td>\n",
              "      <td>360.0</td>\n",
              "      <td>1.0</td>\n",
              "      <td>Urban</td>\n",
              "      <td>Y</td>\n",
              "    </tr>\n",
              "  </tbody>\n",
              "</table>\n",
              "</div>"
            ],
            "text/plain": [
              "    Loan_ID Gender Married  ... Credit_History Property_Area Loan_Status\n",
              "0  LP001002   Male      No  ...            1.0         Urban           Y\n",
              "1  LP001003   Male     Yes  ...            1.0         Rural           N\n",
              "2  LP001005   Male     Yes  ...            1.0         Urban           Y\n",
              "3  LP001006   Male     Yes  ...            1.0         Urban           Y\n",
              "4  LP001008   Male      No  ...            1.0         Urban           Y\n",
              "\n",
              "[5 rows x 13 columns]"
            ]
          },
          "metadata": {
            "tags": []
          },
          "execution_count": 25
        }
      ]
    },
    {
      "cell_type": "code",
      "metadata": {
        "id": "z6e-A4Z5VtSm",
        "colab_type": "code",
        "colab": {}
      },
      "source": [
        "#Removing Unique Variable\n",
        "uni_Var = [i for i in df.columns if df[i].unique().size == df.shape[0]]\n",
        "df = df.drop(uni_Var, axis=1)"
      ],
      "execution_count": 0,
      "outputs": []
    },
    {
      "cell_type": "code",
      "metadata": {
        "id": "UegOmsedV7kx",
        "colab_type": "code",
        "colab": {}
      },
      "source": [
        "#Removing Target Variable\n",
        "tar_Var = df['Loan_Status']\n",
        "df = df.drop(columns='Loan_Status')"
      ],
      "execution_count": 0,
      "outputs": []
    },
    {
      "cell_type": "markdown",
      "metadata": {
        "id": "yCTRL4_JWE1C",
        "colab_type": "text"
      },
      "source": [
        "**Detecting and Handling Outlier**"
      ]
    },
    {
      "cell_type": "code",
      "metadata": {
        "id": "6Mc1lMk7WH74",
        "colab_type": "code",
        "colab": {}
      },
      "source": [
        "cont_data = df._get_numeric_data().columns\n",
        "cont_data = cont_data.drop(['Loan_Amount_Term', 'Credit_History'])\n",
        "cat_data = list(set(df.columns) - set(cont_data))"
      ],
      "execution_count": 0,
      "outputs": []
    },
    {
      "cell_type": "code",
      "metadata": {
        "id": "qpuQHuIwWTJy",
        "colab_type": "code",
        "colab": {
          "base_uri": "https://localhost:8080/",
          "height": 146
        },
        "outputId": "16eb5c78-16ec-4b74-f112-b37db52ea1e6"
      },
      "source": [
        "#We consider a variable as a outlier if it lies outside of third standard deviation of the column. \n",
        "#Given below the number of outlier in each column\n",
        "thrs = 3\n",
        "out = []\n",
        "for i in cont_data:\n",
        "  out.clear()\n",
        "  print(i)\n",
        "  mean = np.mean(df[i])\n",
        "  std = np.std(df[i])\n",
        "  for j in df[i]:\n",
        "    z = (j - mean)/std\n",
        "    if np.abs(z) > thrs:\n",
        "      out.append(z)\n",
        "  print(out)"
      ],
      "execution_count": 29,
      "outputs": [
        {
          "output_type": "stream",
          "text": [
            "ApplicantIncome\n",
            "[3.0143095050697597, 5.667623383716305, 7.594863718885357, 4.659606571212465, 5.528044263896173, 9.490977255033487, 12.384622787173148, 5.294101795465248]\n",
            "CoapplicantIncome\n",
            "[3.1967125462128783, 3.3102609013326325, 6.285775026458728, 6.285775026458728, 11.018210537880542, 13.696173250494027]\n",
            "LoanAmount\n",
            "[5.8888825374459675, 5.304189848804997, 6.473575226086938, 4.076335202658959, 3.3863978300626143, 3.900927396066668, 4.017865933794862, 4.953374235620415, 3.023888363105213, 4.134804471523056, 3.900927396066668, 3.900927396066668, 5.304189848804997, 4.088029056431779]\n"
          ],
          "name": "stdout"
        }
      ]
    },
    {
      "cell_type": "markdown",
      "metadata": {
        "id": "lqRHY-r1Wk_l",
        "colab_type": "text"
      },
      "source": [
        "**Handling Outlier\n",
        "\n",
        " 1.Winsorizing**"
      ]
    },
    {
      "cell_type": "code",
      "metadata": {
        "id": "DrPB973_We7i",
        "colab_type": "code",
        "colab": {
          "base_uri": "https://localhost:8080/",
          "height": 90
        },
        "outputId": "5be2e9fe-59fc-4d10-f31a-5ecb57e00b8f"
      },
      "source": [
        "df_win = df.copy()\n",
        "df_win[cont_data].skew()"
      ],
      "execution_count": 30,
      "outputs": [
        {
          "output_type": "execute_result",
          "data": {
            "text/plain": [
              "ApplicantIncome      6.539513\n",
              "CoapplicantIncome    7.491531\n",
              "LoanAmount           2.677552\n",
              "dtype: float64"
            ]
          },
          "metadata": {
            "tags": []
          },
          "execution_count": 30
        }
      ]
    },
    {
      "cell_type": "code",
      "metadata": {
        "id": "QDhe8q-eW4A4",
        "colab_type": "code",
        "colab": {
          "base_uri": "https://localhost:8080/",
          "height": 235
        },
        "outputId": "b823edfb-c74d-4d81-9b25-b21414640585"
      },
      "source": [
        "for i in cont_data:\n",
        "  df_win[i] = mstats.winsorize(df_win[i], limits=[0.05,0.1])\n",
        "df_win.head()"
      ],
      "execution_count": 12,
      "outputs": [
        {
          "output_type": "execute_result",
          "data": {
            "text/html": [
              "<div>\n",
              "<style scoped>\n",
              "    .dataframe tbody tr th:only-of-type {\n",
              "        vertical-align: middle;\n",
              "    }\n",
              "\n",
              "    .dataframe tbody tr th {\n",
              "        vertical-align: top;\n",
              "    }\n",
              "\n",
              "    .dataframe thead th {\n",
              "        text-align: right;\n",
              "    }\n",
              "</style>\n",
              "<table border=\"1\" class=\"dataframe\">\n",
              "  <thead>\n",
              "    <tr style=\"text-align: right;\">\n",
              "      <th></th>\n",
              "      <th>Gender</th>\n",
              "      <th>Married</th>\n",
              "      <th>Dependents</th>\n",
              "      <th>Education</th>\n",
              "      <th>Self_Employed</th>\n",
              "      <th>ApplicantIncome</th>\n",
              "      <th>CoapplicantIncome</th>\n",
              "      <th>LoanAmount</th>\n",
              "      <th>Loan_Amount_Term</th>\n",
              "      <th>Credit_History</th>\n",
              "      <th>Property_Area</th>\n",
              "    </tr>\n",
              "  </thead>\n",
              "  <tbody>\n",
              "    <tr>\n",
              "      <th>0</th>\n",
              "      <td>Male</td>\n",
              "      <td>No</td>\n",
              "      <td>0</td>\n",
              "      <td>Graduate</td>\n",
              "      <td>No</td>\n",
              "      <td>5849</td>\n",
              "      <td>0.0</td>\n",
              "      <td>267.0</td>\n",
              "      <td>360.0</td>\n",
              "      <td>1.0</td>\n",
              "      <td>Urban</td>\n",
              "    </tr>\n",
              "    <tr>\n",
              "      <th>1</th>\n",
              "      <td>Male</td>\n",
              "      <td>Yes</td>\n",
              "      <td>1</td>\n",
              "      <td>Graduate</td>\n",
              "      <td>No</td>\n",
              "      <td>4583</td>\n",
              "      <td>1508.0</td>\n",
              "      <td>128.0</td>\n",
              "      <td>360.0</td>\n",
              "      <td>1.0</td>\n",
              "      <td>Rural</td>\n",
              "    </tr>\n",
              "    <tr>\n",
              "      <th>2</th>\n",
              "      <td>Male</td>\n",
              "      <td>Yes</td>\n",
              "      <td>0</td>\n",
              "      <td>Graduate</td>\n",
              "      <td>Yes</td>\n",
              "      <td>3000</td>\n",
              "      <td>0.0</td>\n",
              "      <td>66.0</td>\n",
              "      <td>360.0</td>\n",
              "      <td>1.0</td>\n",
              "      <td>Urban</td>\n",
              "    </tr>\n",
              "    <tr>\n",
              "      <th>3</th>\n",
              "      <td>Male</td>\n",
              "      <td>Yes</td>\n",
              "      <td>0</td>\n",
              "      <td>Not Graduate</td>\n",
              "      <td>No</td>\n",
              "      <td>2583</td>\n",
              "      <td>2358.0</td>\n",
              "      <td>120.0</td>\n",
              "      <td>360.0</td>\n",
              "      <td>1.0</td>\n",
              "      <td>Urban</td>\n",
              "    </tr>\n",
              "    <tr>\n",
              "      <th>4</th>\n",
              "      <td>Male</td>\n",
              "      <td>No</td>\n",
              "      <td>0</td>\n",
              "      <td>Graduate</td>\n",
              "      <td>No</td>\n",
              "      <td>6000</td>\n",
              "      <td>0.0</td>\n",
              "      <td>141.0</td>\n",
              "      <td>360.0</td>\n",
              "      <td>1.0</td>\n",
              "      <td>Urban</td>\n",
              "    </tr>\n",
              "  </tbody>\n",
              "</table>\n",
              "</div>"
            ],
            "text/plain": [
              "  Gender Married Dependents  ... Loan_Amount_Term Credit_History  Property_Area\n",
              "0   Male      No          0  ...            360.0            1.0          Urban\n",
              "1   Male     Yes          1  ...            360.0            1.0          Rural\n",
              "2   Male     Yes          0  ...            360.0            1.0          Urban\n",
              "3   Male     Yes          0  ...            360.0            1.0          Urban\n",
              "4   Male      No          0  ...            360.0            1.0          Urban\n",
              "\n",
              "[5 rows x 11 columns]"
            ]
          },
          "metadata": {
            "tags": []
          },
          "execution_count": 12
        }
      ]
    },
    {
      "cell_type": "code",
      "metadata": {
        "id": "X7nlBxDcXGVO",
        "colab_type": "code",
        "colab": {
          "base_uri": "https://localhost:8080/",
          "height": 90
        },
        "outputId": "06c1f9cc-f443-4751-e7fa-48cb2b141364"
      },
      "source": [
        "df_win[cont_data].skew()"
      ],
      "execution_count": 31,
      "outputs": [
        {
          "output_type": "execute_result",
          "data": {
            "text/plain": [
              "ApplicantIncome      6.539513\n",
              "CoapplicantIncome    7.491531\n",
              "LoanAmount           2.677552\n",
              "dtype: float64"
            ]
          },
          "metadata": {
            "tags": []
          },
          "execution_count": 31
        }
      ]
    },
    {
      "cell_type": "markdown",
      "metadata": {
        "id": "NEf7bKRnXP58",
        "colab_type": "text"
      },
      "source": [
        "**Handling Missing Values**"
      ]
    },
    {
      "cell_type": "code",
      "metadata": {
        "id": "2DfE-uP-XSkI",
        "colab_type": "code",
        "colab": {
          "base_uri": "https://localhost:8080/",
          "height": 126
        },
        "outputId": "d117e072-386b-4e67-a6e9-674f0cb1070b"
      },
      "source": [
        "miss_data=[]\n",
        "for i in df_win.columns:\n",
        "  if df_win[i].isnull().sum() > 0:\n",
        "    miss_data.append(i)\n",
        "miss_data.remove('Loan_Amount_Term')\n",
        "miss_data"
      ],
      "execution_count": 32,
      "outputs": [
        {
          "output_type": "execute_result",
          "data": {
            "text/plain": [
              "['Gender',\n",
              " 'Married',\n",
              " 'Dependents',\n",
              " 'Self_Employed',\n",
              " 'LoanAmount',\n",
              " 'Credit_History']"
            ]
          },
          "metadata": {
            "tags": []
          },
          "execution_count": 32
        }
      ]
    },
    {
      "cell_type": "code",
      "metadata": {
        "id": "i_EWKBsGXbeu",
        "colab_type": "code",
        "colab": {
          "base_uri": "https://localhost:8080/",
          "height": 235
        },
        "outputId": "3cf13422-a630-4558-b290-426e83b32634"
      },
      "source": [
        "#Using mode for categorical data, and interpolate for numerical value, as it gives more accuracy in the model\n",
        "for i in miss_data:\n",
        "  df_win[i] = df_win[i].fillna(df_win[i].mode()[0])\n",
        "df_win[miss_data]\n",
        "df_win['Loan_Amount_Term'] = df_win['Loan_Amount_Term'].fillna(df_win['Loan_Amount_Term'].interpolate())\n",
        "df_win.head()"
      ],
      "execution_count": 33,
      "outputs": [
        {
          "output_type": "execute_result",
          "data": {
            "text/html": [
              "<div>\n",
              "<style scoped>\n",
              "    .dataframe tbody tr th:only-of-type {\n",
              "        vertical-align: middle;\n",
              "    }\n",
              "\n",
              "    .dataframe tbody tr th {\n",
              "        vertical-align: top;\n",
              "    }\n",
              "\n",
              "    .dataframe thead th {\n",
              "        text-align: right;\n",
              "    }\n",
              "</style>\n",
              "<table border=\"1\" class=\"dataframe\">\n",
              "  <thead>\n",
              "    <tr style=\"text-align: right;\">\n",
              "      <th></th>\n",
              "      <th>Gender</th>\n",
              "      <th>Married</th>\n",
              "      <th>Dependents</th>\n",
              "      <th>Education</th>\n",
              "      <th>Self_Employed</th>\n",
              "      <th>ApplicantIncome</th>\n",
              "      <th>CoapplicantIncome</th>\n",
              "      <th>LoanAmount</th>\n",
              "      <th>Loan_Amount_Term</th>\n",
              "      <th>Credit_History</th>\n",
              "      <th>Property_Area</th>\n",
              "    </tr>\n",
              "  </thead>\n",
              "  <tbody>\n",
              "    <tr>\n",
              "      <th>0</th>\n",
              "      <td>Male</td>\n",
              "      <td>No</td>\n",
              "      <td>0</td>\n",
              "      <td>Graduate</td>\n",
              "      <td>No</td>\n",
              "      <td>5849</td>\n",
              "      <td>0.0</td>\n",
              "      <td>120.0</td>\n",
              "      <td>360.0</td>\n",
              "      <td>1.0</td>\n",
              "      <td>Urban</td>\n",
              "    </tr>\n",
              "    <tr>\n",
              "      <th>1</th>\n",
              "      <td>Male</td>\n",
              "      <td>Yes</td>\n",
              "      <td>1</td>\n",
              "      <td>Graduate</td>\n",
              "      <td>No</td>\n",
              "      <td>4583</td>\n",
              "      <td>1508.0</td>\n",
              "      <td>128.0</td>\n",
              "      <td>360.0</td>\n",
              "      <td>1.0</td>\n",
              "      <td>Rural</td>\n",
              "    </tr>\n",
              "    <tr>\n",
              "      <th>2</th>\n",
              "      <td>Male</td>\n",
              "      <td>Yes</td>\n",
              "      <td>0</td>\n",
              "      <td>Graduate</td>\n",
              "      <td>Yes</td>\n",
              "      <td>3000</td>\n",
              "      <td>0.0</td>\n",
              "      <td>66.0</td>\n",
              "      <td>360.0</td>\n",
              "      <td>1.0</td>\n",
              "      <td>Urban</td>\n",
              "    </tr>\n",
              "    <tr>\n",
              "      <th>3</th>\n",
              "      <td>Male</td>\n",
              "      <td>Yes</td>\n",
              "      <td>0</td>\n",
              "      <td>Not Graduate</td>\n",
              "      <td>No</td>\n",
              "      <td>2583</td>\n",
              "      <td>2358.0</td>\n",
              "      <td>120.0</td>\n",
              "      <td>360.0</td>\n",
              "      <td>1.0</td>\n",
              "      <td>Urban</td>\n",
              "    </tr>\n",
              "    <tr>\n",
              "      <th>4</th>\n",
              "      <td>Male</td>\n",
              "      <td>No</td>\n",
              "      <td>0</td>\n",
              "      <td>Graduate</td>\n",
              "      <td>No</td>\n",
              "      <td>6000</td>\n",
              "      <td>0.0</td>\n",
              "      <td>141.0</td>\n",
              "      <td>360.0</td>\n",
              "      <td>1.0</td>\n",
              "      <td>Urban</td>\n",
              "    </tr>\n",
              "  </tbody>\n",
              "</table>\n",
              "</div>"
            ],
            "text/plain": [
              "  Gender Married Dependents  ... Loan_Amount_Term Credit_History  Property_Area\n",
              "0   Male      No          0  ...            360.0            1.0          Urban\n",
              "1   Male     Yes          1  ...            360.0            1.0          Rural\n",
              "2   Male     Yes          0  ...            360.0            1.0          Urban\n",
              "3   Male     Yes          0  ...            360.0            1.0          Urban\n",
              "4   Male      No          0  ...            360.0            1.0          Urban\n",
              "\n",
              "[5 rows x 11 columns]"
            ]
          },
          "metadata": {
            "tags": []
          },
          "execution_count": 33
        }
      ]
    },
    {
      "cell_type": "markdown",
      "metadata": {
        "id": "xpOkpLz0Xm0s",
        "colab_type": "text"
      },
      "source": [
        "**Encoding\n",
        "1.Target Variable**"
      ]
    },
    {
      "cell_type": "code",
      "metadata": {
        "id": "3XFxpDrxYHZP",
        "colab_type": "code",
        "colab": {
          "base_uri": "https://localhost:8080/",
          "height": 198
        },
        "outputId": "069dbcea-a2ba-4c23-e0f4-a16f7c09356e"
      },
      "source": [
        "lE = LabelEncoder()\n",
        "en_Tar_Var = pd.DataFrame(lE.fit_transform(tar_Var))\n",
        "en_Tar_Var.columns =(['Loan_Status'])\n",
        "en_Tar_Var.head()"
      ],
      "execution_count": 34,
      "outputs": [
        {
          "output_type": "execute_result",
          "data": {
            "text/html": [
              "<div>\n",
              "<style scoped>\n",
              "    .dataframe tbody tr th:only-of-type {\n",
              "        vertical-align: middle;\n",
              "    }\n",
              "\n",
              "    .dataframe tbody tr th {\n",
              "        vertical-align: top;\n",
              "    }\n",
              "\n",
              "    .dataframe thead th {\n",
              "        text-align: right;\n",
              "    }\n",
              "</style>\n",
              "<table border=\"1\" class=\"dataframe\">\n",
              "  <thead>\n",
              "    <tr style=\"text-align: right;\">\n",
              "      <th></th>\n",
              "      <th>Loan_Status</th>\n",
              "    </tr>\n",
              "  </thead>\n",
              "  <tbody>\n",
              "    <tr>\n",
              "      <th>0</th>\n",
              "      <td>1</td>\n",
              "    </tr>\n",
              "    <tr>\n",
              "      <th>1</th>\n",
              "      <td>0</td>\n",
              "    </tr>\n",
              "    <tr>\n",
              "      <th>2</th>\n",
              "      <td>1</td>\n",
              "    </tr>\n",
              "    <tr>\n",
              "      <th>3</th>\n",
              "      <td>1</td>\n",
              "    </tr>\n",
              "    <tr>\n",
              "      <th>4</th>\n",
              "      <td>1</td>\n",
              "    </tr>\n",
              "  </tbody>\n",
              "</table>\n",
              "</div>"
            ],
            "text/plain": [
              "   Loan_Status\n",
              "0            1\n",
              "1            0\n",
              "2            1\n",
              "3            1\n",
              "4            1"
            ]
          },
          "metadata": {
            "tags": []
          },
          "execution_count": 34
        }
      ]
    },
    {
      "cell_type": "code",
      "metadata": {
        "id": "yLsAWbrFZj1b",
        "colab_type": "code",
        "colab": {
          "base_uri": "https://localhost:8080/",
          "height": 35
        },
        "outputId": "e4e28d24-4470-4be7-c67b-04fb2bfab868"
      },
      "source": [
        "df_win_lE = df_win.copy()\n",
        "df_win_lE.shape"
      ],
      "execution_count": 35,
      "outputs": [
        {
          "output_type": "execute_result",
          "data": {
            "text/plain": [
              "(614, 11)"
            ]
          },
          "metadata": {
            "tags": []
          },
          "execution_count": 35
        }
      ]
    },
    {
      "cell_type": "code",
      "metadata": {
        "id": "Hg_oAxsvZowx",
        "colab_type": "code",
        "colab": {
          "base_uri": "https://localhost:8080/",
          "height": 218
        },
        "outputId": "94ffba26-e15b-4152-af61-9042a6c44d10"
      },
      "source": [
        "for i in cat_data:\n",
        "  df_win_lE[i] = lE.fit_transform(df_win_lE[i])\n",
        "df_win_lE.head()"
      ],
      "execution_count": 36,
      "outputs": [
        {
          "output_type": "execute_result",
          "data": {
            "text/html": [
              "<div>\n",
              "<style scoped>\n",
              "    .dataframe tbody tr th:only-of-type {\n",
              "        vertical-align: middle;\n",
              "    }\n",
              "\n",
              "    .dataframe tbody tr th {\n",
              "        vertical-align: top;\n",
              "    }\n",
              "\n",
              "    .dataframe thead th {\n",
              "        text-align: right;\n",
              "    }\n",
              "</style>\n",
              "<table border=\"1\" class=\"dataframe\">\n",
              "  <thead>\n",
              "    <tr style=\"text-align: right;\">\n",
              "      <th></th>\n",
              "      <th>Gender</th>\n",
              "      <th>Married</th>\n",
              "      <th>Dependents</th>\n",
              "      <th>Education</th>\n",
              "      <th>Self_Employed</th>\n",
              "      <th>ApplicantIncome</th>\n",
              "      <th>CoapplicantIncome</th>\n",
              "      <th>LoanAmount</th>\n",
              "      <th>Loan_Amount_Term</th>\n",
              "      <th>Credit_History</th>\n",
              "      <th>Property_Area</th>\n",
              "    </tr>\n",
              "  </thead>\n",
              "  <tbody>\n",
              "    <tr>\n",
              "      <th>0</th>\n",
              "      <td>1</td>\n",
              "      <td>0</td>\n",
              "      <td>0</td>\n",
              "      <td>0</td>\n",
              "      <td>0</td>\n",
              "      <td>5849</td>\n",
              "      <td>0.0</td>\n",
              "      <td>120.0</td>\n",
              "      <td>10</td>\n",
              "      <td>1</td>\n",
              "      <td>2</td>\n",
              "    </tr>\n",
              "    <tr>\n",
              "      <th>1</th>\n",
              "      <td>1</td>\n",
              "      <td>1</td>\n",
              "      <td>1</td>\n",
              "      <td>0</td>\n",
              "      <td>0</td>\n",
              "      <td>4583</td>\n",
              "      <td>1508.0</td>\n",
              "      <td>128.0</td>\n",
              "      <td>10</td>\n",
              "      <td>1</td>\n",
              "      <td>0</td>\n",
              "    </tr>\n",
              "    <tr>\n",
              "      <th>2</th>\n",
              "      <td>1</td>\n",
              "      <td>1</td>\n",
              "      <td>0</td>\n",
              "      <td>0</td>\n",
              "      <td>1</td>\n",
              "      <td>3000</td>\n",
              "      <td>0.0</td>\n",
              "      <td>66.0</td>\n",
              "      <td>10</td>\n",
              "      <td>1</td>\n",
              "      <td>2</td>\n",
              "    </tr>\n",
              "    <tr>\n",
              "      <th>3</th>\n",
              "      <td>1</td>\n",
              "      <td>1</td>\n",
              "      <td>0</td>\n",
              "      <td>1</td>\n",
              "      <td>0</td>\n",
              "      <td>2583</td>\n",
              "      <td>2358.0</td>\n",
              "      <td>120.0</td>\n",
              "      <td>10</td>\n",
              "      <td>1</td>\n",
              "      <td>2</td>\n",
              "    </tr>\n",
              "    <tr>\n",
              "      <th>4</th>\n",
              "      <td>1</td>\n",
              "      <td>0</td>\n",
              "      <td>0</td>\n",
              "      <td>0</td>\n",
              "      <td>0</td>\n",
              "      <td>6000</td>\n",
              "      <td>0.0</td>\n",
              "      <td>141.0</td>\n",
              "      <td>10</td>\n",
              "      <td>1</td>\n",
              "      <td>2</td>\n",
              "    </tr>\n",
              "  </tbody>\n",
              "</table>\n",
              "</div>"
            ],
            "text/plain": [
              "   Gender  Married  Dependents  ...  Loan_Amount_Term  Credit_History  Property_Area\n",
              "0       1        0           0  ...                10               1              2\n",
              "1       1        1           1  ...                10               1              0\n",
              "2       1        1           0  ...                10               1              2\n",
              "3       1        1           0  ...                10               1              2\n",
              "4       1        0           0  ...                10               1              2\n",
              "\n",
              "[5 rows x 11 columns]"
            ]
          },
          "metadata": {
            "tags": []
          },
          "execution_count": 36
        }
      ]
    },
    {
      "cell_type": "code",
      "metadata": {
        "id": "8mHHMyU1ZqyQ",
        "colab_type": "code",
        "colab": {
          "base_uri": "https://localhost:8080/",
          "height": 35
        },
        "outputId": "990f043c-e37e-40b7-ec05-915682239962"
      },
      "source": [
        "df_win_lE.shape"
      ],
      "execution_count": 37,
      "outputs": [
        {
          "output_type": "execute_result",
          "data": {
            "text/plain": [
              "(614, 11)"
            ]
          },
          "metadata": {
            "tags": []
          },
          "execution_count": 37
        }
      ]
    },
    {
      "cell_type": "markdown",
      "metadata": {
        "id": "U9phVSazZzYI",
        "colab_type": "text"
      },
      "source": [
        "**Splitting Data**"
      ]
    },
    {
      "cell_type": "code",
      "metadata": {
        "id": "MWS0Yu40Z3DO",
        "colab_type": "code",
        "colab": {}
      },
      "source": [
        "#Splitting in 20% as test size and 80% as train size\n",
        "X_train, X_test, y_train, y_test = train_test_split(df_win_lE, en_Tar_Var, test_size=0.20, random_state=42, stratify=en_Tar_Var)"
      ],
      "execution_count": 0,
      "outputs": []
    },
    {
      "cell_type": "markdown",
      "metadata": {
        "id": "oNz1zMQLaAfg",
        "colab_type": "text"
      },
      "source": [
        "**Logistic Regression**"
      ]
    },
    {
      "cell_type": "code",
      "metadata": {
        "id": "zRNDY4JhaEMu",
        "colab_type": "code",
        "colab": {}
      },
      "source": [
        "#Training on default parameter\n",
        "log_reg = LogisticRegression()\n",
        "log_reg.fit(X_train, y_train)"
      ],
      "execution_count": 0,
      "outputs": []
    },
    {
      "cell_type": "markdown",
      "metadata": {
        "id": "j0E5_08gaUwt",
        "colab_type": "text"
      },
      "source": [
        "**Using RandomSearchCV\n",
        "1.To get the best combination of the parameter**"
      ]
    },
    {
      "cell_type": "code",
      "metadata": {
        "id": "ERtWnomkafcY",
        "colab_type": "code",
        "colab": {}
      },
      "source": [
        "#RandomSearchCV\n",
        "\n",
        "para=[{\n",
        "       'multi_class':['auto','ovr', 'multinomial'],\n",
        "       'class_weight':['Balanced'],\n",
        "       'l1_ratio' : [0.1,0.2,0.3,0.4,0.5,0.6,0.7,0.8,0.9],\n",
        "       'solver':['newton-cg', 'lbfgs', 'liblinear', 'sag', 'saga'],\n",
        "       'dual':[True, False],\n",
        "       'max_iter':[50,100,200,250, 1000]}\n",
        "      ]\n",
        "\n",
        "rSCV = RandomizedSearchCV(log_reg, param_distributions=para, n_iter=50, cv=4, n_jobs=-1)\n",
        "\n",
        "rSCV.fit(X_train, y_train)\n",
        "y_pred1 = rSCV.predict(X_test)"
      ],
      "execution_count": 0,
      "outputs": []
    },
    {
      "cell_type": "code",
      "metadata": {
        "id": "ofToeuPkaq_E",
        "colab_type": "code",
        "colab": {
          "base_uri": "https://localhost:8080/",
          "height": 217
        },
        "outputId": "9947b4bc-faf9-40f9-b1fa-6df9e2722656"
      },
      "source": [
        "print(\"Confusion Matrix:\\n\"+str(confusion_matrix(y_test, y_pred1)))\n",
        "print(\"Accuracy of Dtree Model:\")\n",
        "print(\"%.2f\"%round(accuracy_score(y_test, y_pred1)*100,2) + '%')\n",
        "print(\"Precision of DTree Model:\")\n",
        "print (\"%.2f\" % round(precision_score(y_test, y_pred1)*100) + '%')\n",
        "print (\"Recall of DTree Model:\" )\n",
        "print(\"%.2f\" % round(recall_score(y_test, y_pred1)*100) + '%')\n",
        "print (\"F1 Score of DTree Model:\")\n",
        "print (\"%.2f\" % round(f1_score(y_test, y_pred1)*100) + '%')"
      ],
      "execution_count": 41,
      "outputs": [
        {
          "output_type": "stream",
          "text": [
            "Confusion Matrix:\n",
            "[[22 16]\n",
            " [ 1 84]]\n",
            "Accuracy of Dtree Model:\n",
            "86.18%\n",
            "Precision of DTree Model:\n",
            "84.00%\n",
            "Recall of DTree Model:\n",
            "99.00%\n",
            "F1 Score of DTree Model:\n",
            "91.00%\n"
          ],
          "name": "stdout"
        }
      ]
    },
    {
      "cell_type": "code",
      "metadata": {
        "id": "zzKZBkpIaw66",
        "colab_type": "code",
        "colab": {
          "base_uri": "https://localhost:8080/",
          "height": 54
        },
        "outputId": "73e6fe33-834b-44e5-d7ac-7e1792b4ccc9"
      },
      "source": [
        "print(\"Auroc Value:\\n\"+str(round(roc_auc_score(y_test,y_pred1)*100)) + '%')"
      ],
      "execution_count": 43,
      "outputs": [
        {
          "output_type": "stream",
          "text": [
            "Auroc Value:\n",
            "78.0%\n"
          ],
          "name": "stdout"
        }
      ]
    },
    {
      "cell_type": "markdown",
      "metadata": {
        "id": "Q_ydvcK5a-qB",
        "colab_type": "text"
      },
      "source": [
        "**AUROC curve for LogisticRegression with LabelEncoder Dataset**"
      ]
    },
    {
      "cell_type": "code",
      "metadata": {
        "id": "6wYesC99bEF4",
        "colab_type": "code",
        "colab": {
          "base_uri": "https://localhost:8080/",
          "height": 297
        },
        "outputId": "d28805dc-7bb7-45a4-ff5e-d761d01e8909"
      },
      "source": [
        "fpr, tpr, thresholds = roc_curve(y_test,y_pred1)\n",
        "plt.figure(1)\n",
        "plt.plot([0, 1], [0, 1], 'k--')\n",
        "plt.plot(fpr, tpr, label='ROC curve (area = %0.2f)'% roc_auc_score(y_test,y_pred1))\n",
        "plt.xlabel('False positive rate')\n",
        "plt.ylabel('True positive rate')\n",
        "plt.legend(loc='best')"
      ],
      "execution_count": 44,
      "outputs": [
        {
          "output_type": "execute_result",
          "data": {
            "text/plain": [
              "<matplotlib.legend.Legend at 0x7fe991f5a630>"
            ]
          },
          "metadata": {
            "tags": []
          },
          "execution_count": 44
        },
        {
          "output_type": "display_data",
          "data": {
            "image/png": "[encoded data removed]",
            "text/plain": [
              "<Figure size 432x288 with 1 Axes>"
            ]
          },
          "metadata": {
            "tags": [],
            "needs_background": "light"
          }
        }
      ]
    },
    {
      "cell_type": "markdown",
      "metadata": {
        "id": "XGZVFxYrbLxf",
        "colab_type": "text"
      },
      "source": [
        "**Random Forest Classifier**"
      ]
    },
    {
      "cell_type": "code",
      "metadata": {
        "id": "Wt_O5u8nbOZD",
        "colab_type": "code",
        "colab": {}
      },
      "source": [
        "rFC = RandomForestClassifier(random_state=50)\n",
        "rFC.fit(X_train, y_train)"
      ],
      "execution_count": 0,
      "outputs": []
    },
    {
      "cell_type": "code",
      "metadata": {
        "id": "N1AAl0G9bYuv",
        "colab_type": "code",
        "colab": {}
      },
      "source": [
        "from scipy.stats import randint\n",
        "para_rFC=[{'n_estimators':[100,200,300,400,500],\n",
        "       'criterion' : ['gini','entropy'],\n",
        "       'max_depth' : [2,3,5,10,30,50],\n",
        "       'bootstrap' : [True,False],\n",
        "       'min_samples_leaf' : randint(1,4),\n",
        "       'oob_score' : [True,False],\n",
        "       'class_weight' : ['balanced', 'balanced-subsample']}]\n",
        "\n",
        "rSCV2 = RandomizedSearchCV(rFC, param_distributions=para_rFC, n_iter=40, cv=4, n_jobs=-1)\n",
        "rSCV2.fit(X_train, y_train)\n",
        "y_pred2 = rSCV2.predict(X_test)"
      ],
      "execution_count": 0,
      "outputs": []
    },
    {
      "cell_type": "code",
      "metadata": {
        "id": "fkUwzcv8bg3b",
        "colab_type": "code",
        "colab": {
          "base_uri": "https://localhost:8080/",
          "height": 217
        },
        "outputId": "ffa33f9a-531a-424a-9f06-d5ac3edce793"
      },
      "source": [
        "print(\"Confusion Matrix:\\n\"+str(confusion_matrix(y_test, y_pred2)))\n",
        "print(\"Accuracy of Dtree Model:\")\n",
        "print(\"%.2f\"%round(accuracy_score(y_test, y_pred2)*100,2) + '%')\n",
        "print(\"Precision of DTree Model:\")\n",
        "print (\"%.2f\" % round(precision_score(y_test, y_pred2)*100) + '%')\n",
        "print (\"Recall of DTree Model:\" )\n",
        "print(\"%.2f\" % round(recall_score(y_test, y_pred2)*100) + '%')\n",
        "print (\"F1 Score of DTree Model:\")\n",
        "print (\"%.2f\" % round(f1_score(y_test, y_pred2)*100) + '%')"
      ],
      "execution_count": 47,
      "outputs": [
        {
          "output_type": "stream",
          "text": [
            "Confusion Matrix:\n",
            "[[22 16]\n",
            " [ 2 83]]\n",
            "Accuracy of Dtree Model:\n",
            "85.37%\n",
            "Precision of DTree Model:\n",
            "84.00%\n",
            "Recall of DTree Model:\n",
            "98.00%\n",
            "F1 Score of DTree Model:\n",
            "90.00%\n"
          ],
          "name": "stdout"
        }
      ]
    },
    {
      "cell_type": "markdown",
      "metadata": {
        "id": "vzshvEFBbqm3",
        "colab_type": "text"
      },
      "source": [
        "**AUROC curve for RandomForestClassifier with LabelEncoded Dataset**"
      ]
    },
    {
      "cell_type": "code",
      "metadata": {
        "id": "Q6bNgflkbqNH",
        "colab_type": "code",
        "colab": {
          "base_uri": "https://localhost:8080/",
          "height": 334
        },
        "outputId": "45101208-35fb-431b-c20e-7c6dea522c09"
      },
      "source": [
        "print(\"AUROC Value:\\n\"+str(round(roc_auc_score(y_test,y_pred2)*100)) + '%')\n",
        "fpr, tpr, thresholds = roc_curve(y_test,y_pred2)\n",
        "plt.figure(1)\n",
        "plt.plot([0, 1], [0, 1], 'k--')\n",
        "plt.plot(fpr, tpr, label='ROC curve (area = %0.2f)'% round(roc_auc_score(y_test,y_pred2)*100) + '%')\n",
        "plt.xlabel('False positive rate')\n",
        "plt.ylabel('True positive rate')\n",
        "plt.legend(loc='best')"
      ],
      "execution_count": 48,
      "outputs": [
        {
          "output_type": "stream",
          "text": [
            "AUROC Value:\n",
            "78.0%\n"
          ],
          "name": "stdout"
        },
        {
          "output_type": "execute_result",
          "data": {
            "text/plain": [
              "<matplotlib.legend.Legend at 0x7fe990c65b00>"
            ]
          },
          "metadata": {
            "tags": []
          },
          "execution_count": 48
        },
        {
          "output_type": "display_data",
          "data": {
            "image/png": "[encoded data removed]",
            "text/plain": [
              "<Figure size 432x288 with 1 Axes>"
            ]
          },
          "metadata": {
            "tags": [],
            "needs_background": "light"
          }
        }
      ]
    },
    {
      "cell_type": "markdown",
      "metadata": {
        "id": "CMKauY3gby_J",
        "colab_type": "text"
      },
      "source": [
        "**OneHot Encoding**"
      ]
    },
    {
      "cell_type": "code",
      "metadata": {
        "id": "5oOktT4Yb5fR",
        "colab_type": "code",
        "colab": {
          "base_uri": "https://localhost:8080/",
          "height": 235
        },
        "outputId": "211f2695-e0a7-491f-ff9c-e3b1ef1730ad"
      },
      "source": [
        "df_win_oHE = df_win.copy()\n",
        "for i in cat_data:\n",
        "  df_win_oHE = pd.get_dummies(df_win_oHE, columns=[i], prefix=[i])\n",
        "df_win_oHE.head()"
      ],
      "execution_count": 49,
      "outputs": [
        {
          "output_type": "execute_result",
          "data": {
            "text/html": [
              "<div>\n",
              "<style scoped>\n",
              "    .dataframe tbody tr th:only-of-type {\n",
              "        vertical-align: middle;\n",
              "    }\n",
              "\n",
              "    .dataframe tbody tr th {\n",
              "        vertical-align: top;\n",
              "    }\n",
              "\n",
              "    .dataframe thead th {\n",
              "        text-align: right;\n",
              "    }\n",
              "</style>\n",
              "<table border=\"1\" class=\"dataframe\">\n",
              "  <thead>\n",
              "    <tr style=\"text-align: right;\">\n",
              "      <th></th>\n",
              "      <th>ApplicantIncome</th>\n",
              "      <th>CoapplicantIncome</th>\n",
              "      <th>LoanAmount</th>\n",
              "      <th>Credit_History_0.0</th>\n",
              "      <th>Credit_History_1.0</th>\n",
              "      <th>Gender_Female</th>\n",
              "      <th>Gender_Male</th>\n",
              "      <th>Married_No</th>\n",
              "      <th>Married_Yes</th>\n",
              "      <th>Loan_Amount_Term_12.0</th>\n",
              "      <th>Loan_Amount_Term_36.0</th>\n",
              "      <th>Loan_Amount_Term_60.0</th>\n",
              "      <th>Loan_Amount_Term_84.0</th>\n",
              "      <th>Loan_Amount_Term_120.0</th>\n",
              "      <th>Loan_Amount_Term_180.0</th>\n",
              "      <th>Loan_Amount_Term_240.0</th>\n",
              "      <th>Loan_Amount_Term_270.0</th>\n",
              "      <th>Loan_Amount_Term_300.0</th>\n",
              "      <th>Loan_Amount_Term_330.0</th>\n",
              "      <th>Loan_Amount_Term_360.0</th>\n",
              "      <th>Loan_Amount_Term_420.0</th>\n",
              "      <th>Loan_Amount_Term_480.0</th>\n",
              "      <th>Dependents_0</th>\n",
              "      <th>Dependents_1</th>\n",
              "      <th>Dependents_2</th>\n",
              "      <th>Dependents_3+</th>\n",
              "      <th>Property_Area_Rural</th>\n",
              "      <th>Property_Area_Semiurban</th>\n",
              "      <th>Property_Area_Urban</th>\n",
              "      <th>Education_Graduate</th>\n",
              "      <th>Education_Not Graduate</th>\n",
              "      <th>Self_Employed_No</th>\n",
              "      <th>Self_Employed_Yes</th>\n",
              "    </tr>\n",
              "  </thead>\n",
              "  <tbody>\n",
              "    <tr>\n",
              "      <th>0</th>\n",
              "      <td>5849</td>\n",
              "      <td>0.0</td>\n",
              "      <td>120.0</td>\n",
              "      <td>0</td>\n",
              "      <td>1</td>\n",
              "      <td>0</td>\n",
              "      <td>1</td>\n",
              "      <td>1</td>\n",
              "      <td>0</td>\n",
              "      <td>0</td>\n",
              "      <td>0</td>\n",
              "      <td>0</td>\n",
              "      <td>0</td>\n",
              "      <td>0</td>\n",
              "      <td>0</td>\n",
              "      <td>0</td>\n",
              "      <td>0</td>\n",
              "      <td>0</td>\n",
              "      <td>0</td>\n",
              "      <td>1</td>\n",
              "      <td>0</td>\n",
              "      <td>0</td>\n",
              "      <td>1</td>\n",
              "      <td>0</td>\n",
              "      <td>0</td>\n",
              "      <td>0</td>\n",
              "      <td>0</td>\n",
              "      <td>0</td>\n",
              "      <td>1</td>\n",
              "      <td>1</td>\n",
              "      <td>0</td>\n",
              "      <td>1</td>\n",
              "      <td>0</td>\n",
              "    </tr>\n",
              "    <tr>\n",
              "      <th>1</th>\n",
              "      <td>4583</td>\n",
              "      <td>1508.0</td>\n",
              "      <td>128.0</td>\n",
              "      <td>0</td>\n",
              "      <td>1</td>\n",
              "      <td>0</td>\n",
              "      <td>1</td>\n",
              "      <td>0</td>\n",
              "      <td>1</td>\n",
              "      <td>0</td>\n",
              "      <td>0</td>\n",
              "      <td>0</td>\n",
              "      <td>0</td>\n",
              "      <td>0</td>\n",
              "      <td>0</td>\n",
              "      <td>0</td>\n",
              "      <td>0</td>\n",
              "      <td>0</td>\n",
              "      <td>0</td>\n",
              "      <td>1</td>\n",
              "      <td>0</td>\n",
              "      <td>0</td>\n",
              "      <td>0</td>\n",
              "      <td>1</td>\n",
              "      <td>0</td>\n",
              "      <td>0</td>\n",
              "      <td>1</td>\n",
              "      <td>0</td>\n",
              "      <td>0</td>\n",
              "      <td>1</td>\n",
              "      <td>0</td>\n",
              "      <td>1</td>\n",
              "      <td>0</td>\n",
              "    </tr>\n",
              "    <tr>\n",
              "      <th>2</th>\n",
              "      <td>3000</td>\n",
              "      <td>0.0</td>\n",
              "      <td>66.0</td>\n",
              "      <td>0</td>\n",
              "      <td>1</td>\n",
              "      <td>0</td>\n",
              "      <td>1</td>\n",
              "      <td>0</td>\n",
              "      <td>1</td>\n",
              "      <td>0</td>\n",
              "      <td>0</td>\n",
              "      <td>0</td>\n",
              "      <td>0</td>\n",
              "      <td>0</td>\n",
              "      <td>0</td>\n",
              "      <td>0</td>\n",
              "      <td>0</td>\n",
              "      <td>0</td>\n",
              "      <td>0</td>\n",
              "      <td>1</td>\n",
              "      <td>0</td>\n",
              "      <td>0</td>\n",
              "      <td>1</td>\n",
              "      <td>0</td>\n",
              "      <td>0</td>\n",
              "      <td>0</td>\n",
              "      <td>0</td>\n",
              "      <td>0</td>\n",
              "      <td>1</td>\n",
              "      <td>1</td>\n",
              "      <td>0</td>\n",
              "      <td>0</td>\n",
              "      <td>1</td>\n",
              "    </tr>\n",
              "    <tr>\n",
              "      <th>3</th>\n",
              "      <td>2583</td>\n",
              "      <td>2358.0</td>\n",
              "      <td>120.0</td>\n",
              "      <td>0</td>\n",
              "      <td>1</td>\n",
              "      <td>0</td>\n",
              "      <td>1</td>\n",
              "      <td>0</td>\n",
              "      <td>1</td>\n",
              "      <td>0</td>\n",
              "      <td>0</td>\n",
              "      <td>0</td>\n",
              "      <td>0</td>\n",
              "      <td>0</td>\n",
              "      <td>0</td>\n",
              "      <td>0</td>\n",
              "      <td>0</td>\n",
              "      <td>0</td>\n",
              "      <td>0</td>\n",
              "      <td>1</td>\n",
              "      <td>0</td>\n",
              "      <td>0</td>\n",
              "      <td>1</td>\n",
              "      <td>0</td>\n",
              "      <td>0</td>\n",
              "      <td>0</td>\n",
              "      <td>0</td>\n",
              "      <td>0</td>\n",
              "      <td>1</td>\n",
              "      <td>0</td>\n",
              "      <td>1</td>\n",
              "      <td>1</td>\n",
              "      <td>0</td>\n",
              "    </tr>\n",
              "    <tr>\n",
              "      <th>4</th>\n",
              "      <td>6000</td>\n",
              "      <td>0.0</td>\n",
              "      <td>141.0</td>\n",
              "      <td>0</td>\n",
              "      <td>1</td>\n",
              "      <td>0</td>\n",
              "      <td>1</td>\n",
              "      <td>1</td>\n",
              "      <td>0</td>\n",
              "      <td>0</td>\n",
              "      <td>0</td>\n",
              "      <td>0</td>\n",
              "      <td>0</td>\n",
              "      <td>0</td>\n",
              "      <td>0</td>\n",
              "      <td>0</td>\n",
              "      <td>0</td>\n",
              "      <td>0</td>\n",
              "      <td>0</td>\n",
              "      <td>1</td>\n",
              "      <td>0</td>\n",
              "      <td>0</td>\n",
              "      <td>1</td>\n",
              "      <td>0</td>\n",
              "      <td>0</td>\n",
              "      <td>0</td>\n",
              "      <td>0</td>\n",
              "      <td>0</td>\n",
              "      <td>1</td>\n",
              "      <td>1</td>\n",
              "      <td>0</td>\n",
              "      <td>1</td>\n",
              "      <td>0</td>\n",
              "    </tr>\n",
              "  </tbody>\n",
              "</table>\n",
              "</div>"
            ],
            "text/plain": [
              "   ApplicantIncome  CoapplicantIncome  ...  Self_Employed_No  Self_Employed_Yes\n",
              "0             5849                0.0  ...                 1                  0\n",
              "1             4583             1508.0  ...                 1                  0\n",
              "2             3000                0.0  ...                 0                  1\n",
              "3             2583             2358.0  ...                 1                  0\n",
              "4             6000                0.0  ...                 1                  0\n",
              "\n",
              "[5 rows x 33 columns]"
            ]
          },
          "metadata": {
            "tags": []
          },
          "execution_count": 49
        }
      ]
    },
    {
      "cell_type": "code",
      "metadata": {
        "id": "gQNZCamucAnk",
        "colab_type": "code",
        "colab": {
          "base_uri": "https://localhost:8080/",
          "height": 35
        },
        "outputId": "8bc7411f-2081-43b8-9c6c-82a2f2c719fc"
      },
      "source": [
        "df_win_oHE.shape"
      ],
      "execution_count": 50,
      "outputs": [
        {
          "output_type": "execute_result",
          "data": {
            "text/plain": [
              "(614, 33)"
            ]
          },
          "metadata": {
            "tags": []
          },
          "execution_count": 50
        }
      ]
    },
    {
      "cell_type": "markdown",
      "metadata": {
        "id": "5DBgZQFjcJKy",
        "colab_type": "text"
      },
      "source": [
        "**Spliting of Data**"
      ]
    },
    {
      "cell_type": "code",
      "metadata": {
        "id": "FJHpwt7XcLlN",
        "colab_type": "code",
        "colab": {}
      },
      "source": [
        "#Splitting the dataset into 25% as test_set, 75% as train size\n",
        "X_train_oHE, X_test_oHE, y_train_oHE, y_test_oHE = train_test_split(df_win_oHE, en_Tar_Var, test_size=0.25, random_state=42, stratify=en_Tar_Var)"
      ],
      "execution_count": 0,
      "outputs": []
    },
    {
      "cell_type": "markdown",
      "metadata": {
        "id": "z7oMeTfQcUY6",
        "colab_type": "text"
      },
      "source": [
        "**Logistic Regression**"
      ]
    },
    {
      "cell_type": "code",
      "metadata": {
        "id": "EItuDALTcWtK",
        "colab_type": "code",
        "colab": {}
      },
      "source": [
        "#Training on default parameter\n",
        "log_reg.fit(X_train_oHE, y_train_oHE)\n",
        "y_pred3 = log_reg.predict(X_test_oHE)\n",
        "accuracy_score(y_test_oHE, y_pred3)"
      ],
      "execution_count": 0,
      "outputs": []
    },
    {
      "cell_type": "markdown",
      "metadata": {
        "id": "o19GXcUhcvi1",
        "colab_type": "text"
      },
      "source": [
        "Using RandomSearchCV\n",
        "1.To get the best combination of the parameter"
      ]
    },
    {
      "cell_type": "markdown",
      "metadata": {
        "id": "-ieK1ohEc1LL",
        "colab_type": "text"
      },
      "source": [
        "**Using RandomSearchCV instead of GridSearchCV as it is faster than GridSearchCV**"
      ]
    },
    {
      "cell_type": "code",
      "metadata": {
        "id": "LpUbr8z0c62T",
        "colab_type": "code",
        "colab": {
          "base_uri": "https://localhost:8080/",
          "height": 128
        },
        "outputId": "f44530fc-3350-43a4-c24a-1bfadde29dc2"
      },
      "source": [
        "#RandomSearchCV\n",
        "\n",
        "para=[{\n",
        "       'multi_class':['auto','ovr', 'multinomial'],\n",
        "       'l1_ratio' : [0.1,0.2,0.3,0.4,0.5,0.6,0.7,0.8,0.9],\n",
        "       'solver':['newton-cg', 'lbfgs', 'liblinear', 'sag', 'saga'],\n",
        "       'penalty':['l1', 'l2', 'elacticnet'],\n",
        "       'dual':[True, False],\n",
        "       'max_iter':[50,100,200,250,1000],\n",
        "       'fit_intercept': [True,False],\n",
        "       'random_state' : [50]}\n",
        "      ]\n",
        "\n",
        "rSCV = RandomizedSearchCV(log_reg, param_distributions=para, n_iter=40, cv=5, n_jobs=-1)\n",
        "\n",
        "rSCV.fit(X_train_oHE, y_train_oHE)\n",
        "y_pred3 = rSCV.predict(X_test_oHE)\n",
        "accuracy_score(y_test_oHE, y_pred3)"
      ],
      "execution_count": 54,
      "outputs": [
        {
          "output_type": "stream",
          "text": [
            "/usr/local/lib/python3.6/dist-packages/sklearn/linear_model/_logistic.py:1501: UserWarning: l1_ratio parameter is only used when penalty is 'elasticnet'. Got (penalty=l1)\n",
            "  \"(penalty={})\".format(self.penalty))\n",
            "/usr/local/lib/python3.6/dist-packages/sklearn/utils/validation.py:760: DataConversionWarning: A column-vector y was passed when a 1d array was expected. Please change the shape of y to (n_samples, ), for example using ravel().\n",
            "  y = column_or_1d(y, warn=True)\n"
          ],
          "name": "stderr"
        },
        {
          "output_type": "execute_result",
          "data": {
            "text/plain": [
              "0.8571428571428571"
            ]
          },
          "metadata": {
            "tags": []
          },
          "execution_count": 54
        }
      ]
    },
    {
      "cell_type": "markdown",
      "metadata": {
        "id": "Ol_JJTspdFjF",
        "colab_type": "text"
      },
      "source": [
        "\n",
        "As we can see that the accuracy after peforming RandomSearchCV is same as before. So, 0.827 is the best accuracy"
      ]
    },
    {
      "cell_type": "code",
      "metadata": {
        "id": "cK5gHWjVdI07",
        "colab_type": "code",
        "colab": {
          "base_uri": "https://localhost:8080/",
          "height": 217
        },
        "outputId": "62533e2b-2a7a-44e7-dca4-2bb0e69a1aae"
      },
      "source": [
        "print(\"Confusion Matrix:\\n\"+str(confusion_matrix(y_test_oHE, y_pred3)))\n",
        "print(\"Accuracy of Dtree Model:\")\n",
        "print(\"%.2f\"%round(accuracy_score(y_test_oHE, y_pred3)*100,2) + '%')\n",
        "print(\"Precision of DTree Model:\")\n",
        "print (\"%.2f\" % round(precision_score(y_test_oHE, y_pred3)*100) + '%')\n",
        "print (\"Recall of DTree Model:\" )\n",
        "print(\"%.2f\" % round(recall_score(y_test_oHE, y_pred3)*100) + '%')\n",
        "print (\"F1 Score of DTree Model:\")\n",
        "print (\"%.2f\" % round(f1_score(y_test_oHE, y_pred3)*100) + '%')"
      ],
      "execution_count": 55,
      "outputs": [
        {
          "output_type": "stream",
          "text": [
            "Confusion Matrix:\n",
            "[[ 28  20]\n",
            " [  2 104]]\n",
            "Accuracy of Dtree Model:\n",
            "85.71%\n",
            "Precision of DTree Model:\n",
            "84.00%\n",
            "Recall of DTree Model:\n",
            "98.00%\n",
            "F1 Score of DTree Model:\n",
            "90.00%\n"
          ],
          "name": "stdout"
        }
      ]
    },
    {
      "cell_type": "markdown",
      "metadata": {
        "id": "FYf8RtkfdR_R",
        "colab_type": "text"
      },
      "source": [
        "**AUROC curve for LogisticRegression with OneHotEncoded Datase**"
      ]
    },
    {
      "cell_type": "code",
      "metadata": {
        "id": "1-d2ts-tdciN",
        "colab_type": "code",
        "colab": {
          "base_uri": "https://localhost:8080/",
          "height": 334
        },
        "outputId": "59171e69-0abc-41b0-fdad-528cd956e9b2"
      },
      "source": [
        "print(\"AUROC Value:\\n\"+str(round(roc_auc_score(y_test_oHE,y_pred3)*100)) + '%')\n",
        "fpr, tpr, thresholds = roc_curve(y_test_oHE,y_pred3)\n",
        "plt.figure(1)\n",
        "plt.plot([0, 1], [0, 1], 'k--')\n",
        "plt.plot(fpr, tpr, label='ROC curve (area = %0.2f)'% round(roc_auc_score(y_test_oHE,y_pred3)*100) + '%')\n",
        "plt.xlabel('False positive rate')\n",
        "plt.ylabel('True positive rate')\n",
        "plt.legend(loc='best')"
      ],
      "execution_count": 56,
      "outputs": [
        {
          "output_type": "stream",
          "text": [
            "AUROC Value:\n",
            "78.0%\n"
          ],
          "name": "stdout"
        },
        {
          "output_type": "execute_result",
          "data": {
            "text/plain": [
              "<matplotlib.legend.Legend at 0x7fe990be6080>"
            ]
          },
          "metadata": {
            "tags": []
          },
          "execution_count": 56
        },
        {
          "output_type": "display_data",
          "data": {
            "image/png": "[encoded data removed]",
            "text/plain": [
              "<Figure size 432x288 with 1 Axes>"
            ]
          },
          "metadata": {
            "tags": [],
            "needs_background": "light"
          }
        }
      ]
    },
    {
      "cell_type": "markdown",
      "metadata": {
        "id": "w3xCtPVGdiMa",
        "colab_type": "text"
      },
      "source": [
        "**Random Forest Classifier**"
      ]
    },
    {
      "cell_type": "code",
      "metadata": {
        "id": "5xEuZDXPdnff",
        "colab_type": "code",
        "colab": {
          "base_uri": "https://localhost:8080/",
          "height": 92
        },
        "outputId": "5fd7fcbd-de30-4136-ee84-6e8e103c678a"
      },
      "source": [
        "#Training model on default Parameters\n",
        "rFC.fit(X_train_oHE, y_train_oHE)\n",
        "y_pred4 = rFC.predict(X_test_oHE)\n",
        "accuracy_score(y_test_oHE, y_pred4)"
      ],
      "execution_count": 57,
      "outputs": [
        {
          "output_type": "stream",
          "text": [
            "/usr/local/lib/python3.6/dist-packages/ipykernel_launcher.py:2: DataConversionWarning: A column-vector y was passed when a 1d array was expected. Please change the shape of y to (n_samples,), for example using ravel().\n",
            "  \n"
          ],
          "name": "stderr"
        },
        {
          "output_type": "execute_result",
          "data": {
            "text/plain": [
              "0.8376623376623377"
            ]
          },
          "metadata": {
            "tags": []
          },
          "execution_count": 57
        }
      ]
    },
    {
      "cell_type": "code",
      "metadata": {
        "id": "2G84ozK2dtt_",
        "colab_type": "code",
        "colab": {}
      },
      "source": [
        "#Finding best combination of parameters in-order to get the maximum accuracy using RandomSearchCV\n",
        "from scipy.stats import randint\n",
        "para_rFC=[{'n_estimators':[100,200,300,400,500],\n",
        "       'criterion' : ['gini','entropy'],\n",
        "       'max_depth' : [2,3,5,10,30,50],\n",
        "       'bootstrap' : [True,False],\n",
        "       'min_samples_leaf' : randint(1,4),\n",
        "       'oob_score' : [True,False],\n",
        "       'class_weight' : ['balanced', 'balanced-subsample']}]\n",
        "\n",
        "rSCV2 = RandomizedSearchCV(rFC, param_distributions=para_rFC, n_iter=40, cv=4, n_jobs=-1)\n",
        "rSCV2.fit(X_train_oHE, y_train_oHE)\n",
        "y_pred4 = rSCV2.predict(X_test_oHE)\n",
        "accuracy_score(y_test_oHE,y_pred4)"
      ],
      "execution_count": 0,
      "outputs": []
    },
    {
      "cell_type": "code",
      "metadata": {
        "id": "U20tjkWXd0wP",
        "colab_type": "code",
        "colab": {
          "base_uri": "https://localhost:8080/",
          "height": 217
        },
        "outputId": "0ed4883f-e08d-43bd-e885-ff7166cbfdfc"
      },
      "source": [
        "print(\"Confusion Matrix:\\n\"+str(confusion_matrix(y_test_oHE, y_pred4)))\n",
        "print(\"Accuracy of Dtree Model:\")\n",
        "print(\"%.2f\"%round(accuracy_score(y_test_oHE, y_pred4)*100,2) + '%')\n",
        "print(\"Precision of DTree Model:\")\n",
        "print (\"%.2f\" % round(precision_score(y_test_oHE, y_pred4)*100) + '%')\n",
        "print (\"Recall of DTree Model:\" )\n",
        "print(\"%.2f\" % round(recall_score(y_test_oHE, y_pred4)*100) + '%')\n",
        "print (\"F1 Score of DTree Model:\")\n",
        "print (\"%.2f\" % round(f1_score(y_test_oHE, y_pred4)*100) + '%')"
      ],
      "execution_count": 59,
      "outputs": [
        {
          "output_type": "stream",
          "text": [
            "Confusion Matrix:\n",
            "[[ 27  21]\n",
            " [  1 105]]\n",
            "Accuracy of Dtree Model:\n",
            "85.71%\n",
            "Precision of DTree Model:\n",
            "83.00%\n",
            "Recall of DTree Model:\n",
            "99.00%\n",
            "F1 Score of DTree Model:\n",
            "91.00%\n"
          ],
          "name": "stdout"
        }
      ]
    },
    {
      "cell_type": "markdown",
      "metadata": {
        "id": "pyBNHcJOeCs_",
        "colab_type": "text"
      },
      "source": [
        "**AUROC curve for RandomForestClassifier with OneHotEncoded Dataset**"
      ]
    },
    {
      "cell_type": "code",
      "metadata": {
        "id": "mI76oSiaeCSj",
        "colab_type": "code",
        "colab": {
          "base_uri": "https://localhost:8080/",
          "height": 334
        },
        "outputId": "acf2c9fb-4c3c-4d52-ad15-91adbf56d2fa"
      },
      "source": [
        "print(\"AUROC Value:\\n\"+str(round(roc_auc_score(y_test_oHE,y_pred4)*100)) + '%')\n",
        "fpr, tpr, thresholds = roc_curve(y_test_oHE,y_pred4)\n",
        "plt.figure(1)\n",
        "plt.plot([0, 1], [0, 1], 'k--')\n",
        "plt.plot(fpr, tpr, label='ROC curve (area = %0.2f)'% round(roc_auc_score(y_test_oHE,y_pred4)*100) + '%')\n",
        "plt.xlabel('False positive rate')\n",
        "plt.ylabel('True positive rate')\n",
        "plt.legend(loc='best')"
      ],
      "execution_count": 60,
      "outputs": [
        {
          "output_type": "stream",
          "text": [
            "AUROC Value:\n",
            "78.0%\n"
          ],
          "name": "stdout"
        },
        {
          "output_type": "execute_result",
          "data": {
            "text/plain": [
              "<matplotlib.legend.Legend at 0x7fe98e33f6a0>"
            ]
          },
          "metadata": {
            "tags": []
          },
          "execution_count": 60
        },
        {
          "output_type": "display_data",
          "data": {
            "image/png": "[encoded data removed]",
            "text/plain": [
              "<Figure size 432x288 with 1 Axes>"
            ]
          },
          "metadata": {
            "tags": [],
            "needs_background": "light"
          }
        }
      ]
    },
    {
      "cell_type": "markdown",
      "metadata": {
        "id": "T770HGvLeYCx",
        "colab_type": "text"
      },
      "source": [
        "\n",
        "Conclusion\n",
        "1.Label Encoded Dataset\n",
        "\n",
        "Using 80% of the data as train_set.\n",
        "\n",
        "a. Logistic Regression -\n",
        "\n",
        " Accuracy - 85.37%\n",
        "\n",
        "b. RandomForest Classifier -\n",
        "\n",
        "Accuracy - 86.18%                                                              2.OneHot Encoded Dataset\n",
        "\n",
        "Using 75% of data as Train_Set\n",
        "\n",
        "a. Logistic Regression -\n",
        "\n",
        "Accuracy - 85.71%\n",
        "\n",
        "b. RandomForest Clasifier -\n",
        "\n",
        "Accuracy - 85.06%\n",
        "As we can see in LabelEncoded Dataset\n",
        "\n",
        "    - RandomForest Classifier has more accuracy"
      ]
    }
  ]
}