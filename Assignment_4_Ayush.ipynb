{
  "nbformat": 4,
  "nbformat_minor": 0,
  "metadata": {
    "colab": {
      "name": "Assignment_4_Ayush.ipynb",
      "provenance": [],
      "collapsed_sections": []
    },
    "kernelspec": {
      "name": "python3",
      "display_name": "Python 3"
    }
  },
  "cells": [
    {
      "cell_type": "code",
      "metadata": {
        "id": "TQW7KqBqK5kP",
        "colab_type": "code",
        "colab": {}
      },
      "source": [
        "import pandas as pd\n",
        "import numpy as np"
      ],
      "execution_count": 0,
      "outputs": []
    },
    {
      "cell_type": "code",
      "metadata": {
        "id": "sXLvjFCuLBUT",
        "colab_type": "code",
        "colab": {
          "base_uri": "https://localhost:8080/",
          "height": 102
        },
        "outputId": "1038c6c2-0a3a-497a-e4ac-cbf815c7568e"
      },
      "source": [
        "df = pd.read_csv(\"dataset_model.csv\",sep=\",\")\n",
        "l=df.columns\n",
        "print(l)\n",
        "for i in l:\n",
        "  if(len(df[i].unique())==df.shape[0]):\n",
        "    #print(i)\n",
        "    a=str(i)\n",
        "# Dropping the column with unique value for all the records\n",
        "new_df=df.drop([a],axis=1)\n",
        "print(\"Shape : \" ,new_df.shape)"
      ],
      "execution_count": 3,
      "outputs": [
        {
          "output_type": "stream",
          "text": [
            "Index(['Loan_ID', 'Gender', 'Married', 'Dependents', 'Education',\n",
            "       'Self_Employed', 'ApplicantIncome', 'CoapplicantIncome', 'LoanAmount',\n",
            "       'Loan_Amount_Term', 'Credit_History', 'Property_Area', 'Loan_Status'],\n",
            "      dtype='object')\n",
            "Shape :  (614, 12)\n"
          ],
          "name": "stdout"
        }
      ]
    },
    {
      "cell_type": "code",
      "metadata": {
        "id": "lHwsPc8kLnyU",
        "colab_type": "code",
        "colab": {
          "base_uri": "https://localhost:8080/",
          "height": 241
        },
        "outputId": "1c927736-b87b-47db-90e5-f388edc82ad8"
      },
      "source": [
        "new_df.head()"
      ],
      "execution_count": 4,
      "outputs": [
        {
          "output_type": "execute_result",
          "data": {
            "text/html": [
              "<div>\n",
              "<style scoped>\n",
              "    .dataframe tbody tr th:only-of-type {\n",
              "        vertical-align: middle;\n",
              "    }\n",
              "\n",
              "    .dataframe tbody tr th {\n",
              "        vertical-align: top;\n",
              "    }\n",
              "\n",
              "    .dataframe thead th {\n",
              "        text-align: right;\n",
              "    }\n",
              "</style>\n",
              "<table border=\"1\" class=\"dataframe\">\n",
              "  <thead>\n",
              "    <tr style=\"text-align: right;\">\n",
              "      <th></th>\n",
              "      <th>Gender</th>\n",
              "      <th>Married</th>\n",
              "      <th>Dependents</th>\n",
              "      <th>Education</th>\n",
              "      <th>Self_Employed</th>\n",
              "      <th>ApplicantIncome</th>\n",
              "      <th>CoapplicantIncome</th>\n",
              "      <th>LoanAmount</th>\n",
              "      <th>Loan_Amount_Term</th>\n",
              "      <th>Credit_History</th>\n",
              "      <th>Property_Area</th>\n",
              "      <th>Loan_Status</th>\n",
              "    </tr>\n",
              "  </thead>\n",
              "  <tbody>\n",
              "    <tr>\n",
              "      <th>0</th>\n",
              "      <td>Male</td>\n",
              "      <td>No</td>\n",
              "      <td>0</td>\n",
              "      <td>Graduate</td>\n",
              "      <td>No</td>\n",
              "      <td>5849</td>\n",
              "      <td>0.0</td>\n",
              "      <td>NaN</td>\n",
              "      <td>360.0</td>\n",
              "      <td>1.0</td>\n",
              "      <td>Urban</td>\n",
              "      <td>Y</td>\n",
              "    </tr>\n",
              "    <tr>\n",
              "      <th>1</th>\n",
              "      <td>Male</td>\n",
              "      <td>Yes</td>\n",
              "      <td>1</td>\n",
              "      <td>Graduate</td>\n",
              "      <td>No</td>\n",
              "      <td>4583</td>\n",
              "      <td>1508.0</td>\n",
              "      <td>128.0</td>\n",
              "      <td>360.0</td>\n",
              "      <td>1.0</td>\n",
              "      <td>Rural</td>\n",
              "      <td>N</td>\n",
              "    </tr>\n",
              "    <tr>\n",
              "      <th>2</th>\n",
              "      <td>Male</td>\n",
              "      <td>Yes</td>\n",
              "      <td>0</td>\n",
              "      <td>Graduate</td>\n",
              "      <td>Yes</td>\n",
              "      <td>3000</td>\n",
              "      <td>0.0</td>\n",
              "      <td>66.0</td>\n",
              "      <td>360.0</td>\n",
              "      <td>1.0</td>\n",
              "      <td>Urban</td>\n",
              "      <td>Y</td>\n",
              "    </tr>\n",
              "    <tr>\n",
              "      <th>3</th>\n",
              "      <td>Male</td>\n",
              "      <td>Yes</td>\n",
              "      <td>0</td>\n",
              "      <td>Not Graduate</td>\n",
              "      <td>No</td>\n",
              "      <td>2583</td>\n",
              "      <td>2358.0</td>\n",
              "      <td>120.0</td>\n",
              "      <td>360.0</td>\n",
              "      <td>1.0</td>\n",
              "      <td>Urban</td>\n",
              "      <td>Y</td>\n",
              "    </tr>\n",
              "    <tr>\n",
              "      <th>4</th>\n",
              "      <td>Male</td>\n",
              "      <td>No</td>\n",
              "      <td>0</td>\n",
              "      <td>Graduate</td>\n",
              "      <td>No</td>\n",
              "      <td>6000</td>\n",
              "      <td>0.0</td>\n",
              "      <td>141.0</td>\n",
              "      <td>360.0</td>\n",
              "      <td>1.0</td>\n",
              "      <td>Urban</td>\n",
              "      <td>Y</td>\n",
              "    </tr>\n",
              "  </tbody>\n",
              "</table>\n",
              "</div>"
            ],
            "text/plain": [
              "  Gender Married Dependents  ... Credit_History Property_Area  Loan_Status\n",
              "0   Male      No          0  ...            1.0         Urban            Y\n",
              "1   Male     Yes          1  ...            1.0         Rural            N\n",
              "2   Male     Yes          0  ...            1.0         Urban            Y\n",
              "3   Male     Yes          0  ...            1.0         Urban            Y\n",
              "4   Male      No          0  ...            1.0         Urban            Y\n",
              "\n",
              "[5 rows x 12 columns]"
            ]
          },
          "metadata": {
            "tags": []
          },
          "execution_count": 4
        }
      ]
    },
    {
      "cell_type": "code",
      "metadata": {
        "id": "bsI6EYUfLsK3",
        "colab_type": "code",
        "colab": {}
      },
      "source": [
        "continous_var=new_df._get_numeric_data().columns\n",
        "cols=[str(i) for i in new_df.columns]\n",
        "#print(continous_var)\n",
        "conti_var=[]\n",
        "for i in continous_var:\n",
        "  if(len(new_df[i].unique()) >= int(new_df.shape[0]/25)):\n",
        "    conti_var.append(str(i))\n",
        "#print(conti_var) #['ApplicantIncome', 'CoapplicantIncome', 'LoanAmount']\n",
        "cate_var=list(set(cols) - set(conti_var))\n",
        "#print(cate_var) #['Education', 'Loan_Amount_Term', 'Self_Employed', 'Property_Area', 'Dependents', 'Gender', 'Married', 'Loan_Status', 'Credit_History']\n",
        "#conti_var is the list of continous variables\n",
        "#cate_var is the list of categorical variables"
      ],
      "execution_count": 0,
      "outputs": []
    },
    {
      "cell_type": "markdown",
      "metadata": {
        "id": "lOg-WT6vNNMS",
        "colab_type": "text"
      },
      "source": [
        "Handling the outliers  outliers"
      ]
    },
    {
      "cell_type": "code",
      "metadata": {
        "id": "n_1vrbH3NC9M",
        "colab_type": "code",
        "colab": {
          "base_uri": "https://localhost:8080/",
          "height": 170
        },
        "outputId": "e29463ec-e4e6-43fb-f224-6d75a2cd7025"
      },
      "source": [
        "for i in conti_var:\n",
        "  print(i,\"\\t=> \" ,new_df[i].skew())\n",
        "for i in conti_var:\n",
        "  Q1=new_df[i].quantile(0.05) #bottom 5 percentile\n",
        "  Q3=new_df[i].quantile(0.95) #above 95 percentile\n",
        "  new_df[i] = np.where(new_df[i] < Q1,Q1,new_df[i])\n",
        "  new_df[i] = np.where(new_df[i] > Q3, Q3,new_df[i])\n",
        "print(\"\\n------------Skew After Perfroming Quantile based capping-------------\\n\")\n",
        "for i in conti_var:\n",
        "  print(i,\"\\t=> \" ,new_df[i].skew())"
      ],
      "execution_count": 6,
      "outputs": [
        {
          "output_type": "stream",
          "text": [
            "ApplicantIncome \t=>  6.539513113994625\n",
            "CoapplicantIncome \t=>  7.491531216657306\n",
            "LoanAmount \t=>  2.677551679256059\n",
            "\n",
            "------------Skew After Perfroming Quantile based capping-------------\n",
            "\n",
            "ApplicantIncome \t=>  1.7637799807028802\n",
            "CoapplicantIncome \t=>  0.8452039718003408\n",
            "LoanAmount \t=>  1.0594654991821644\n"
          ],
          "name": "stdout"
        }
      ]
    },
    {
      "cell_type": "markdown",
      "metadata": {
        "id": "ATNuB45JV66T",
        "colab_type": "text"
      },
      "source": [
        "Hadling missing values "
      ]
    },
    {
      "cell_type": "code",
      "metadata": {
        "id": "sxnnYqFpZFZb",
        "colab_type": "code",
        "colab": {
          "base_uri": "https://localhost:8080/",
          "height": 527
        },
        "outputId": "7c8c5edd-6301-4f7c-9e39-3081d2a1d8c2"
      },
      "source": [
        "print(\"Number of Null values \\n\")\n",
        "print(new_df.isnull().sum())\n",
        "\n",
        "# Handling the null values \n",
        "for i in new_df._get_numeric_data().columns:\n",
        "  new_df[i]=new_df[i].fillna(new_df[i].median())\n",
        "for j in list(set(new_df.columns)-set(new_df._get_numeric_data().columns)):\n",
        "  new_df[j]=new_df[j].fillna(new_df[j].mode().iloc[0])\n",
        "print(\"Number of Null values after processing \\n\")\n",
        "print(new_df.isnull().sum())"
      ],
      "execution_count": 7,
      "outputs": [
        {
          "output_type": "stream",
          "text": [
            "Number of Null values \n",
            "\n",
            "Gender               13\n",
            "Married               3\n",
            "Dependents           15\n",
            "Education             0\n",
            "Self_Employed        32\n",
            "ApplicantIncome       0\n",
            "CoapplicantIncome     0\n",
            "LoanAmount           22\n",
            "Loan_Amount_Term     14\n",
            "Credit_History       50\n",
            "Property_Area         0\n",
            "Loan_Status           0\n",
            "dtype: int64\n",
            "Number of Null values after processing \n",
            "\n",
            "Gender               0\n",
            "Married              0\n",
            "Dependents           0\n",
            "Education            0\n",
            "Self_Employed        0\n",
            "ApplicantIncome      0\n",
            "CoapplicantIncome    0\n",
            "LoanAmount           0\n",
            "Loan_Amount_Term     0\n",
            "Credit_History       0\n",
            "Property_Area        0\n",
            "Loan_Status          0\n",
            "dtype: int64\n"
          ],
          "name": "stdout"
        }
      ]
    },
    {
      "cell_type": "markdown",
      "metadata": {
        "id": "AqDauPTeacHX",
        "colab_type": "text"
      },
      "source": [
        "**----------Use Label Encoder as encoding technique on features , predict using below algorithms----------**"
      ]
    },
    {
      "cell_type": "code",
      "metadata": {
        "id": "bYA5qI9Wb-qa",
        "colab_type": "code",
        "colab": {}
      },
      "source": [
        "from sklearn.preprocessing import LabelEncoder\n",
        "from sklearn.preprocessing import OneHotEncoder\n",
        "from sklearn.model_selection import train_test_split"
      ],
      "execution_count": 0,
      "outputs": []
    },
    {
      "cell_type": "code",
      "metadata": {
        "id": "UVbudGZXbuMQ",
        "colab_type": "code",
        "colab": {}
      },
      "source": [
        "le = LabelEncoder()\n",
        "enc=new_df.copy()\n",
        "for j in cate_var: # Encoding the categorical variables\n",
        "  enc['enc_'+str(j)] = le.fit_transform(enc[j])\n",
        "enc = enc.drop(columns = cate_var) #Dropping original columns\n"
      ],
      "execution_count": 0,
      "outputs": []
    },
    {
      "cell_type": "code",
      "metadata": {
        "id": "EMpvo6ghcfVO",
        "colab_type": "code",
        "colab": {
          "base_uri": "https://localhost:8080/",
          "height": 241
        },
        "outputId": "4306c85b-f606-4989-cf7d-6b7c7537a8b6"
      },
      "source": [
        "print(enc.shape)\n",
        "enc.head()"
      ],
      "execution_count": 10,
      "outputs": [
        {
          "output_type": "stream",
          "text": [
            "(614, 12)\n"
          ],
          "name": "stdout"
        },
        {
          "output_type": "execute_result",
          "data": {
            "text/html": [
              "<div>\n",
              "<style scoped>\n",
              "    .dataframe tbody tr th:only-of-type {\n",
              "        vertical-align: middle;\n",
              "    }\n",
              "\n",
              "    .dataframe tbody tr th {\n",
              "        vertical-align: top;\n",
              "    }\n",
              "\n",
              "    .dataframe thead th {\n",
              "        text-align: right;\n",
              "    }\n",
              "</style>\n",
              "<table border=\"1\" class=\"dataframe\">\n",
              "  <thead>\n",
              "    <tr style=\"text-align: right;\">\n",
              "      <th></th>\n",
              "      <th>ApplicantIncome</th>\n",
              "      <th>CoapplicantIncome</th>\n",
              "      <th>LoanAmount</th>\n",
              "      <th>enc_Property_Area</th>\n",
              "      <th>enc_Married</th>\n",
              "      <th>enc_Credit_History</th>\n",
              "      <th>enc_Loan_Status</th>\n",
              "      <th>enc_Gender</th>\n",
              "      <th>enc_Dependents</th>\n",
              "      <th>enc_Self_Employed</th>\n",
              "      <th>enc_Education</th>\n",
              "      <th>enc_Loan_Amount_Term</th>\n",
              "    </tr>\n",
              "  </thead>\n",
              "  <tbody>\n",
              "    <tr>\n",
              "      <th>0</th>\n",
              "      <td>5849.0</td>\n",
              "      <td>0.0</td>\n",
              "      <td>128.0</td>\n",
              "      <td>2</td>\n",
              "      <td>0</td>\n",
              "      <td>1</td>\n",
              "      <td>1</td>\n",
              "      <td>1</td>\n",
              "      <td>0</td>\n",
              "      <td>0</td>\n",
              "      <td>0</td>\n",
              "      <td>8</td>\n",
              "    </tr>\n",
              "    <tr>\n",
              "      <th>1</th>\n",
              "      <td>4583.0</td>\n",
              "      <td>1508.0</td>\n",
              "      <td>128.0</td>\n",
              "      <td>0</td>\n",
              "      <td>1</td>\n",
              "      <td>1</td>\n",
              "      <td>0</td>\n",
              "      <td>1</td>\n",
              "      <td>1</td>\n",
              "      <td>0</td>\n",
              "      <td>0</td>\n",
              "      <td>8</td>\n",
              "    </tr>\n",
              "    <tr>\n",
              "      <th>2</th>\n",
              "      <td>3000.0</td>\n",
              "      <td>0.0</td>\n",
              "      <td>66.0</td>\n",
              "      <td>2</td>\n",
              "      <td>1</td>\n",
              "      <td>1</td>\n",
              "      <td>1</td>\n",
              "      <td>1</td>\n",
              "      <td>0</td>\n",
              "      <td>1</td>\n",
              "      <td>0</td>\n",
              "      <td>8</td>\n",
              "    </tr>\n",
              "    <tr>\n",
              "      <th>3</th>\n",
              "      <td>2583.0</td>\n",
              "      <td>2358.0</td>\n",
              "      <td>120.0</td>\n",
              "      <td>2</td>\n",
              "      <td>1</td>\n",
              "      <td>1</td>\n",
              "      <td>1</td>\n",
              "      <td>1</td>\n",
              "      <td>0</td>\n",
              "      <td>0</td>\n",
              "      <td>1</td>\n",
              "      <td>8</td>\n",
              "    </tr>\n",
              "    <tr>\n",
              "      <th>4</th>\n",
              "      <td>6000.0</td>\n",
              "      <td>0.0</td>\n",
              "      <td>141.0</td>\n",
              "      <td>2</td>\n",
              "      <td>0</td>\n",
              "      <td>1</td>\n",
              "      <td>1</td>\n",
              "      <td>1</td>\n",
              "      <td>0</td>\n",
              "      <td>0</td>\n",
              "      <td>0</td>\n",
              "      <td>8</td>\n",
              "    </tr>\n",
              "  </tbody>\n",
              "</table>\n",
              "</div>"
            ],
            "text/plain": [
              "   ApplicantIncome  CoapplicantIncome  ...  enc_Education  enc_Loan_Amount_Term\n",
              "0           5849.0                0.0  ...              0                     8\n",
              "1           4583.0             1508.0  ...              0                     8\n",
              "2           3000.0                0.0  ...              0                     8\n",
              "3           2583.0             2358.0  ...              1                     8\n",
              "4           6000.0                0.0  ...              0                     8\n",
              "\n",
              "[5 rows x 12 columns]"
            ]
          },
          "metadata": {
            "tags": []
          },
          "execution_count": 10
        }
      ]
    },
    {
      "cell_type": "code",
      "metadata": {
        "id": "meROCNZedxhp",
        "colab_type": "code",
        "colab": {
          "base_uri": "https://localhost:8080/",
          "height": 102
        },
        "outputId": "f1722f3b-8971-4ee8-f39e-75638406de16"
      },
      "source": [
        "print(enc['enc_Loan_Status'].value_counts())\n",
        "l_1,l_2= enc['enc_Loan_Status'].value_counts()\n",
        "print(\"Class Label 1 is : \",(l_1/enc.shape[0])*100,\"%\")\n",
        "print(\"Class Label 0 is : \",(l_2/enc.shape[0])*100,\"%\")"
      ],
      "execution_count": 11,
      "outputs": [
        {
          "output_type": "stream",
          "text": [
            "1    422\n",
            "0    192\n",
            "Name: enc_Loan_Status, dtype: int64\n",
            "Class Label 1 is :  68.72964169381108 %\n",
            "Class Label 0 is :  31.27035830618892 %\n"
          ],
          "name": "stdout"
        }
      ]
    },
    {
      "cell_type": "code",
      "metadata": {
        "id": "oj0UEMfZaDCB",
        "colab_type": "code",
        "colab": {
          "base_uri": "https://localhost:8080/",
          "height": 85
        },
        "outputId": "0d3ea100-47d4-4368-9b40-7ef470c1b8c1"
      },
      "source": [
        "#splitting into training (75%) and testing (25%)\n",
        "df_t=pd.DataFrame(enc['enc_Loan_Status'])\n",
        "df_t.columns= (['Loan_Status'])\n",
        "#df_t\n",
        "enc=enc.drop(columns='enc_Loan_Status')\n",
        "X_train, x_test, Y_train, y_test = train_test_split(enc,df_t,test_size = 0.25, random_state = 21, stratify = df_t)\n",
        "print(\"TRAIN(X_train) Feature set        : \",len(X_train))\n",
        "print(\"TRAIN(Y_train) Label Feature set  : \",len(Y_train))\n",
        "print(\"TEST (x_test)  Feature set        : \",len(x_test))\n",
        "print(\"TEST (y_test)  Label set          : \",len(y_test))"
      ],
      "execution_count": 12,
      "outputs": [
        {
          "output_type": "stream",
          "text": [
            "TRAIN(X_train) Feature set        :  460\n",
            "TRAIN(Y_train) Label Feature set  :  460\n",
            "TEST (x_test)  Feature set        :  154\n",
            "TEST (y_test)  Label set          :  154\n"
          ],
          "name": "stdout"
        }
      ]
    },
    {
      "cell_type": "code",
      "metadata": {
        "id": "4NQNVIiqplMZ",
        "colab_type": "code",
        "colab": {
          "base_uri": "https://localhost:8080/",
          "height": 272
        },
        "outputId": "4244f305-bfb8-4a73-b7bc-8049a112f07a"
      },
      "source": [
        "print(\"-------For Training Set--------\\n\")\n",
        "print(Y_train['Loan_Status'].value_counts())\n",
        "l_1,l_2= Y_train['Loan_Status'].value_counts()\n",
        "print(\"Class Label 1 is : \",(l_1/Y_train.shape[0])*100,\"%\")\n",
        "print(\"Class Label 0 is : \",(l_2/Y_train.shape[0])*100,\"%\")\n",
        "print(\"\\n-------For Testing Set--------\\n\")\n",
        "print(y_test['Loan_Status'].value_counts())\n",
        "l_1,l_2= y_test['Loan_Status'].value_counts()\n",
        "print(\"Class Label 1 is : \",(l_1/y_test.shape[0])*100,\"%\")\n",
        "print(\"Class Label 0 is : \",(l_2/y_test.shape[0])*100,\"%\")"
      ],
      "execution_count": 13,
      "outputs": [
        {
          "output_type": "stream",
          "text": [
            "-------For Training Set--------\n",
            "\n",
            "1    316\n",
            "0    144\n",
            "Name: Loan_Status, dtype: int64\n",
            "Class Label 1 is :  68.69565217391305 %\n",
            "Class Label 0 is :  31.30434782608696 %\n",
            "\n",
            "-------For Testing Set--------\n",
            "\n",
            "1    106\n",
            "0     48\n",
            "Name: Loan_Status, dtype: int64\n",
            "Class Label 1 is :  68.83116883116884 %\n",
            "Class Label 0 is :  31.16883116883117 %\n"
          ],
          "name": "stdout"
        }
      ]
    },
    {
      "cell_type": "markdown",
      "metadata": {
        "id": "Owr_r9tVaIyS",
        "colab_type": "text"
      },
      "source": [
        "\n",
        "**1.Using Logistic Regression**\n",
        "\n",
        "Perform the parameter tuning and list your best performance metrics on -\n",
        "\n",
        "Precision ,Recall & F1 Score ,AUROC"
      ]
    },
    {
      "cell_type": "code",
      "metadata": {
        "id": "Nh7rqKl5qU8R",
        "colab_type": "code",
        "colab": {
          "base_uri": "https://localhost:8080/",
          "height": 258
        },
        "outputId": "0872f1d8-bf31-423d-b029-4135837a0b2e"
      },
      "source": [
        "from sklearn.linear_model import LogisticRegression\n",
        "from sklearn.metrics import *\n",
        "logi = LogisticRegression(random_state=21)\n",
        "logi.fit(X_train, Y_train)\n",
        "y_pred1 = logi.predict(x_test)\n",
        "print(\"y_pred1 : \",y_pred1)"
      ],
      "execution_count": 49,
      "outputs": [
        {
          "output_type": "stream",
          "text": [
            "y_pred1 :  [0 1 1 1 1 1 0 1 0 1 1 1 1 0 1 1 1 1 1 1 1 1 1 0 1 1 1 1 1 1 1 1 1 1 1 1 1\n",
            " 1 1 1 1 1 1 1 0 1 0 0 1 1 1 0 1 1 1 1 1 1 1 0 1 1 1 1 1 0 1 1 1 1 1 1 0 0\n",
            " 1 1 1 1 1 1 1 0 1 0 1 0 1 1 0 1 1 1 1 1 1 1 1 1 1 1 1 1 1 1 1 1 1 1 1 1 1\n",
            " 1 1 1 1 1 1 1 1 1 1 1 1 1 1 1 0 1 1 1 1 1 1 1 0 1 1 1 1 1 0 1 1 1 1 1 1 1\n",
            " 0 1 1 1 1 1]\n"
          ],
          "name": "stdout"
        },
        {
          "output_type": "stream",
          "text": [
            "/usr/local/lib/python3.6/dist-packages/sklearn/linear_model/_logistic.py:940: ConvergenceWarning: lbfgs failed to converge (status=1):\n",
            "STOP: TOTAL NO. of ITERATIONS REACHED LIMIT.\n",
            "\n",
            "Increase the number of iterations (max_iter) or scale the data as shown in:\n",
            "    https://scikit-learn.org/stable/modules/preprocessing.html\n",
            "Please also refer to the documentation for alternative solver options:\n",
            "    https://scikit-learn.org/stable/modules/linear_model.html#logistic-regression\n",
            "  extra_warning_msg=_LOGISTIC_SOLVER_CONVERGENCE_MSG)\n"
          ],
          "name": "stderr"
        }
      ]
    },
    {
      "cell_type": "code",
      "metadata": {
        "id": "VofLIyRWsWG8",
        "colab_type": "code",
        "colab": {
          "base_uri": "https://localhost:8080/",
          "height": 153
        },
        "outputId": "fc8d09af-ac3a-4713-a539-d9688d23ac86"
      },
      "source": [
        "print(\"Confusion Matrix       : \\n\" ,confusion_matrix(y_test,y_pred1))\n",
        "print(\"Accuracy of Model      : \",accuracy_score(y_test, y_pred1))\n",
        "print(\"Precision of Model     : \",precision_score(y_test, y_pred1))\n",
        "print(\"Recall of Model        : \" , recall_score(y_test, y_pred1))\n",
        "print(\"F1 Score of Model      : \" ,f1_score(y_test, y_pred1))\n",
        "print(\"ROC_AUC score of Model : \" ,roc_auc_score(y_test,y_pred1))"
      ],
      "execution_count": 29,
      "outputs": [
        {
          "output_type": "stream",
          "text": [
            "Confusion Matrix       : \n",
            " [[ 21  27]\n",
            " [  0 106]]\n",
            "Accuracy of Model      :  0.8246753246753247\n",
            "Precision of Model     :  0.7969924812030075\n",
            "Recall of Model        :  1.0\n",
            "F1 Score of Model      :  0.8870292887029287\n",
            "ROC_AUC score of Model :  0.71875\n"
          ],
          "name": "stdout"
        }
      ]
    },
    {
      "cell_type": "code",
      "metadata": {
        "id": "G66nxBr3u3aS",
        "colab_type": "code",
        "colab": {
          "base_uri": "https://localhost:8080/",
          "height": 296
        },
        "outputId": "e7cbfef2-5a2f-4d7b-c029-b9be611c8d55"
      },
      "source": [
        "from matplotlib import pyplot as plt\n",
        "fpr, tpr, thresholds = roc_curve(y_test,y_pred1)\n",
        "plt.figure(1)\n",
        "plt.plot([0, 1], [0, 1], 'k--')\n",
        "plt.plot(fpr, tpr, label='ROC curve (area = %0.2f)'% roc_auc_score(y_test,y_pred1))\n",
        "plt.xlabel('False Positive Rate')\n",
        "plt.ylabel('True Positive Rate')\n",
        "plt.legend(loc='best')"
      ],
      "execution_count": 30,
      "outputs": [
        {
          "output_type": "execute_result",
          "data": {
            "text/plain": [
              "<matplotlib.legend.Legend at 0x7f0e57e2e198>"
            ]
          },
          "metadata": {
            "tags": []
          },
          "execution_count": 30
        },
        {
          "output_type": "display_data",
          "data": {
            "image/png": "[encoded data removed]",
            "text/plain": [
              "<Figure size 432x288 with 1 Axes>"
            ]
          },
          "metadata": {
            "tags": [],
            "needs_background": "light"
          }
        }
      ]
    },
    {
      "cell_type": "markdown",
      "metadata": {
        "id": "h8IoiPfYaVxk",
        "colab_type": "text"
      },
      "source": [
        "**2.Using RandomForest Classifier** - \n",
        "\n",
        "Perform the parameter tuning and list your best performance metrics on\n",
        "\n",
        "Precision ,Recall & F1 Score ,AUROC"
      ]
    },
    {
      "cell_type": "code",
      "metadata": {
        "id": "7KEx2DXpawVF",
        "colab_type": "code",
        "colab": {
          "base_uri": "https://localhost:8080/",
          "height": 102
        },
        "outputId": "9022cf69-8757-4b00-b7fd-3efa48a7c95b"
      },
      "source": [
        "from sklearn.ensemble import RandomForestClassifier\n",
        "forest = RandomForestClassifier(random_state=21)\n",
        "forest.fit(X_train,Y_train)\n",
        "y_pred2 = forest.predict(x_test)\n",
        "print(\"y_pred2 : \",y_pred2)"
      ],
      "execution_count": 47,
      "outputs": [
        {
          "output_type": "stream",
          "text": [
            "y_pred2 :  [0 1 1 1 0 1 0 1 0 1 1 1 1 0 1 1 0 1 1 1 1 1 1 1 1 1 1 1 1 1 1 1 1 1 1 1 1\n",
            " 1 0 1 1 1 1 1 0 1 0 0 1 1 1 0 1 1 1 1 1 1 1 0 1 1 1 1 1 0 1 1 1 1 1 1 0 0\n",
            " 1 1 1 1 1 1 1 0 1 0 1 0 1 1 0 1 1 1 1 1 1 0 1 1 1 1 1 1 1 1 1 1 1 1 1 1 1\n",
            " 1 1 1 1 1 1 1 1 1 1 1 1 1 1 1 0 1 1 1 1 1 1 1 0 1 1 1 1 1 0 1 0 1 1 1 1 1\n",
            " 0 1 0 1 0 1]\n"
          ],
          "name": "stdout"
        }
      ]
    },
    {
      "cell_type": "code",
      "metadata": {
        "id": "vSEqOKUuyEPT",
        "colab_type": "code",
        "colab": {
          "base_uri": "https://localhost:8080/",
          "height": 153
        },
        "outputId": "dbf89b51-24c9-4d16-828e-02bbd57e35d4"
      },
      "source": [
        "print(\"Confusion Matrix       : \\n\" ,confusion_matrix(y_test,y_pred2))\n",
        "print(\"Accuracy of Model      : \",accuracy_score(y_test, y_pred2))\n",
        "print(\"Precision of Model     : \",precision_score(y_test, y_pred2))\n",
        "print(\"Recall of Model        : \" , recall_score(y_test, y_pred2))\n",
        "print(\"F1 Score of Model      : \" ,f1_score(y_test, y_pred2))\n",
        "print(\"ROC_AUC score of Model : \" ,roc_auc_score(y_test,y_pred2))"
      ],
      "execution_count": 48,
      "outputs": [
        {
          "output_type": "stream",
          "text": [
            "Confusion Matrix       : \n",
            " [[ 23  25]\n",
            " [  4 102]]\n",
            "Accuracy of Model      :  0.8116883116883117\n",
            "Precision of Model     :  0.8031496062992126\n",
            "Recall of Model        :  0.9622641509433962\n",
            "F1 Score of Model      :  0.8755364806866953\n",
            "ROC_AUC score of Model :  0.7207154088050314\n"
          ],
          "name": "stdout"
        }
      ]
    },
    {
      "cell_type": "code",
      "metadata": {
        "id": "0AAKGbQDyOmT",
        "colab_type": "code",
        "colab": {
          "base_uri": "https://localhost:8080/",
          "height": 296
        },
        "outputId": "d923e8fd-7ebf-47e0-dd2d-f23bddb368a1"
      },
      "source": [
        "fpr, tpr, thresholds = roc_curve(y_test,y_pred2)\n",
        "plt.figure(1)\n",
        "plt.plot([0, 1], [0, 1], 'k--')\n",
        "plt.plot(fpr, tpr, label='ROC curve (area = %0.2f)'% roc_auc_score(y_test,y_pred2))\n",
        "plt.xlabel('False Positive Rate')\n",
        "plt.ylabel('True Positive Rate')\n",
        "plt.legend(loc='best')"
      ],
      "execution_count": 35,
      "outputs": [
        {
          "output_type": "execute_result",
          "data": {
            "text/plain": [
              "<matplotlib.legend.Legend at 0x7f0e57de70b8>"
            ]
          },
          "metadata": {
            "tags": []
          },
          "execution_count": 35
        },
        {
          "output_type": "display_data",
          "data": {
            "image/png": "[encoded data removed]",
            "text/plain": [
              "<Figure size 432x288 with 1 Axes>"
            ]
          },
          "metadata": {
            "tags": [],
            "needs_background": "light"
          }
        }
      ]
    },
    {
      "cell_type": "markdown",
      "metadata": {
        "id": "7Uhv3WQYbPV4",
        "colab_type": "text"
      },
      "source": [
        "**---------- Use One hot Encoder as encoding technique on feature , predict using the below algorithms ----------**"
      ]
    },
    {
      "cell_type": "code",
      "metadata": {
        "id": "iOvs_M3nySvx",
        "colab_type": "code",
        "colab": {
          "base_uri": "https://localhost:8080/",
          "height": 241
        },
        "outputId": "963b591b-aa0b-49ab-c70d-5b349ba9946a"
      },
      "source": [
        "enc_oh=new_df.copy()\n",
        "enc_oh['enc_Loan_Status'] = le.fit_transform(enc_oh['Loan_Status'])\n",
        "enc_oh=enc_oh.drop(columns=['Loan_Status'])\n",
        "for j in list(set(cate_var)-{'Loan_Status'}) :\n",
        "   enc_oh = pd.get_dummies(enc_oh, columns=[j], prefix=[j] )\n",
        "enc_oh.head()"
      ],
      "execution_count": 20,
      "outputs": [
        {
          "output_type": "execute_result",
          "data": {
            "text/html": [
              "<div>\n",
              "<style scoped>\n",
              "    .dataframe tbody tr th:only-of-type {\n",
              "        vertical-align: middle;\n",
              "    }\n",
              "\n",
              "    .dataframe tbody tr th {\n",
              "        vertical-align: top;\n",
              "    }\n",
              "\n",
              "    .dataframe thead th {\n",
              "        text-align: right;\n",
              "    }\n",
              "</style>\n",
              "<table border=\"1\" class=\"dataframe\">\n",
              "  <thead>\n",
              "    <tr style=\"text-align: right;\">\n",
              "      <th></th>\n",
              "      <th>ApplicantIncome</th>\n",
              "      <th>CoapplicantIncome</th>\n",
              "      <th>LoanAmount</th>\n",
              "      <th>enc_Loan_Status</th>\n",
              "      <th>Property_Area_Rural</th>\n",
              "      <th>Property_Area_Semiurban</th>\n",
              "      <th>Property_Area_Urban</th>\n",
              "      <th>Married_No</th>\n",
              "      <th>Married_Yes</th>\n",
              "      <th>Credit_History_0.0</th>\n",
              "      <th>Credit_History_1.0</th>\n",
              "      <th>Gender_Female</th>\n",
              "      <th>Gender_Male</th>\n",
              "      <th>Dependents_0</th>\n",
              "      <th>Dependents_1</th>\n",
              "      <th>Dependents_2</th>\n",
              "      <th>Dependents_3+</th>\n",
              "      <th>Self_Employed_No</th>\n",
              "      <th>Self_Employed_Yes</th>\n",
              "      <th>Education_Graduate</th>\n",
              "      <th>Education_Not Graduate</th>\n",
              "      <th>Loan_Amount_Term_12.0</th>\n",
              "      <th>Loan_Amount_Term_36.0</th>\n",
              "      <th>Loan_Amount_Term_60.0</th>\n",
              "      <th>Loan_Amount_Term_84.0</th>\n",
              "      <th>Loan_Amount_Term_120.0</th>\n",
              "      <th>Loan_Amount_Term_180.0</th>\n",
              "      <th>Loan_Amount_Term_240.0</th>\n",
              "      <th>Loan_Amount_Term_300.0</th>\n",
              "      <th>Loan_Amount_Term_360.0</th>\n",
              "      <th>Loan_Amount_Term_480.0</th>\n",
              "    </tr>\n",
              "  </thead>\n",
              "  <tbody>\n",
              "    <tr>\n",
              "      <th>0</th>\n",
              "      <td>5849.0</td>\n",
              "      <td>0.0</td>\n",
              "      <td>128.0</td>\n",
              "      <td>1</td>\n",
              "      <td>0</td>\n",
              "      <td>0</td>\n",
              "      <td>1</td>\n",
              "      <td>1</td>\n",
              "      <td>0</td>\n",
              "      <td>0</td>\n",
              "      <td>1</td>\n",
              "      <td>0</td>\n",
              "      <td>1</td>\n",
              "      <td>1</td>\n",
              "      <td>0</td>\n",
              "      <td>0</td>\n",
              "      <td>0</td>\n",
              "      <td>1</td>\n",
              "      <td>0</td>\n",
              "      <td>1</td>\n",
              "      <td>0</td>\n",
              "      <td>0</td>\n",
              "      <td>0</td>\n",
              "      <td>0</td>\n",
              "      <td>0</td>\n",
              "      <td>0</td>\n",
              "      <td>0</td>\n",
              "      <td>0</td>\n",
              "      <td>0</td>\n",
              "      <td>1</td>\n",
              "      <td>0</td>\n",
              "    </tr>\n",
              "    <tr>\n",
              "      <th>1</th>\n",
              "      <td>4583.0</td>\n",
              "      <td>1508.0</td>\n",
              "      <td>128.0</td>\n",
              "      <td>0</td>\n",
              "      <td>1</td>\n",
              "      <td>0</td>\n",
              "      <td>0</td>\n",
              "      <td>0</td>\n",
              "      <td>1</td>\n",
              "      <td>0</td>\n",
              "      <td>1</td>\n",
              "      <td>0</td>\n",
              "      <td>1</td>\n",
              "      <td>0</td>\n",
              "      <td>1</td>\n",
              "      <td>0</td>\n",
              "      <td>0</td>\n",
              "      <td>1</td>\n",
              "      <td>0</td>\n",
              "      <td>1</td>\n",
              "      <td>0</td>\n",
              "      <td>0</td>\n",
              "      <td>0</td>\n",
              "      <td>0</td>\n",
              "      <td>0</td>\n",
              "      <td>0</td>\n",
              "      <td>0</td>\n",
              "      <td>0</td>\n",
              "      <td>0</td>\n",
              "      <td>1</td>\n",
              "      <td>0</td>\n",
              "    </tr>\n",
              "    <tr>\n",
              "      <th>2</th>\n",
              "      <td>3000.0</td>\n",
              "      <td>0.0</td>\n",
              "      <td>66.0</td>\n",
              "      <td>1</td>\n",
              "      <td>0</td>\n",
              "      <td>0</td>\n",
              "      <td>1</td>\n",
              "      <td>0</td>\n",
              "      <td>1</td>\n",
              "      <td>0</td>\n",
              "      <td>1</td>\n",
              "      <td>0</td>\n",
              "      <td>1</td>\n",
              "      <td>1</td>\n",
              "      <td>0</td>\n",
              "      <td>0</td>\n",
              "      <td>0</td>\n",
              "      <td>0</td>\n",
              "      <td>1</td>\n",
              "      <td>1</td>\n",
              "      <td>0</td>\n",
              "      <td>0</td>\n",
              "      <td>0</td>\n",
              "      <td>0</td>\n",
              "      <td>0</td>\n",
              "      <td>0</td>\n",
              "      <td>0</td>\n",
              "      <td>0</td>\n",
              "      <td>0</td>\n",
              "      <td>1</td>\n",
              "      <td>0</td>\n",
              "    </tr>\n",
              "    <tr>\n",
              "      <th>3</th>\n",
              "      <td>2583.0</td>\n",
              "      <td>2358.0</td>\n",
              "      <td>120.0</td>\n",
              "      <td>1</td>\n",
              "      <td>0</td>\n",
              "      <td>0</td>\n",
              "      <td>1</td>\n",
              "      <td>0</td>\n",
              "      <td>1</td>\n",
              "      <td>0</td>\n",
              "      <td>1</td>\n",
              "      <td>0</td>\n",
              "      <td>1</td>\n",
              "      <td>1</td>\n",
              "      <td>0</td>\n",
              "      <td>0</td>\n",
              "      <td>0</td>\n",
              "      <td>1</td>\n",
              "      <td>0</td>\n",
              "      <td>0</td>\n",
              "      <td>1</td>\n",
              "      <td>0</td>\n",
              "      <td>0</td>\n",
              "      <td>0</td>\n",
              "      <td>0</td>\n",
              "      <td>0</td>\n",
              "      <td>0</td>\n",
              "      <td>0</td>\n",
              "      <td>0</td>\n",
              "      <td>1</td>\n",
              "      <td>0</td>\n",
              "    </tr>\n",
              "    <tr>\n",
              "      <th>4</th>\n",
              "      <td>6000.0</td>\n",
              "      <td>0.0</td>\n",
              "      <td>141.0</td>\n",
              "      <td>1</td>\n",
              "      <td>0</td>\n",
              "      <td>0</td>\n",
              "      <td>1</td>\n",
              "      <td>1</td>\n",
              "      <td>0</td>\n",
              "      <td>0</td>\n",
              "      <td>1</td>\n",
              "      <td>0</td>\n",
              "      <td>1</td>\n",
              "      <td>1</td>\n",
              "      <td>0</td>\n",
              "      <td>0</td>\n",
              "      <td>0</td>\n",
              "      <td>1</td>\n",
              "      <td>0</td>\n",
              "      <td>1</td>\n",
              "      <td>0</td>\n",
              "      <td>0</td>\n",
              "      <td>0</td>\n",
              "      <td>0</td>\n",
              "      <td>0</td>\n",
              "      <td>0</td>\n",
              "      <td>0</td>\n",
              "      <td>0</td>\n",
              "      <td>0</td>\n",
              "      <td>1</td>\n",
              "      <td>0</td>\n",
              "    </tr>\n",
              "  </tbody>\n",
              "</table>\n",
              "</div>"
            ],
            "text/plain": [
              "   ApplicantIncome  ...  Loan_Amount_Term_480.0\n",
              "0           5849.0  ...                       0\n",
              "1           4583.0  ...                       0\n",
              "2           3000.0  ...                       0\n",
              "3           2583.0  ...                       0\n",
              "4           6000.0  ...                       0\n",
              "\n",
              "[5 rows x 31 columns]"
            ]
          },
          "metadata": {
            "tags": []
          },
          "execution_count": 20
        }
      ]
    },
    {
      "cell_type": "code",
      "metadata": {
        "id": "09UffXMsEVDh",
        "colab_type": "code",
        "colab": {
          "base_uri": "https://localhost:8080/",
          "height": 340
        },
        "outputId": "6fe72ba6-b5f2-4457-e6b8-5307b5500455"
      },
      "source": [
        "df_t = pd.DataFrame(enc_oh['enc_Loan_Status'])\n",
        "df_t.columns = (['Loan_Status'])\n",
        "enc_oh=enc_oh.drop(columns='enc_Loan_Status')\n",
        "X_train, x_test, Y_train, y_test = train_test_split(enc_oh,df_t,test_size = 0.25, random_state = 21, stratify = df_t)\n",
        "print(\"TRAIN(X_train) Feature set        : \",len(X_train))\n",
        "print(\"TRAIN(Y_train) Label Feature set  : \",len(Y_train))\n",
        "print(\"TEST (x_test)  Feature set        : \",len(x_test))\n",
        "print(\"TEST (y_test)  Label set          : \",len(y_test))\n",
        "print(\"-------For Training Set--------\\n\")\n",
        "print(Y_train['Loan_Status'].value_counts())\n",
        "l_1,l_2= Y_train['Loan_Status'].value_counts()\n",
        "print(\"Class Label 1 is : \",(l_1/Y_train.shape[0])*100,\"%\")\n",
        "print(\"Class Label 0 is : \",(l_2/Y_train.shape[0])*100,\"%\")\n",
        "print(\"\\n-------For Testing Set--------\\n\")\n",
        "print(y_test['Loan_Status'].value_counts())\n",
        "l_1,l_2= y_test['Loan_Status'].value_counts()\n",
        "print(\"Class Label 1 is : \",(l_1/y_test.shape[0])*100,\"%\")\n",
        "print(\"Class Label 0 is : \",(l_2/y_test.shape[0])*100,\"%\")\n"
      ],
      "execution_count": 21,
      "outputs": [
        {
          "output_type": "stream",
          "text": [
            "TRAIN(X_train) Feature set        :  460\n",
            "TRAIN(Y_train) Label Feature set  :  460\n",
            "TEST (x_test)  Feature set        :  154\n",
            "TEST (y_test)  Label set          :  154\n",
            "-------For Training Set--------\n",
            "\n",
            "1    316\n",
            "0    144\n",
            "Name: Loan_Status, dtype: int64\n",
            "Class Label 1 is :  68.69565217391305 %\n",
            "Class Label 0 is :  31.30434782608696 %\n",
            "\n",
            "-------For Testing Set--------\n",
            "\n",
            "1    106\n",
            "0     48\n",
            "Name: Loan_Status, dtype: int64\n",
            "Class Label 1 is :  68.83116883116884 %\n",
            "Class Label 0 is :  31.16883116883117 %\n"
          ],
          "name": "stdout"
        }
      ]
    },
    {
      "cell_type": "markdown",
      "metadata": {
        "id": "X-YNQctoawpJ",
        "colab_type": "text"
      },
      "source": [
        "**3.Using Logistic Regression -**\n",
        "\n",
        " Perform the parameter tuning and list your best performance metrics on -\n",
        "\n",
        "Precision ,Recall & F1 Score ,AUROC\n"
      ]
    },
    {
      "cell_type": "code",
      "metadata": {
        "id": "RXrvRDKHa7he",
        "colab_type": "code",
        "colab": {
          "base_uri": "https://localhost:8080/",
          "height": 102
        },
        "outputId": "556b3800-b69d-486d-8b14-e220b717639d"
      },
      "source": [
        "logi = LogisticRegression(random_state=21)\n",
        "logi.fit(X_train, Y_train)\n",
        "y_pred3 = logi.predict(x_test)\n",
        "print(\"y_pred3 : \",y_pred3)"
      ],
      "execution_count": 36,
      "outputs": [
        {
          "output_type": "stream",
          "text": [
            "y_pred3 :  [0 1 1 1 1 1 0 1 0 1 1 1 1 0 1 1 1 1 1 1 1 1 1 1 1 1 1 1 1 1 1 1 1 1 1 1 1\n",
            " 1 1 1 1 1 1 1 0 1 0 0 1 1 1 0 1 1 1 1 1 1 1 0 1 1 1 1 1 0 1 1 1 1 1 1 0 0\n",
            " 1 1 1 1 1 1 1 0 1 0 1 0 1 1 0 1 1 1 1 1 1 1 1 1 1 1 1 1 1 1 1 1 1 1 1 1 1\n",
            " 1 1 1 1 1 1 1 1 1 1 1 1 1 1 1 0 1 1 1 1 1 1 1 0 1 1 1 1 1 0 1 1 1 1 1 1 1\n",
            " 0 1 1 1 1 1]\n"
          ],
          "name": "stdout"
        }
      ]
    },
    {
      "cell_type": "code",
      "metadata": {
        "id": "knvlFF6DFtM3",
        "colab_type": "code",
        "colab": {
          "base_uri": "https://localhost:8080/",
          "height": 432
        },
        "outputId": "61015f61-fb01-46fc-fa93-311e6204cf07"
      },
      "source": [
        "print(\"Confusion Matrix       : \\n\" ,confusion_matrix(y_test,y_pred3))\n",
        "print(\"Accuracy of Model      : \",accuracy_score(y_test, y_pred3))\n",
        "print(\"Precision of Model     : \",precision_score(y_test, y_pred3))\n",
        "print(\"Recall of Model        : \" , recall_score(y_test, y_pred3))\n",
        "print(\"F1 Score of Model      : \" ,f1_score(y_test, y_pred3))\n",
        "print(\"ROC_AUC score of Model : \" ,roc_auc_score(y_test,y_pred3))\t\n",
        "fpr, tpr, thresholds = roc_curve(y_test,y_pred3)\n",
        "plt.figure(1)\n",
        "plt.plot([0, 1], [0, 1], 'k--')\n",
        "plt.plot(fpr, tpr, label='ROC curve (area = %0.2f)'% roc_auc_score(y_test,y_pred3))\n",
        "plt.xlabel('False Positive Rate')\n",
        "plt.ylabel('True Positive Rate')\n",
        "plt.legend(loc='best')\n"
      ],
      "execution_count": 37,
      "outputs": [
        {
          "output_type": "stream",
          "text": [
            "Confusion Matrix       : \n",
            " [[ 20  28]\n",
            " [  0 106]]\n",
            "Accuracy of Model      :  0.8181818181818182\n",
            "Precision of Model     :  0.7910447761194029\n",
            "Recall of Model        :  1.0\n",
            "F1 Score of Model      :  0.8833333333333333\n",
            "ROC_AUC score of Model :  0.7083333333333333\n"
          ],
          "name": "stdout"
        },
        {
          "output_type": "execute_result",
          "data": {
            "text/plain": [
              "<matplotlib.legend.Legend at 0x7f0e57d5aef0>"
            ]
          },
          "metadata": {
            "tags": []
          },
          "execution_count": 37
        },
        {
          "output_type": "display_data",
          "data": {
            "image/png": "[encoded data removed]",
            "text/plain": [
              "<Figure size 432x288 with 1 Axes>"
            ]
          },
          "metadata": {
            "tags": [],
            "needs_background": "light"
          }
        }
      ]
    },
    {
      "cell_type": "markdown",
      "metadata": {
        "id": "sh3tThMEa_s7",
        "colab_type": "text"
      },
      "source": [
        "**4.Using RandomForest Classifier -** \n",
        "\n",
        "Perform the parameter tuning and list your best performance metrics on -\n",
        "\n",
        "Precision ,Recall & F1 Score ,AUROC"
      ]
    },
    {
      "cell_type": "code",
      "metadata": {
        "id": "JEjsWB6aF6-k",
        "colab_type": "code",
        "colab": {
          "base_uri": "https://localhost:8080/",
          "height": 102
        },
        "outputId": "5c9ed638-cbce-4455-d050-934519443583"
      },
      "source": [
        "forest = RandomForestClassifier(random_state=21)\n",
        "forest.fit(X_train,Y_train)\n",
        "y_pred4 = forest.predict(x_test)\n",
        "print(\"y_pred4 : \",y_pred4)"
      ],
      "execution_count": 45,
      "outputs": [
        {
          "output_type": "stream",
          "text": [
            "y_pred4 :  [0 1 1 1 0 1 0 1 0 1 1 1 1 0 1 1 0 1 1 1 1 1 1 1 1 1 1 1 1 1 1 1 1 1 1 1 1\n",
            " 1 0 1 1 1 1 1 0 1 0 0 1 1 1 0 1 1 1 1 1 1 1 0 1 1 1 1 1 0 1 1 1 1 1 1 0 0\n",
            " 1 1 1 1 1 1 1 0 1 0 1 0 1 1 0 1 1 1 1 1 1 0 1 1 1 1 1 1 1 1 1 1 1 1 1 1 1\n",
            " 1 1 1 1 1 1 1 1 1 1 1 1 1 1 1 0 1 1 1 1 1 1 1 0 1 1 1 1 1 0 1 0 1 1 1 1 1\n",
            " 0 1 0 1 0 1]\n"
          ],
          "name": "stdout"
        }
      ]
    },
    {
      "cell_type": "code",
      "metadata": {
        "id": "RAIXf51HGHpS",
        "colab_type": "code",
        "colab": {
          "base_uri": "https://localhost:8080/",
          "height": 432
        },
        "outputId": "4cd57b70-a847-430a-a9f0-5b205faf3286"
      },
      "source": [
        "print(\"Confusion Matrix       : \\n\" ,confusion_matrix(y_test,y_pred4))\n",
        "print(\"Accuracy of Model      : \",accuracy_score(y_test, y_pred4))\n",
        "print(\"Precision of Model     : \",precision_score(y_test, y_pred4))\n",
        "print(\"Recall of Model        : \" , recall_score(y_test, y_pred4))\n",
        "print(\"F1 Score of Model      : \" ,f1_score(y_test, y_pred4))\n",
        "print(\"ROC_AUC score of Model : \" ,roc_auc_score(y_test,y_pred4))\n",
        "#plotting the ROC curve \n",
        "fpr, tpr, thresholds = roc_curve(y_test,y_pred4)\n",
        "plt.figure(1)\n",
        "plt.plot([0, 1], [0, 1], 'k--')\n",
        "plt.plot(fpr, tpr, label='ROC curve (area = %0.2f)'% roc_auc_score(y_test,y_pred4))\n",
        "plt.xlabel('False Positive Rate')\n",
        "plt.ylabel('True Positive Rate')\n",
        "plt.legend(loc='best')"
      ],
      "execution_count": 46,
      "outputs": [
        {
          "output_type": "stream",
          "text": [
            "Confusion Matrix       : \n",
            " [[ 23  25]\n",
            " [  4 102]]\n",
            "Accuracy of Model      :  0.8116883116883117\n",
            "Precision of Model     :  0.8031496062992126\n",
            "Recall of Model        :  0.9622641509433962\n",
            "F1 Score of Model      :  0.8755364806866953\n",
            "ROC_AUC score of Model :  0.7207154088050314\n"
          ],
          "name": "stdout"
        },
        {
          "output_type": "execute_result",
          "data": {
            "text/plain": [
              "<matplotlib.legend.Legend at 0x7f0e5ad8f748>"
            ]
          },
          "metadata": {
            "tags": []
          },
          "execution_count": 46
        },
        {
          "output_type": "display_data",
          "data": {
            "image/png": "[encoded data removed]",
            "text/plain": [
              "<Figure size 432x288 with 1 Axes>"
            ]
          },
          "metadata": {
            "tags": [],
            "needs_background": "light"
          }
        }
      ]
    },
    {
      "cell_type": "markdown",
      "metadata": {
        "id": "T_GJawJLlZGE",
        "colab_type": "text"
      },
      "source": [
        "1. Using Label Encoding :\n",
        "  * Logistic Regression\n",
        "    * Accuracy      : 82.46 %\n",
        "    * Precision     : 79.69 %\n",
        "  * Random Forest\n",
        "    * Accuracy      : 81.16 %\n",
        "    * Precision     : 80.31 %\n",
        "2. Using One Hot Encoding :\n",
        "  * Logistic Regression\n",
        "    * Accuracy      : 81.81 %\n",
        "    * Precision     : 79.10 %\n",
        "  * Random Forest\n",
        "    * Accuracy      : 81.16 %\n",
        "    * Precision     : 80.31 %\n",
        "\n",
        "By the resuls it is clear that\n",
        "\n",
        " **Label encoding gave better results for Logistic Regression**\n",
        " \n",
        "Whlie \n",
        " \n",
        " **The results for Random Forest in One Hot encoding and Label Encoding were same**"
      ]
    },
    {
      "cell_type": "code",
      "metadata": {
        "id": "XGrGJL0_JXPz",
        "colab_type": "code",
        "colab": {
          "base_uri": "https://localhost:8080/",
          "height": 238
        },
        "outputId": "3e13b0bc-37bc-4fde-febe-c096aed3fc7c"
      },
      "source": [
        "print(logi)\n",
        "print(forest)"
      ],
      "execution_count": 26,
      "outputs": [
        {
          "output_type": "stream",
          "text": [
            "LogisticRegression(C=1.0, class_weight=None, dual=False, fit_intercept=True,\n",
            "                   intercept_scaling=1, l1_ratio=None, max_iter=100,\n",
            "                   multi_class='auto', n_jobs=None, penalty='l2',\n",
            "                   random_state=21, solver='liblinear', tol=0.0001, verbose=0,\n",
            "                   warm_start=False)\n",
            "RandomForestClassifier(bootstrap=True, ccp_alpha=0.0, class_weight=None,\n",
            "                       criterion='gini', max_depth=3, max_features='auto',\n",
            "                       max_leaf_nodes=None, max_samples=None,\n",
            "                       min_impurity_decrease=0.0, min_impurity_split=None,\n",
            "                       min_samples_leaf=10, min_samples_split=2,\n",
            "                       min_weight_fraction_leaf=0.0, n_estimators=100,\n",
            "                       n_jobs=None, oob_score=False, random_state=21, verbose=0,\n",
            "                       warm_start=False)\n"
          ],
          "name": "stdout"
        }
      ]
    }
  ]
}