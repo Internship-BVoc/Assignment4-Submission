{
  "nbformat": 4,
  "nbformat_minor": 0,
  "metadata": {
    "colab": {
      "name": "Assignment-4 Shiva Baghel",
      "provenance": []
    },
    "kernelspec": {
      "name": "python3",
      "display_name": "Python 3"
    }
  },
  "cells": [
    {
      "cell_type": "code",
      "metadata": {
        "id": "v3n9prYAKAhx",
        "colab_type": "code",
        "colab": {}
      },
      "source": [
        "import pandas as pd\n",
        "import numpy as np\n",
        "from scipy.stats import mstats\n",
        "import matplotlib.pyplot as plt\n",
        "from sklearn.preprocessing import LabelEncoder\n",
        "from sklearn.preprocessing import OneHotEncoder\n",
        "from sklearn.model_selection import train_test_split\n",
        "from sklearn.model_selection import GridSearchCV\n",
        "from sklearn.model_selection import RandomizedSearchCV\n",
        "from sklearn.metrics import *\n",
        "from sklearn.linear_model import LogisticRegression\n",
        "from sklearn.ensemble import RandomForestClassifier"
      ],
      "execution_count": 0,
      "outputs": []
    },
    {
      "cell_type": "code",
      "metadata": {
        "id": "2K0PH-jNKmbk",
        "colab_type": "code",
        "colab": {
          "base_uri": "https://localhost:8080/",
          "height": 241
        },
        "outputId": "15e8fa23-096c-4a8e-c128-ad7d274d75ec"
      },
      "source": [
        "df = pd.read_csv('dataset_model.csv')\n",
        "pd.set_option('display.max_rows', df.shape[0]+1)\n",
        "df.head()"
      ],
      "execution_count": 295,
      "outputs": [
        {
          "output_type": "execute_result",
          "data": {
            "text/html": [
              "<div>\n",
              "<style scoped>\n",
              "    .dataframe tbody tr th:only-of-type {\n",
              "        vertical-align: middle;\n",
              "    }\n",
              "\n",
              "    .dataframe tbody tr th {\n",
              "        vertical-align: top;\n",
              "    }\n",
              "\n",
              "    .dataframe thead th {\n",
              "        text-align: right;\n",
              "    }\n",
              "</style>\n",
              "<table border=\"1\" class=\"dataframe\">\n",
              "  <thead>\n",
              "    <tr style=\"text-align: right;\">\n",
              "      <th></th>\n",
              "      <th>Loan_ID</th>\n",
              "      <th>Gender</th>\n",
              "      <th>Married</th>\n",
              "      <th>Dependents</th>\n",
              "      <th>Education</th>\n",
              "      <th>Self_Employed</th>\n",
              "      <th>ApplicantIncome</th>\n",
              "      <th>CoapplicantIncome</th>\n",
              "      <th>LoanAmount</th>\n",
              "      <th>Loan_Amount_Term</th>\n",
              "      <th>Credit_History</th>\n",
              "      <th>Property_Area</th>\n",
              "      <th>Loan_Status</th>\n",
              "    </tr>\n",
              "  </thead>\n",
              "  <tbody>\n",
              "    <tr>\n",
              "      <th>0</th>\n",
              "      <td>LP001002</td>\n",
              "      <td>Male</td>\n",
              "      <td>No</td>\n",
              "      <td>0</td>\n",
              "      <td>Graduate</td>\n",
              "      <td>No</td>\n",
              "      <td>5849</td>\n",
              "      <td>0.0</td>\n",
              "      <td>NaN</td>\n",
              "      <td>360.0</td>\n",
              "      <td>1.0</td>\n",
              "      <td>Urban</td>\n",
              "      <td>Y</td>\n",
              "    </tr>\n",
              "    <tr>\n",
              "      <th>1</th>\n",
              "      <td>LP001003</td>\n",
              "      <td>Male</td>\n",
              "      <td>Yes</td>\n",
              "      <td>1</td>\n",
              "      <td>Graduate</td>\n",
              "      <td>No</td>\n",
              "      <td>4583</td>\n",
              "      <td>1508.0</td>\n",
              "      <td>128.0</td>\n",
              "      <td>360.0</td>\n",
              "      <td>1.0</td>\n",
              "      <td>Rural</td>\n",
              "      <td>N</td>\n",
              "    </tr>\n",
              "    <tr>\n",
              "      <th>2</th>\n",
              "      <td>LP001005</td>\n",
              "      <td>Male</td>\n",
              "      <td>Yes</td>\n",
              "      <td>0</td>\n",
              "      <td>Graduate</td>\n",
              "      <td>Yes</td>\n",
              "      <td>3000</td>\n",
              "      <td>0.0</td>\n",
              "      <td>66.0</td>\n",
              "      <td>360.0</td>\n",
              "      <td>1.0</td>\n",
              "      <td>Urban</td>\n",
              "      <td>Y</td>\n",
              "    </tr>\n",
              "    <tr>\n",
              "      <th>3</th>\n",
              "      <td>LP001006</td>\n",
              "      <td>Male</td>\n",
              "      <td>Yes</td>\n",
              "      <td>0</td>\n",
              "      <td>Not Graduate</td>\n",
              "      <td>No</td>\n",
              "      <td>2583</td>\n",
              "      <td>2358.0</td>\n",
              "      <td>120.0</td>\n",
              "      <td>360.0</td>\n",
              "      <td>1.0</td>\n",
              "      <td>Urban</td>\n",
              "      <td>Y</td>\n",
              "    </tr>\n",
              "    <tr>\n",
              "      <th>4</th>\n",
              "      <td>LP001008</td>\n",
              "      <td>Male</td>\n",
              "      <td>No</td>\n",
              "      <td>0</td>\n",
              "      <td>Graduate</td>\n",
              "      <td>No</td>\n",
              "      <td>6000</td>\n",
              "      <td>0.0</td>\n",
              "      <td>141.0</td>\n",
              "      <td>360.0</td>\n",
              "      <td>1.0</td>\n",
              "      <td>Urban</td>\n",
              "      <td>Y</td>\n",
              "    </tr>\n",
              "  </tbody>\n",
              "</table>\n",
              "</div>"
            ],
            "text/plain": [
              "    Loan_ID Gender Married  ... Credit_History Property_Area Loan_Status\n",
              "0  LP001002   Male      No  ...            1.0         Urban           Y\n",
              "1  LP001003   Male     Yes  ...            1.0         Rural           N\n",
              "2  LP001005   Male     Yes  ...            1.0         Urban           Y\n",
              "3  LP001006   Male     Yes  ...            1.0         Urban           Y\n",
              "4  LP001008   Male      No  ...            1.0         Urban           Y\n",
              "\n",
              "[5 rows x 13 columns]"
            ]
          },
          "metadata": {
            "tags": []
          },
          "execution_count": 295
        }
      ]
    },
    {
      "cell_type": "markdown",
      "metadata": {
        "id": "IPOCCYiuKtBU",
        "colab_type": "text"
      },
      "source": [
        "**Removing Unique Variable**"
      ]
    },
    {
      "cell_type": "code",
      "metadata": {
        "id": "68Tm79r2Kopm",
        "colab_type": "code",
        "colab": {}
      },
      "source": [
        "uni_Var = [i for i in df.columns if df[i].unique().size == df.shape[0]]\n",
        "df = df.drop(uni_Var, axis=1)"
      ],
      "execution_count": 0,
      "outputs": []
    },
    {
      "cell_type": "markdown",
      "metadata": {
        "id": "AYeReGjkKvxo",
        "colab_type": "text"
      },
      "source": [
        "**Removing Target Variable**"
      ]
    },
    {
      "cell_type": "code",
      "metadata": {
        "id": "1nYP9A3VKvIj",
        "colab_type": "code",
        "colab": {}
      },
      "source": [
        "tar_Var = df['Loan_Status']\n",
        "df = df.drop(columns='Loan_Status')"
      ],
      "execution_count": 0,
      "outputs": []
    },
    {
      "cell_type": "markdown",
      "metadata": {
        "id": "kryVdrFHKzxD",
        "colab_type": "text"
      },
      "source": [
        "**Detecting and Handling Outlier**\n",
        "\n",
        "1.  Z-Score\n"
      ]
    },
    {
      "cell_type": "code",
      "metadata": {
        "id": "uCArb-U3N6OS",
        "colab_type": "code",
        "colab": {}
      },
      "source": [
        "cont_data = df._get_numeric_data().columns\n",
        "cont_data = cont_data.drop(['Loan_Amount_Term', 'Credit_History'])\n",
        "cat_data = list(set(df.columns) - set(cont_data))"
      ],
      "execution_count": 0,
      "outputs": []
    },
    {
      "cell_type": "code",
      "metadata": {
        "id": "llUKKS6eLOpT",
        "colab_type": "code",
        "colab": {
          "base_uri": "https://localhost:8080/",
          "height": 139
        },
        "outputId": "94ab96ff-42f5-4481-e69c-a68311b077ad"
      },
      "source": [
        "thrs = 3\n",
        "out = []\n",
        "for i in cont_data:\n",
        "  out.clear()\n",
        "  print(i)\n",
        "  mean = np.mean(df[i])\n",
        "  std = np.std(df[i])\n",
        "  for j in df[i]:\n",
        "    z = (j - mean)/std\n",
        "    if np.abs(z) > thrs:\n",
        "      out.append(z)\n",
        "  print(out)\n",
        "#We consider a variable as a outlier if it lies outside of third standard deviation of the column. \n",
        "#Given below the number of outlier in each column"
      ],
      "execution_count": 299,
      "outputs": [
        {
          "output_type": "stream",
          "text": [
            "ApplicantIncome\n",
            "[3.0143095050697597, 5.667623383716305, 7.594863718885357, 4.659606571212465, 5.528044263896173, 9.490977255033487, 12.384622787173148, 5.294101795465248]\n",
            "CoapplicantIncome\n",
            "[3.1967125462128783, 3.3102609013326325, 6.285775026458728, 6.285775026458728, 11.018210537880542, 13.696173250494027]\n",
            "LoanAmount\n",
            "[5.8888825374459675, 5.304189848804997, 6.473575226086938, 4.076335202658959, 3.3863978300626143, 3.900927396066668, 4.017865933794862, 4.953374235620415, 3.023888363105213, 4.134804471523056, 3.900927396066668, 3.900927396066668, 5.304189848804997, 4.088029056431779]\n"
          ],
          "name": "stdout"
        }
      ]
    },
    {
      "cell_type": "markdown",
      "metadata": {
        "id": "R-eySL6AMDO1",
        "colab_type": "text"
      },
      "source": [
        "**Handling Outlier**\n",
        "1. Winsorizing"
      ]
    },
    {
      "cell_type": "code",
      "metadata": {
        "id": "z47TtXChLZr0",
        "colab_type": "code",
        "colab": {
          "base_uri": "https://localhost:8080/",
          "height": 85
        },
        "outputId": "4faf48b2-eae6-4102-f672-90da7f1f0999"
      },
      "source": [
        "df_win = df.copy()\n",
        "df_win[cont_data].skew()"
      ],
      "execution_count": 300,
      "outputs": [
        {
          "output_type": "execute_result",
          "data": {
            "text/plain": [
              "ApplicantIncome      6.539513\n",
              "CoapplicantIncome    7.491531\n",
              "LoanAmount           2.677552\n",
              "dtype: float64"
            ]
          },
          "metadata": {
            "tags": []
          },
          "execution_count": 300
        }
      ]
    },
    {
      "cell_type": "code",
      "metadata": {
        "id": "cGH8v988MFYU",
        "colab_type": "code",
        "colab": {
          "base_uri": "https://localhost:8080/",
          "height": 453
        },
        "outputId": "74afb51b-dfff-480e-8516-970297941797"
      },
      "source": [
        "for i in cont_data:\n",
        "  df_win[i] = mstats.winsorize(df_win[i], limits=[0.05,0.1])\n",
        "df_win.boxplot()\n",
        "df_win.head()"
      ],
      "execution_count": 301,
      "outputs": [
        {
          "output_type": "execute_result",
          "data": {
            "text/html": [
              "<div>\n",
              "<style scoped>\n",
              "    .dataframe tbody tr th:only-of-type {\n",
              "        vertical-align: middle;\n",
              "    }\n",
              "\n",
              "    .dataframe tbody tr th {\n",
              "        vertical-align: top;\n",
              "    }\n",
              "\n",
              "    .dataframe thead th {\n",
              "        text-align: right;\n",
              "    }\n",
              "</style>\n",
              "<table border=\"1\" class=\"dataframe\">\n",
              "  <thead>\n",
              "    <tr style=\"text-align: right;\">\n",
              "      <th></th>\n",
              "      <th>Gender</th>\n",
              "      <th>Married</th>\n",
              "      <th>Dependents</th>\n",
              "      <th>Education</th>\n",
              "      <th>Self_Employed</th>\n",
              "      <th>ApplicantIncome</th>\n",
              "      <th>CoapplicantIncome</th>\n",
              "      <th>LoanAmount</th>\n",
              "      <th>Loan_Amount_Term</th>\n",
              "      <th>Credit_History</th>\n",
              "      <th>Property_Area</th>\n",
              "    </tr>\n",
              "  </thead>\n",
              "  <tbody>\n",
              "    <tr>\n",
              "      <th>0</th>\n",
              "      <td>Male</td>\n",
              "      <td>No</td>\n",
              "      <td>0</td>\n",
              "      <td>Graduate</td>\n",
              "      <td>No</td>\n",
              "      <td>5849</td>\n",
              "      <td>0.0</td>\n",
              "      <td>267.0</td>\n",
              "      <td>360.0</td>\n",
              "      <td>1.0</td>\n",
              "      <td>Urban</td>\n",
              "    </tr>\n",
              "    <tr>\n",
              "      <th>1</th>\n",
              "      <td>Male</td>\n",
              "      <td>Yes</td>\n",
              "      <td>1</td>\n",
              "      <td>Graduate</td>\n",
              "      <td>No</td>\n",
              "      <td>4583</td>\n",
              "      <td>1508.0</td>\n",
              "      <td>128.0</td>\n",
              "      <td>360.0</td>\n",
              "      <td>1.0</td>\n",
              "      <td>Rural</td>\n",
              "    </tr>\n",
              "    <tr>\n",
              "      <th>2</th>\n",
              "      <td>Male</td>\n",
              "      <td>Yes</td>\n",
              "      <td>0</td>\n",
              "      <td>Graduate</td>\n",
              "      <td>Yes</td>\n",
              "      <td>3000</td>\n",
              "      <td>0.0</td>\n",
              "      <td>66.0</td>\n",
              "      <td>360.0</td>\n",
              "      <td>1.0</td>\n",
              "      <td>Urban</td>\n",
              "    </tr>\n",
              "    <tr>\n",
              "      <th>3</th>\n",
              "      <td>Male</td>\n",
              "      <td>Yes</td>\n",
              "      <td>0</td>\n",
              "      <td>Not Graduate</td>\n",
              "      <td>No</td>\n",
              "      <td>2583</td>\n",
              "      <td>2358.0</td>\n",
              "      <td>120.0</td>\n",
              "      <td>360.0</td>\n",
              "      <td>1.0</td>\n",
              "      <td>Urban</td>\n",
              "    </tr>\n",
              "    <tr>\n",
              "      <th>4</th>\n",
              "      <td>Male</td>\n",
              "      <td>No</td>\n",
              "      <td>0</td>\n",
              "      <td>Graduate</td>\n",
              "      <td>No</td>\n",
              "      <td>6000</td>\n",
              "      <td>0.0</td>\n",
              "      <td>141.0</td>\n",
              "      <td>360.0</td>\n",
              "      <td>1.0</td>\n",
              "      <td>Urban</td>\n",
              "    </tr>\n",
              "  </tbody>\n",
              "</table>\n",
              "</div>"
            ],
            "text/plain": [
              "  Gender Married Dependents  ... Loan_Amount_Term Credit_History  Property_Area\n",
              "0   Male      No          0  ...            360.0            1.0          Urban\n",
              "1   Male     Yes          1  ...            360.0            1.0          Rural\n",
              "2   Male     Yes          0  ...            360.0            1.0          Urban\n",
              "3   Male     Yes          0  ...            360.0            1.0          Urban\n",
              "4   Male      No          0  ...            360.0            1.0          Urban\n",
              "\n",
              "[5 rows x 11 columns]"
            ]
          },
          "metadata": {
            "tags": []
          },
          "execution_count": 301
        },
        {
          "output_type": "display_data",
          "data": {
            "image/png": "[encoded data removed]",
            "text/plain": [
              "<Figure size 432x288 with 1 Axes>"
            ]
          },
          "metadata": {
            "tags": [],
            "needs_background": "light"
          }
        }
      ]
    },
    {
      "cell_type": "code",
      "metadata": {
        "id": "cvcrVngCMRfM",
        "colab_type": "code",
        "colab": {
          "base_uri": "https://localhost:8080/",
          "height": 85
        },
        "outputId": "b175874e-1c87-4ff2-b926-abb23f9151e2"
      },
      "source": [
        "df_win[cont_data].skew()"
      ],
      "execution_count": 302,
      "outputs": [
        {
          "output_type": "execute_result",
          "data": {
            "text/plain": [
              "ApplicantIncome      0.984008\n",
              "CoapplicantIncome    0.522653\n",
              "LoanAmount           0.760708\n",
              "dtype: float64"
            ]
          },
          "metadata": {
            "tags": []
          },
          "execution_count": 302
        }
      ]
    },
    {
      "cell_type": "markdown",
      "metadata": {
        "id": "AWDad1_KMdlI",
        "colab_type": "text"
      },
      "source": [
        "**Handling Missing Values**"
      ]
    },
    {
      "cell_type": "code",
      "metadata": {
        "id": "QYoUPxD7Mkpo",
        "colab_type": "code",
        "colab": {
          "base_uri": "https://localhost:8080/",
          "height": 34
        },
        "outputId": "b41bc359-8495-475e-e0e3-4cf8d4670ce7"
      },
      "source": [
        "miss_data=[]\n",
        "for i in df_win.columns:\n",
        "  if df_win[i].isnull().sum() > 0:\n",
        "    miss_data.append(i)\n",
        "miss_data.remove('Loan_Amount_Term')\n",
        "miss_data"
      ],
      "execution_count": 303,
      "outputs": [
        {
          "output_type": "execute_result",
          "data": {
            "text/plain": [
              "['Gender', 'Married', 'Dependents', 'Self_Employed', 'Credit_History']"
            ]
          },
          "metadata": {
            "tags": []
          },
          "execution_count": 303
        }
      ]
    },
    {
      "cell_type": "code",
      "metadata": {
        "id": "6y6cIjHHMWRE",
        "colab_type": "code",
        "colab": {
          "base_uri": "https://localhost:8080/",
          "height": 204
        },
        "outputId": "3307cb15-e7bb-426b-ec8d-98792162045e"
      },
      "source": [
        "for i in miss_data:\n",
        "  df_win[i] = df_win[i].fillna(df_win[i].mode()[0])\n",
        "df_win[miss_data]\n",
        "df_win['Loan_Amount_Term'] = df_win['Loan_Amount_Term'].fillna(df_win['Loan_Amount_Term'].interpolate())\n",
        "df_win.head()\n",
        "\n",
        "#Using mode for categorical data, and interpolate for numerical value, as it gives more accuracy in the model"
      ],
      "execution_count": 304,
      "outputs": [
        {
          "output_type": "execute_result",
          "data": {
            "text/html": [
              "<div>\n",
              "<style scoped>\n",
              "    .dataframe tbody tr th:only-of-type {\n",
              "        vertical-align: middle;\n",
              "    }\n",
              "\n",
              "    .dataframe tbody tr th {\n",
              "        vertical-align: top;\n",
              "    }\n",
              "\n",
              "    .dataframe thead th {\n",
              "        text-align: right;\n",
              "    }\n",
              "</style>\n",
              "<table border=\"1\" class=\"dataframe\">\n",
              "  <thead>\n",
              "    <tr style=\"text-align: right;\">\n",
              "      <th></th>\n",
              "      <th>Gender</th>\n",
              "      <th>Married</th>\n",
              "      <th>Dependents</th>\n",
              "      <th>Education</th>\n",
              "      <th>Self_Employed</th>\n",
              "      <th>ApplicantIncome</th>\n",
              "      <th>CoapplicantIncome</th>\n",
              "      <th>LoanAmount</th>\n",
              "      <th>Loan_Amount_Term</th>\n",
              "      <th>Credit_History</th>\n",
              "      <th>Property_Area</th>\n",
              "    </tr>\n",
              "  </thead>\n",
              "  <tbody>\n",
              "    <tr>\n",
              "      <th>0</th>\n",
              "      <td>Male</td>\n",
              "      <td>No</td>\n",
              "      <td>0</td>\n",
              "      <td>Graduate</td>\n",
              "      <td>No</td>\n",
              "      <td>5849</td>\n",
              "      <td>0.0</td>\n",
              "      <td>267.0</td>\n",
              "      <td>360.0</td>\n",
              "      <td>1.0</td>\n",
              "      <td>Urban</td>\n",
              "    </tr>\n",
              "    <tr>\n",
              "      <th>1</th>\n",
              "      <td>Male</td>\n",
              "      <td>Yes</td>\n",
              "      <td>1</td>\n",
              "      <td>Graduate</td>\n",
              "      <td>No</td>\n",
              "      <td>4583</td>\n",
              "      <td>1508.0</td>\n",
              "      <td>128.0</td>\n",
              "      <td>360.0</td>\n",
              "      <td>1.0</td>\n",
              "      <td>Rural</td>\n",
              "    </tr>\n",
              "    <tr>\n",
              "      <th>2</th>\n",
              "      <td>Male</td>\n",
              "      <td>Yes</td>\n",
              "      <td>0</td>\n",
              "      <td>Graduate</td>\n",
              "      <td>Yes</td>\n",
              "      <td>3000</td>\n",
              "      <td>0.0</td>\n",
              "      <td>66.0</td>\n",
              "      <td>360.0</td>\n",
              "      <td>1.0</td>\n",
              "      <td>Urban</td>\n",
              "    </tr>\n",
              "    <tr>\n",
              "      <th>3</th>\n",
              "      <td>Male</td>\n",
              "      <td>Yes</td>\n",
              "      <td>0</td>\n",
              "      <td>Not Graduate</td>\n",
              "      <td>No</td>\n",
              "      <td>2583</td>\n",
              "      <td>2358.0</td>\n",
              "      <td>120.0</td>\n",
              "      <td>360.0</td>\n",
              "      <td>1.0</td>\n",
              "      <td>Urban</td>\n",
              "    </tr>\n",
              "    <tr>\n",
              "      <th>4</th>\n",
              "      <td>Male</td>\n",
              "      <td>No</td>\n",
              "      <td>0</td>\n",
              "      <td>Graduate</td>\n",
              "      <td>No</td>\n",
              "      <td>6000</td>\n",
              "      <td>0.0</td>\n",
              "      <td>141.0</td>\n",
              "      <td>360.0</td>\n",
              "      <td>1.0</td>\n",
              "      <td>Urban</td>\n",
              "    </tr>\n",
              "  </tbody>\n",
              "</table>\n",
              "</div>"
            ],
            "text/plain": [
              "  Gender Married Dependents  ... Loan_Amount_Term Credit_History  Property_Area\n",
              "0   Male      No          0  ...            360.0            1.0          Urban\n",
              "1   Male     Yes          1  ...            360.0            1.0          Rural\n",
              "2   Male     Yes          0  ...            360.0            1.0          Urban\n",
              "3   Male     Yes          0  ...            360.0            1.0          Urban\n",
              "4   Male      No          0  ...            360.0            1.0          Urban\n",
              "\n",
              "[5 rows x 11 columns]"
            ]
          },
          "metadata": {
            "tags": []
          },
          "execution_count": 304
        }
      ]
    },
    {
      "cell_type": "markdown",
      "metadata": {
        "id": "AFug6TzKM8wC",
        "colab_type": "text"
      },
      "source": [
        "**Encoding**\n",
        "1. Target Variable"
      ]
    },
    {
      "cell_type": "code",
      "metadata": {
        "id": "eJwZZ7iAMg0S",
        "colab_type": "code",
        "colab": {
          "base_uri": "https://localhost:8080/",
          "height": 204
        },
        "outputId": "c679d74f-4b38-4e0a-8903-2e3784f3df86"
      },
      "source": [
        "lE = LabelEncoder()\n",
        "en_Tar_Var = pd.DataFrame(lE.fit_transform(tar_Var))\n",
        "en_Tar_Var.columns =(['Loan_Status'])\n",
        "en_Tar_Var.head()"
      ],
      "execution_count": 305,
      "outputs": [
        {
          "output_type": "execute_result",
          "data": {
            "text/html": [
              "<div>\n",
              "<style scoped>\n",
              "    .dataframe tbody tr th:only-of-type {\n",
              "        vertical-align: middle;\n",
              "    }\n",
              "\n",
              "    .dataframe tbody tr th {\n",
              "        vertical-align: top;\n",
              "    }\n",
              "\n",
              "    .dataframe thead th {\n",
              "        text-align: right;\n",
              "    }\n",
              "</style>\n",
              "<table border=\"1\" class=\"dataframe\">\n",
              "  <thead>\n",
              "    <tr style=\"text-align: right;\">\n",
              "      <th></th>\n",
              "      <th>Loan_Status</th>\n",
              "    </tr>\n",
              "  </thead>\n",
              "  <tbody>\n",
              "    <tr>\n",
              "      <th>0</th>\n",
              "      <td>1</td>\n",
              "    </tr>\n",
              "    <tr>\n",
              "      <th>1</th>\n",
              "      <td>0</td>\n",
              "    </tr>\n",
              "    <tr>\n",
              "      <th>2</th>\n",
              "      <td>1</td>\n",
              "    </tr>\n",
              "    <tr>\n",
              "      <th>3</th>\n",
              "      <td>1</td>\n",
              "    </tr>\n",
              "    <tr>\n",
              "      <th>4</th>\n",
              "      <td>1</td>\n",
              "    </tr>\n",
              "  </tbody>\n",
              "</table>\n",
              "</div>"
            ],
            "text/plain": [
              "   Loan_Status\n",
              "0            1\n",
              "1            0\n",
              "2            1\n",
              "3            1\n",
              "4            1"
            ]
          },
          "metadata": {
            "tags": []
          },
          "execution_count": 305
        }
      ]
    },
    {
      "cell_type": "code",
      "metadata": {
        "id": "x7r5SgtZNMmV",
        "colab_type": "code",
        "colab": {
          "base_uri": "https://localhost:8080/",
          "height": 34
        },
        "outputId": "445917b5-171e-4cdf-e13c-291ca9643bc4"
      },
      "source": [
        "df_win_lE = df_win.copy()\n",
        "df_win_lE.shape"
      ],
      "execution_count": 306,
      "outputs": [
        {
          "output_type": "execute_result",
          "data": {
            "text/plain": [
              "(614, 11)"
            ]
          },
          "metadata": {
            "tags": []
          },
          "execution_count": 306
        }
      ]
    },
    {
      "cell_type": "code",
      "metadata": {
        "id": "6b20V-WAN_XK",
        "colab_type": "code",
        "colab": {
          "base_uri": "https://localhost:8080/",
          "height": 204
        },
        "outputId": "cc33686e-449b-4bde-dd2c-23cef99aee3e"
      },
      "source": [
        "for i in cat_data:\n",
        "  df_win_lE[i] = lE.fit_transform(df_win_lE[i])\n",
        "df_win_lE.head()"
      ],
      "execution_count": 307,
      "outputs": [
        {
          "output_type": "execute_result",
          "data": {
            "text/html": [
              "<div>\n",
              "<style scoped>\n",
              "    .dataframe tbody tr th:only-of-type {\n",
              "        vertical-align: middle;\n",
              "    }\n",
              "\n",
              "    .dataframe tbody tr th {\n",
              "        vertical-align: top;\n",
              "    }\n",
              "\n",
              "    .dataframe thead th {\n",
              "        text-align: right;\n",
              "    }\n",
              "</style>\n",
              "<table border=\"1\" class=\"dataframe\">\n",
              "  <thead>\n",
              "    <tr style=\"text-align: right;\">\n",
              "      <th></th>\n",
              "      <th>Gender</th>\n",
              "      <th>Married</th>\n",
              "      <th>Dependents</th>\n",
              "      <th>Education</th>\n",
              "      <th>Self_Employed</th>\n",
              "      <th>ApplicantIncome</th>\n",
              "      <th>CoapplicantIncome</th>\n",
              "      <th>LoanAmount</th>\n",
              "      <th>Loan_Amount_Term</th>\n",
              "      <th>Credit_History</th>\n",
              "      <th>Property_Area</th>\n",
              "    </tr>\n",
              "  </thead>\n",
              "  <tbody>\n",
              "    <tr>\n",
              "      <th>0</th>\n",
              "      <td>1</td>\n",
              "      <td>0</td>\n",
              "      <td>0</td>\n",
              "      <td>0</td>\n",
              "      <td>0</td>\n",
              "      <td>5849</td>\n",
              "      <td>0.0</td>\n",
              "      <td>267.0</td>\n",
              "      <td>10</td>\n",
              "      <td>1</td>\n",
              "      <td>2</td>\n",
              "    </tr>\n",
              "    <tr>\n",
              "      <th>1</th>\n",
              "      <td>1</td>\n",
              "      <td>1</td>\n",
              "      <td>1</td>\n",
              "      <td>0</td>\n",
              "      <td>0</td>\n",
              "      <td>4583</td>\n",
              "      <td>1508.0</td>\n",
              "      <td>128.0</td>\n",
              "      <td>10</td>\n",
              "      <td>1</td>\n",
              "      <td>0</td>\n",
              "    </tr>\n",
              "    <tr>\n",
              "      <th>2</th>\n",
              "      <td>1</td>\n",
              "      <td>1</td>\n",
              "      <td>0</td>\n",
              "      <td>0</td>\n",
              "      <td>1</td>\n",
              "      <td>3000</td>\n",
              "      <td>0.0</td>\n",
              "      <td>66.0</td>\n",
              "      <td>10</td>\n",
              "      <td>1</td>\n",
              "      <td>2</td>\n",
              "    </tr>\n",
              "    <tr>\n",
              "      <th>3</th>\n",
              "      <td>1</td>\n",
              "      <td>1</td>\n",
              "      <td>0</td>\n",
              "      <td>1</td>\n",
              "      <td>0</td>\n",
              "      <td>2583</td>\n",
              "      <td>2358.0</td>\n",
              "      <td>120.0</td>\n",
              "      <td>10</td>\n",
              "      <td>1</td>\n",
              "      <td>2</td>\n",
              "    </tr>\n",
              "    <tr>\n",
              "      <th>4</th>\n",
              "      <td>1</td>\n",
              "      <td>0</td>\n",
              "      <td>0</td>\n",
              "      <td>0</td>\n",
              "      <td>0</td>\n",
              "      <td>6000</td>\n",
              "      <td>0.0</td>\n",
              "      <td>141.0</td>\n",
              "      <td>10</td>\n",
              "      <td>1</td>\n",
              "      <td>2</td>\n",
              "    </tr>\n",
              "  </tbody>\n",
              "</table>\n",
              "</div>"
            ],
            "text/plain": [
              "   Gender  Married  Dependents  ...  Loan_Amount_Term  Credit_History  Property_Area\n",
              "0       1        0           0  ...                10               1              2\n",
              "1       1        1           1  ...                10               1              0\n",
              "2       1        1           0  ...                10               1              2\n",
              "3       1        1           0  ...                10               1              2\n",
              "4       1        0           0  ...                10               1              2\n",
              "\n",
              "[5 rows x 11 columns]"
            ]
          },
          "metadata": {
            "tags": []
          },
          "execution_count": 307
        }
      ]
    },
    {
      "cell_type": "code",
      "metadata": {
        "id": "KgMnmrTAiKPy",
        "colab_type": "code",
        "colab": {
          "base_uri": "https://localhost:8080/",
          "height": 34
        },
        "outputId": "d9041fc6-46da-4e9c-8e73-ec6af9a61b69"
      },
      "source": [
        "df_win_lE.shape"
      ],
      "execution_count": 308,
      "outputs": [
        {
          "output_type": "execute_result",
          "data": {
            "text/plain": [
              "(614, 11)"
            ]
          },
          "metadata": {
            "tags": []
          },
          "execution_count": 308
        }
      ]
    },
    {
      "cell_type": "markdown",
      "metadata": {
        "id": "hOIOzzC5Pw7T",
        "colab_type": "text"
      },
      "source": [
        "**Splitting Data**"
      ]
    },
    {
      "cell_type": "code",
      "metadata": {
        "id": "qN2lImIxPjlf",
        "colab_type": "code",
        "colab": {}
      },
      "source": [
        "#Splitting in 20% as test size and 80% as train size\n",
        "X_train, X_test, y_train, y_test = train_test_split(df_win_lE, en_Tar_Var, test_size=0.20, random_state=42, stratify=en_Tar_Var)"
      ],
      "execution_count": 0,
      "outputs": []
    },
    {
      "cell_type": "markdown",
      "metadata": {
        "id": "9c6LPxDGQFdQ",
        "colab_type": "text"
      },
      "source": [
        "**Logistic Regression**"
      ]
    },
    {
      "cell_type": "code",
      "metadata": {
        "id": "-LaU5l2DQEZ_",
        "colab_type": "code",
        "colab": {}
      },
      "source": [
        "#Training on default parameter\n",
        "log_reg = LogisticRegression()\n",
        "log_reg.fit(X_train, y_train)"
      ],
      "execution_count": 0,
      "outputs": []
    },
    {
      "cell_type": "markdown",
      "metadata": {
        "id": "x-nd64rYu3cQ",
        "colab_type": "text"
      },
      "source": [
        "##**Using RandomSearchCV**\n",
        "\n",
        "To get the best combination of the parameter\n",
        "\n",
        "####*Using RandomSearchCV instead of GridSearchCV as it is faster than GridSearchCV*"
      ]
    },
    {
      "cell_type": "code",
      "metadata": {
        "id": "WbpwUVR-Q420",
        "colab_type": "code",
        "colab": {}
      },
      "source": [
        "#RandomSearchCV\n",
        "\n",
        "para=[{\n",
        "       'multi_class':['auto','ovr', 'multinomial'],\n",
        "       'class_weight':['Balanced'],\n",
        "       'l1_ratio' : [0.1,0.2,0.3,0.4,0.5,0.6,0.7,0.8,0.9],\n",
        "       'solver':['newton-cg', 'lbfgs', 'liblinear', 'sag', 'saga'],\n",
        "       'dual':[True, False],\n",
        "       'max_iter':[50,100,200,250, 1000]}\n",
        "      ]\n",
        "\n",
        "rSCV = RandomizedSearchCV(log_reg, param_distributions=para, n_iter=50, cv=4, n_jobs=-1)\n",
        "\n",
        "rSCV.fit(X_train, y_train)\n",
        "y_pred1 = rSCV.predict(X_test)"
      ],
      "execution_count": 0,
      "outputs": []
    },
    {
      "cell_type": "code",
      "metadata": {
        "id": "MbGj5z4KSyKd",
        "colab_type": "code",
        "colab": {
          "base_uri": "https://localhost:8080/",
          "height": 204
        },
        "outputId": "159f88f4-8404-43c0-ebb6-6f6b7b60c16c"
      },
      "source": [
        "print(\"Confusion Matrix:\\n\"+str(confusion_matrix(y_test, y_pred1)))\n",
        "print(\"Accuracy of Dtree Model:\")\n",
        "print(\"%.2f\"%round(accuracy_score(y_test, y_pred1)*100,2) + '%')\n",
        "print(\"Precision of DTree Model:\")\n",
        "print (\"%.2f\" % round(precision_score(y_test, y_pred1)*100) + '%')\n",
        "print (\"Recall of DTree Model:\" )\n",
        "print(\"%.2f\" % round(recall_score(y_test, y_pred1)*100) + '%')\n",
        "print (\"F1 Score of DTree Model:\")\n",
        "print (\"%.2f\" % round(f1_score(y_test, y_pred1)*100) + '%')"
      ],
      "execution_count": 312,
      "outputs": [
        {
          "output_type": "stream",
          "text": [
            "Confusion Matrix:\n",
            "[[21 17]\n",
            " [ 1 84]]\n",
            "Accuracy of Dtree Model:\n",
            "85.37%\n",
            "Precision of DTree Model:\n",
            "83.00%\n",
            "Recall of DTree Model:\n",
            "99.00%\n",
            "F1 Score of DTree Model:\n",
            "90.00%\n"
          ],
          "name": "stdout"
        }
      ]
    },
    {
      "cell_type": "code",
      "metadata": {
        "id": "wC9KD2xGUttg",
        "colab_type": "code",
        "colab": {
          "base_uri": "https://localhost:8080/",
          "height": 51
        },
        "outputId": "065ec359-20a9-4296-e164-c35007d510da"
      },
      "source": [
        "print(\"AUROC Value:\\n\"+str(round(roc_auc_score(y_test,y_pred1)*100)) + '%')"
      ],
      "execution_count": 313,
      "outputs": [
        {
          "output_type": "stream",
          "text": [
            "AUROC Value:\n",
            "77.0%\n"
          ],
          "name": "stdout"
        }
      ]
    },
    {
      "cell_type": "markdown",
      "metadata": {
        "id": "PCJh6ZiOpadX",
        "colab_type": "text"
      },
      "source": [
        "####**AUROC curve for LogisticRegression with LabelEncoder Dataset**"
      ]
    },
    {
      "cell_type": "code",
      "metadata": {
        "id": "NKLalFsdWj1A",
        "colab_type": "code",
        "colab": {
          "base_uri": "https://localhost:8080/",
          "height": 296
        },
        "outputId": "4377e164-ab2e-4b34-8350-83019bdb30a8"
      },
      "source": [
        "fpr, tpr, thresholds = roc_curve(y_test,y_pred1)\n",
        "plt.figure(1)\n",
        "plt.plot([0, 1], [0, 1], 'k--')\n",
        "plt.plot(fpr, tpr, label='ROC curve (area = %0.2f)'% roc_auc_score(y_test,y_pred1))\n",
        "plt.xlabel('False positive rate')\n",
        "plt.ylabel('True positive rate')\n",
        "plt.legend(loc='best')"
      ],
      "execution_count": 314,
      "outputs": [
        {
          "output_type": "execute_result",
          "data": {
            "text/plain": [
              "<matplotlib.legend.Legend at 0x7fa27c561fd0>"
            ]
          },
          "metadata": {
            "tags": []
          },
          "execution_count": 314
        },
        {
          "output_type": "display_data",
          "data": {
            "image/png": "[encoded data removed]",
            "text/plain": [
              "<Figure size 432x288 with 1 Axes>"
            ]
          },
          "metadata": {
            "tags": [],
            "needs_background": "light"
          }
        }
      ]
    },
    {
      "cell_type": "markdown",
      "metadata": {
        "id": "w5S5YZotZK0G",
        "colab_type": "text"
      },
      "source": [
        "**Random Forest Classifier**"
      ]
    },
    {
      "cell_type": "code",
      "metadata": {
        "id": "v_l0bW__Wkur",
        "colab_type": "code",
        "colab": {}
      },
      "source": [
        "rFC = RandomForestClassifier(random_state=50)\n",
        "rFC.fit(X_train, y_train)"
      ],
      "execution_count": 0,
      "outputs": []
    },
    {
      "cell_type": "code",
      "metadata": {
        "id": "mrJBsgDibVOZ",
        "colab_type": "code",
        "colab": {}
      },
      "source": [
        "from scipy.stats import randint\n",
        "para_rFC=[{'n_estimators':[100,200,300,400,500],\n",
        "       'criterion' : ['gini','entropy'],\n",
        "       'max_depth' : [2,3,5,10,30,50],\n",
        "       'bootstrap' : [True,False],\n",
        "       'min_samples_leaf' : randint(1,4),\n",
        "       'oob_score' : [True,False],\n",
        "       'class_weight' : ['balanced', 'balanced-subsample']}]\n",
        "\n",
        "rSCV2 = RandomizedSearchCV(rFC, param_distributions=para_rFC, n_iter=40, cv=4, n_jobs=-1)\n",
        "rSCV2.fit(X_train, y_train)\n",
        "y_pred2 = rSCV2.predict(X_test)"
      ],
      "execution_count": 0,
      "outputs": []
    },
    {
      "cell_type": "code",
      "metadata": {
        "id": "XPRbkH-DdcMC",
        "colab_type": "code",
        "colab": {
          "base_uri": "https://localhost:8080/",
          "height": 204
        },
        "outputId": "06c40099-ba37-4193-f952-91dbb492fae5"
      },
      "source": [
        "print(\"Confusion Matrix:\\n\"+str(confusion_matrix(y_test, y_pred2)))\n",
        "print(\"Accuracy of Dtree Model:\")\n",
        "print(\"%.2f\"%round(accuracy_score(y_test, y_pred2)*100,2) + '%')\n",
        "print(\"Precision of DTree Model:\")\n",
        "print (\"%.2f\" % round(precision_score(y_test, y_pred2)*100) + '%')\n",
        "print (\"Recall of DTree Model:\" )\n",
        "print(\"%.2f\" % round(recall_score(y_test, y_pred2)*100) + '%')\n",
        "print (\"F1 Score of DTree Model:\")\n",
        "print (\"%.2f\" % round(f1_score(y_test, y_pred2)*100) + '%')"
      ],
      "execution_count": 317,
      "outputs": [
        {
          "output_type": "stream",
          "text": [
            "Confusion Matrix:\n",
            "[[23 15]\n",
            " [ 1 84]]\n",
            "Accuracy of Dtree Model:\n",
            "86.99%\n",
            "Precision of DTree Model:\n",
            "85.00%\n",
            "Recall of DTree Model:\n",
            "99.00%\n",
            "F1 Score of DTree Model:\n",
            "91.00%\n"
          ],
          "name": "stdout"
        }
      ]
    },
    {
      "cell_type": "markdown",
      "metadata": {
        "id": "I4ZIJhiqpUO5",
        "colab_type": "text"
      },
      "source": [
        "####**AUROC curve for RandomForestClassifier with LabelEncoded Dataset**"
      ]
    },
    {
      "cell_type": "code",
      "metadata": {
        "id": "3iu8UrPmhNQz",
        "colab_type": "code",
        "colab": {
          "base_uri": "https://localhost:8080/",
          "height": 330
        },
        "outputId": "5bffa305-e550-48c6-da16-d6075da2384f"
      },
      "source": [
        "print(\"AUROC Value:\\n\"+str(round(roc_auc_score(y_test,y_pred2)*100)) + '%')\n",
        "fpr, tpr, thresholds = roc_curve(y_test,y_pred2)\n",
        "plt.figure(1)\n",
        "plt.plot([0, 1], [0, 1], 'k--')\n",
        "plt.plot(fpr, tpr, label='ROC curve (area = %0.2f)'% round(roc_auc_score(y_test,y_pred2)*100) + '%')\n",
        "plt.xlabel('False positive rate')\n",
        "plt.ylabel('True positive rate')\n",
        "plt.legend(loc='best')"
      ],
      "execution_count": 318,
      "outputs": [
        {
          "output_type": "stream",
          "text": [
            "AUROC Value:\n",
            "80.0%\n"
          ],
          "name": "stdout"
        },
        {
          "output_type": "execute_result",
          "data": {
            "text/plain": [
              "<matplotlib.legend.Legend at 0x7fa27b390588>"
            ]
          },
          "metadata": {
            "tags": []
          },
          "execution_count": 318
        },
        {
          "output_type": "display_data",
          "data": {
            "image/png": "[encoded data removed]",
            "text/plain": [
              "<Figure size 432x288 with 1 Axes>"
            ]
          },
          "metadata": {
            "tags": [],
            "needs_background": "light"
          }
        }
      ]
    },
    {
      "cell_type": "markdown",
      "metadata": {
        "id": "Ij92Hc5PhlJQ",
        "colab_type": "text"
      },
      "source": [
        "**OneHot Encoding**"
      ]
    },
    {
      "cell_type": "code",
      "metadata": {
        "id": "ylWk_xu4hS1C",
        "colab_type": "code",
        "colab": {
          "base_uri": "https://localhost:8080/",
          "height": 241
        },
        "outputId": "2aaf0fe7-9f77-4973-de80-425c649d924a"
      },
      "source": [
        "df_win_oHE = df_win.copy()\n",
        "for i in cat_data:\n",
        "  df_win_oHE = pd.get_dummies(df_win_oHE, columns=[i], prefix=[i])\n",
        "df_win_oHE.head()"
      ],
      "execution_count": 319,
      "outputs": [
        {
          "output_type": "execute_result",
          "data": {
            "text/html": [
              "<div>\n",
              "<style scoped>\n",
              "    .dataframe tbody tr th:only-of-type {\n",
              "        vertical-align: middle;\n",
              "    }\n",
              "\n",
              "    .dataframe tbody tr th {\n",
              "        vertical-align: top;\n",
              "    }\n",
              "\n",
              "    .dataframe thead th {\n",
              "        text-align: right;\n",
              "    }\n",
              "</style>\n",
              "<table border=\"1\" class=\"dataframe\">\n",
              "  <thead>\n",
              "    <tr style=\"text-align: right;\">\n",
              "      <th></th>\n",
              "      <th>ApplicantIncome</th>\n",
              "      <th>CoapplicantIncome</th>\n",
              "      <th>LoanAmount</th>\n",
              "      <th>Dependents_0</th>\n",
              "      <th>Dependents_1</th>\n",
              "      <th>Dependents_2</th>\n",
              "      <th>Dependents_3+</th>\n",
              "      <th>Property_Area_Rural</th>\n",
              "      <th>Property_Area_Semiurban</th>\n",
              "      <th>Property_Area_Urban</th>\n",
              "      <th>Loan_Amount_Term_12.0</th>\n",
              "      <th>Loan_Amount_Term_36.0</th>\n",
              "      <th>Loan_Amount_Term_60.0</th>\n",
              "      <th>Loan_Amount_Term_84.0</th>\n",
              "      <th>Loan_Amount_Term_120.0</th>\n",
              "      <th>Loan_Amount_Term_180.0</th>\n",
              "      <th>Loan_Amount_Term_240.0</th>\n",
              "      <th>Loan_Amount_Term_270.0</th>\n",
              "      <th>Loan_Amount_Term_300.0</th>\n",
              "      <th>Loan_Amount_Term_330.0</th>\n",
              "      <th>Loan_Amount_Term_360.0</th>\n",
              "      <th>Loan_Amount_Term_420.0</th>\n",
              "      <th>Loan_Amount_Term_480.0</th>\n",
              "      <th>Self_Employed_No</th>\n",
              "      <th>Self_Employed_Yes</th>\n",
              "      <th>Credit_History_0.0</th>\n",
              "      <th>Credit_History_1.0</th>\n",
              "      <th>Married_No</th>\n",
              "      <th>Married_Yes</th>\n",
              "      <th>Education_Graduate</th>\n",
              "      <th>Education_Not Graduate</th>\n",
              "      <th>Gender_Female</th>\n",
              "      <th>Gender_Male</th>\n",
              "    </tr>\n",
              "  </thead>\n",
              "  <tbody>\n",
              "    <tr>\n",
              "      <th>0</th>\n",
              "      <td>5849</td>\n",
              "      <td>0.0</td>\n",
              "      <td>267.0</td>\n",
              "      <td>1</td>\n",
              "      <td>0</td>\n",
              "      <td>0</td>\n",
              "      <td>0</td>\n",
              "      <td>0</td>\n",
              "      <td>0</td>\n",
              "      <td>1</td>\n",
              "      <td>0</td>\n",
              "      <td>0</td>\n",
              "      <td>0</td>\n",
              "      <td>0</td>\n",
              "      <td>0</td>\n",
              "      <td>0</td>\n",
              "      <td>0</td>\n",
              "      <td>0</td>\n",
              "      <td>0</td>\n",
              "      <td>0</td>\n",
              "      <td>1</td>\n",
              "      <td>0</td>\n",
              "      <td>0</td>\n",
              "      <td>1</td>\n",
              "      <td>0</td>\n",
              "      <td>0</td>\n",
              "      <td>1</td>\n",
              "      <td>1</td>\n",
              "      <td>0</td>\n",
              "      <td>1</td>\n",
              "      <td>0</td>\n",
              "      <td>0</td>\n",
              "      <td>1</td>\n",
              "    </tr>\n",
              "    <tr>\n",
              "      <th>1</th>\n",
              "      <td>4583</td>\n",
              "      <td>1508.0</td>\n",
              "      <td>128.0</td>\n",
              "      <td>0</td>\n",
              "      <td>1</td>\n",
              "      <td>0</td>\n",
              "      <td>0</td>\n",
              "      <td>1</td>\n",
              "      <td>0</td>\n",
              "      <td>0</td>\n",
              "      <td>0</td>\n",
              "      <td>0</td>\n",
              "      <td>0</td>\n",
              "      <td>0</td>\n",
              "      <td>0</td>\n",
              "      <td>0</td>\n",
              "      <td>0</td>\n",
              "      <td>0</td>\n",
              "      <td>0</td>\n",
              "      <td>0</td>\n",
              "      <td>1</td>\n",
              "      <td>0</td>\n",
              "      <td>0</td>\n",
              "      <td>1</td>\n",
              "      <td>0</td>\n",
              "      <td>0</td>\n",
              "      <td>1</td>\n",
              "      <td>0</td>\n",
              "      <td>1</td>\n",
              "      <td>1</td>\n",
              "      <td>0</td>\n",
              "      <td>0</td>\n",
              "      <td>1</td>\n",
              "    </tr>\n",
              "    <tr>\n",
              "      <th>2</th>\n",
              "      <td>3000</td>\n",
              "      <td>0.0</td>\n",
              "      <td>66.0</td>\n",
              "      <td>1</td>\n",
              "      <td>0</td>\n",
              "      <td>0</td>\n",
              "      <td>0</td>\n",
              "      <td>0</td>\n",
              "      <td>0</td>\n",
              "      <td>1</td>\n",
              "      <td>0</td>\n",
              "      <td>0</td>\n",
              "      <td>0</td>\n",
              "      <td>0</td>\n",
              "      <td>0</td>\n",
              "      <td>0</td>\n",
              "      <td>0</td>\n",
              "      <td>0</td>\n",
              "      <td>0</td>\n",
              "      <td>0</td>\n",
              "      <td>1</td>\n",
              "      <td>0</td>\n",
              "      <td>0</td>\n",
              "      <td>0</td>\n",
              "      <td>1</td>\n",
              "      <td>0</td>\n",
              "      <td>1</td>\n",
              "      <td>0</td>\n",
              "      <td>1</td>\n",
              "      <td>1</td>\n",
              "      <td>0</td>\n",
              "      <td>0</td>\n",
              "      <td>1</td>\n",
              "    </tr>\n",
              "    <tr>\n",
              "      <th>3</th>\n",
              "      <td>2583</td>\n",
              "      <td>2358.0</td>\n",
              "      <td>120.0</td>\n",
              "      <td>1</td>\n",
              "      <td>0</td>\n",
              "      <td>0</td>\n",
              "      <td>0</td>\n",
              "      <td>0</td>\n",
              "      <td>0</td>\n",
              "      <td>1</td>\n",
              "      <td>0</td>\n",
              "      <td>0</td>\n",
              "      <td>0</td>\n",
              "      <td>0</td>\n",
              "      <td>0</td>\n",
              "      <td>0</td>\n",
              "      <td>0</td>\n",
              "      <td>0</td>\n",
              "      <td>0</td>\n",
              "      <td>0</td>\n",
              "      <td>1</td>\n",
              "      <td>0</td>\n",
              "      <td>0</td>\n",
              "      <td>1</td>\n",
              "      <td>0</td>\n",
              "      <td>0</td>\n",
              "      <td>1</td>\n",
              "      <td>0</td>\n",
              "      <td>1</td>\n",
              "      <td>0</td>\n",
              "      <td>1</td>\n",
              "      <td>0</td>\n",
              "      <td>1</td>\n",
              "    </tr>\n",
              "    <tr>\n",
              "      <th>4</th>\n",
              "      <td>6000</td>\n",
              "      <td>0.0</td>\n",
              "      <td>141.0</td>\n",
              "      <td>1</td>\n",
              "      <td>0</td>\n",
              "      <td>0</td>\n",
              "      <td>0</td>\n",
              "      <td>0</td>\n",
              "      <td>0</td>\n",
              "      <td>1</td>\n",
              "      <td>0</td>\n",
              "      <td>0</td>\n",
              "      <td>0</td>\n",
              "      <td>0</td>\n",
              "      <td>0</td>\n",
              "      <td>0</td>\n",
              "      <td>0</td>\n",
              "      <td>0</td>\n",
              "      <td>0</td>\n",
              "      <td>0</td>\n",
              "      <td>1</td>\n",
              "      <td>0</td>\n",
              "      <td>0</td>\n",
              "      <td>1</td>\n",
              "      <td>0</td>\n",
              "      <td>0</td>\n",
              "      <td>1</td>\n",
              "      <td>1</td>\n",
              "      <td>0</td>\n",
              "      <td>1</td>\n",
              "      <td>0</td>\n",
              "      <td>0</td>\n",
              "      <td>1</td>\n",
              "    </tr>\n",
              "  </tbody>\n",
              "</table>\n",
              "</div>"
            ],
            "text/plain": [
              "   ApplicantIncome  CoapplicantIncome  ...  Gender_Female  Gender_Male\n",
              "0             5849                0.0  ...              0            1\n",
              "1             4583             1508.0  ...              0            1\n",
              "2             3000                0.0  ...              0            1\n",
              "3             2583             2358.0  ...              0            1\n",
              "4             6000                0.0  ...              0            1\n",
              "\n",
              "[5 rows x 33 columns]"
            ]
          },
          "metadata": {
            "tags": []
          },
          "execution_count": 319
        }
      ]
    },
    {
      "cell_type": "code",
      "metadata": {
        "id": "gJ4iLWkIiNgn",
        "colab_type": "code",
        "colab": {
          "base_uri": "https://localhost:8080/",
          "height": 34
        },
        "outputId": "e747d560-0aae-47e5-f5f3-8aa16ccdd954"
      },
      "source": [
        "df_win_oHE.shape"
      ],
      "execution_count": 320,
      "outputs": [
        {
          "output_type": "execute_result",
          "data": {
            "text/plain": [
              "(614, 33)"
            ]
          },
          "metadata": {
            "tags": []
          },
          "execution_count": 320
        }
      ]
    },
    {
      "cell_type": "markdown",
      "metadata": {
        "id": "gMh-IxBpiaFu",
        "colab_type": "text"
      },
      "source": [
        "**Spliting of Data**"
      ]
    },
    {
      "cell_type": "code",
      "metadata": {
        "id": "yUzfB9UpiQUZ",
        "colab_type": "code",
        "colab": {}
      },
      "source": [
        "#Splitting the dataset into 25% as test_set, 75% as train size\n",
        "X_train_oHE, X_test_oHE, y_train_oHE, y_test_oHE = train_test_split(df_win_oHE, en_Tar_Var, test_size=0.25, random_state=42, stratify=en_Tar_Var)"
      ],
      "execution_count": 0,
      "outputs": []
    },
    {
      "cell_type": "markdown",
      "metadata": {
        "id": "ELdTCToZiQxH",
        "colab_type": "text"
      },
      "source": [
        "**Logistic Regression**"
      ]
    },
    {
      "cell_type": "code",
      "metadata": {
        "id": "67IhS0bmiPjH",
        "colab_type": "code",
        "colab": {
          "base_uri": "https://localhost:8080/",
          "height": 88
        },
        "outputId": "ed749289-ed27-4d26-e4ad-d213ecbf26d9"
      },
      "source": [
        "#Training on default parameter\n",
        "log_reg.fit(X_train_oHE, y_train_oHE)\n",
        "y_pred3 = log_reg.predict(X_test_oHE)\n",
        "accuracy_score(y_test_oHE, y_pred3)"
      ],
      "execution_count": 322,
      "outputs": [
        {
          "output_type": "stream",
          "text": [
            "/usr/local/lib/python3.6/dist-packages/sklearn/utils/validation.py:760: DataConversionWarning: A column-vector y was passed when a 1d array was expected. Please change the shape of y to (n_samples, ), for example using ravel().\n",
            "  y = column_or_1d(y, warn=True)\n"
          ],
          "name": "stderr"
        },
        {
          "output_type": "execute_result",
          "data": {
            "text/plain": [
              "0.8571428571428571"
            ]
          },
          "metadata": {
            "tags": []
          },
          "execution_count": 322
        }
      ]
    },
    {
      "cell_type": "markdown",
      "metadata": {
        "id": "F5kuaEfKqWud",
        "colab_type": "text"
      },
      "source": [
        "##**Using RandomSearchCV**\n",
        "\n",
        "To get the best combination of the parameter\n",
        "\n",
        "####*Using RandomSearchCV instead of GridSearchCV as it is faster than GridSearchCV*"
      ]
    },
    {
      "cell_type": "code",
      "metadata": {
        "id": "MjOLJKCEjI01",
        "colab_type": "code",
        "colab": {
          "base_uri": "https://localhost:8080/",
          "height": 156
        },
        "outputId": "8ee558c8-68d1-4d39-de0b-594849fb3328"
      },
      "source": [
        "#RandomSearchCV\n",
        "\n",
        "para=[{\n",
        "       'multi_class':['auto','ovr', 'multinomial'],\n",
        "       'l1_ratio' : [0.1,0.2,0.3,0.4,0.5,0.6,0.7,0.8,0.9],\n",
        "       'solver':['newton-cg', 'lbfgs', 'liblinear', 'sag', 'saga'],\n",
        "       'penalty':['l1', 'l2', 'elacticnet'],\n",
        "       'dual':[True, False],\n",
        "       'max_iter':[50,100,200,250,1000],\n",
        "       'fit_intercept': [True,False],\n",
        "       'random_state' : [50]}\n",
        "      ]\n",
        "\n",
        "rSCV = RandomizedSearchCV(log_reg, param_distributions=para, n_iter=40, cv=5, n_jobs=-1)\n",
        "\n",
        "rSCV.fit(X_train_oHE, y_train_oHE)\n",
        "y_pred3 = rSCV.predict(X_test_oHE)\n",
        "accuracy_score(y_test_oHE, y_pred3)"
      ],
      "execution_count": 323,
      "outputs": [
        {
          "output_type": "stream",
          "text": [
            "/usr/local/lib/python3.6/dist-packages/sklearn/linear_model/_logistic.py:1501: UserWarning: l1_ratio parameter is only used when penalty is 'elasticnet'. Got (penalty=l2)\n",
            "  \"(penalty={})\".format(self.penalty))\n",
            "/usr/local/lib/python3.6/dist-packages/sklearn/utils/validation.py:760: DataConversionWarning: A column-vector y was passed when a 1d array was expected. Please change the shape of y to (n_samples, ), for example using ravel().\n",
            "  y = column_or_1d(y, warn=True)\n",
            "/usr/local/lib/python3.6/dist-packages/sklearn/utils/optimize.py:212: ConvergenceWarning: newton-cg failed to converge. Increase the number of iterations.\n",
            "  \"number of iterations.\", ConvergenceWarning)\n"
          ],
          "name": "stderr"
        },
        {
          "output_type": "execute_result",
          "data": {
            "text/plain": [
              "0.8506493506493507"
            ]
          },
          "metadata": {
            "tags": []
          },
          "execution_count": 323
        }
      ]
    },
    {
      "cell_type": "markdown",
      "metadata": {
        "id": "EJJg7coJmbcw",
        "colab_type": "text"
      },
      "source": [
        "As we can see that the accuracy after peforming RandomSearchCV is same as before.\n",
        "So, 0.827 is the best accuracy"
      ]
    },
    {
      "cell_type": "code",
      "metadata": {
        "id": "yTKQVP7tlL7A",
        "colab_type": "code",
        "colab": {
          "base_uri": "https://localhost:8080/",
          "height": 204
        },
        "outputId": "fb800dd8-b526-4ae1-c5e9-fc9917c0c509"
      },
      "source": [
        "print(\"Confusion Matrix:\\n\"+str(confusion_matrix(y_test_oHE, y_pred3)))\n",
        "print(\"Accuracy of Dtree Model:\")\n",
        "print(\"%.2f\"%round(accuracy_score(y_test_oHE, y_pred3)*100,2) + '%')\n",
        "print(\"Precision of DTree Model:\")\n",
        "print (\"%.2f\" % round(precision_score(y_test_oHE, y_pred3)*100) + '%')\n",
        "print (\"Recall of DTree Model:\" )\n",
        "print(\"%.2f\" % round(recall_score(y_test_oHE, y_pred3)*100) + '%')\n",
        "print (\"F1 Score of DTree Model:\")\n",
        "print (\"%.2f\" % round(f1_score(y_test_oHE, y_pred3)*100) + '%')"
      ],
      "execution_count": 324,
      "outputs": [
        {
          "output_type": "stream",
          "text": [
            "Confusion Matrix:\n",
            "[[ 27  21]\n",
            " [  2 104]]\n",
            "Accuracy of Dtree Model:\n",
            "85.06%\n",
            "Precision of DTree Model:\n",
            "83.00%\n",
            "Recall of DTree Model:\n",
            "98.00%\n",
            "F1 Score of DTree Model:\n",
            "90.00%\n"
          ],
          "name": "stdout"
        }
      ]
    },
    {
      "cell_type": "markdown",
      "metadata": {
        "id": "3VLU_fp-pGIW",
        "colab_type": "text"
      },
      "source": [
        "####**AUROC curve for LogisticRegression with OneHotEncoded Dataset**"
      ]
    },
    {
      "cell_type": "code",
      "metadata": {
        "id": "g-BLHS5Umw-P",
        "colab_type": "code",
        "colab": {
          "base_uri": "https://localhost:8080/",
          "height": 330
        },
        "outputId": "4be9eece-bd80-4ab3-cb29-663985b5acee"
      },
      "source": [
        "print(\"AUROC Value:\\n\"+str(round(roc_auc_score(y_test_oHE,y_pred3)*100)) + '%')\n",
        "fpr, tpr, thresholds = roc_curve(y_test_oHE,y_pred3)\n",
        "plt.figure(1)\n",
        "plt.plot([0, 1], [0, 1], 'k--')\n",
        "plt.plot(fpr, tpr, label='ROC curve (area = %0.2f)'% round(roc_auc_score(y_test_oHE,y_pred3)*100) + '%')\n",
        "plt.xlabel('False positive rate')\n",
        "plt.ylabel('True positive rate')\n",
        "plt.legend(loc='best')"
      ],
      "execution_count": 325,
      "outputs": [
        {
          "output_type": "stream",
          "text": [
            "AUROC Value:\n",
            "77.0%\n"
          ],
          "name": "stdout"
        },
        {
          "output_type": "execute_result",
          "data": {
            "text/plain": [
              "<matplotlib.legend.Legend at 0x7fa28299a898>"
            ]
          },
          "metadata": {
            "tags": []
          },
          "execution_count": 325
        },
        {
          "output_type": "display_data",
          "data": {
            "image/png": "[encoded data removed]",
            "text/plain": [
              "<Figure size 432x288 with 1 Axes>"
            ]
          },
          "metadata": {
            "tags": [],
            "needs_background": "light"
          }
        }
      ]
    },
    {
      "cell_type": "markdown",
      "metadata": {
        "id": "__5kT-i_nTq5",
        "colab_type": "text"
      },
      "source": [
        "**Random Forest Classifier**"
      ]
    },
    {
      "cell_type": "code",
      "metadata": {
        "id": "PWvHl8i3nHdz",
        "colab_type": "code",
        "colab": {
          "base_uri": "https://localhost:8080/",
          "height": 88
        },
        "outputId": "9ddfb504-0ed6-4328-b4eb-0bd8028469e3"
      },
      "source": [
        "#Training model on default Parameters\n",
        "rFC.fit(X_train_oHE, y_train_oHE)\n",
        "y_pred4 = rFC.predict(X_test_oHE)\n",
        "accuracy_score(y_test_oHE, y_pred4)"
      ],
      "execution_count": 326,
      "outputs": [
        {
          "output_type": "stream",
          "text": [
            "/usr/local/lib/python3.6/dist-packages/ipykernel_launcher.py:2: DataConversionWarning: A column-vector y was passed when a 1d array was expected. Please change the shape of y to (n_samples,), for example using ravel().\n",
            "  \n"
          ],
          "name": "stderr"
        },
        {
          "output_type": "execute_result",
          "data": {
            "text/plain": [
              "0.8246753246753247"
            ]
          },
          "metadata": {
            "tags": []
          },
          "execution_count": 326
        }
      ]
    },
    {
      "cell_type": "code",
      "metadata": {
        "id": "htkj3CbDniBG",
        "colab_type": "code",
        "colab": {
          "base_uri": "https://localhost:8080/",
          "height": 88
        },
        "outputId": "d7f845c5-ab35-4b55-f1ed-cc0a7efa0bb2"
      },
      "source": [
        "#Finding best combination of parameters in-order to get the maximum accuracy using RandomSearchCV\n",
        "from scipy.stats import randint\n",
        "para_rFC=[{'n_estimators':[100,200,300,400,500],\n",
        "       'criterion' : ['gini','entropy'],\n",
        "       'max_depth' : [2,3,5,10,30,50],\n",
        "       'bootstrap' : [True,False],\n",
        "       'min_samples_leaf' : randint(1,4),\n",
        "       'oob_score' : [True,False],\n",
        "       'class_weight' : ['balanced', 'balanced-subsample']}]\n",
        "\n",
        "rSCV2 = RandomizedSearchCV(rFC, param_distributions=para_rFC, n_iter=40, cv=4, n_jobs=-1)\n",
        "rSCV2.fit(X_train_oHE, y_train_oHE)\n",
        "y_pred4 = rSCV2.predict(X_test_oHE)\n",
        "accuracy_score(y_test_oHE,y_pred4)"
      ],
      "execution_count": 327,
      "outputs": [
        {
          "output_type": "stream",
          "text": [
            "/usr/local/lib/python3.6/dist-packages/sklearn/model_selection/_search.py:739: DataConversionWarning: A column-vector y was passed when a 1d array was expected. Please change the shape of y to (n_samples,), for example using ravel().\n",
            "  self.best_estimator_.fit(X, y, **fit_params)\n"
          ],
          "name": "stderr"
        },
        {
          "output_type": "execute_result",
          "data": {
            "text/plain": [
              "0.8376623376623377"
            ]
          },
          "metadata": {
            "tags": []
          },
          "execution_count": 327
        }
      ]
    },
    {
      "cell_type": "code",
      "metadata": {
        "id": "d7sIztwGocfS",
        "colab_type": "code",
        "colab": {
          "base_uri": "https://localhost:8080/",
          "height": 204
        },
        "outputId": "d908fedf-1cff-4a90-89b4-04c35e65a1bb"
      },
      "source": [
        "print(\"Confusion Matrix:\\n\"+str(confusion_matrix(y_test_oHE, y_pred4)))\n",
        "print(\"Accuracy of Dtree Model:\")\n",
        "print(\"%.2f\"%round(accuracy_score(y_test_oHE, y_pred4)*100,2) + '%')\n",
        "print(\"Precision of DTree Model:\")\n",
        "print (\"%.2f\" % round(precision_score(y_test_oHE, y_pred4)*100) + '%')\n",
        "print (\"Recall of DTree Model:\" )\n",
        "print(\"%.2f\" % round(recall_score(y_test_oHE, y_pred4)*100) + '%')\n",
        "print (\"F1 Score of DTree Model:\")\n",
        "print (\"%.2f\" % round(f1_score(y_test_oHE, y_pred4)*100) + '%')"
      ],
      "execution_count": 328,
      "outputs": [
        {
          "output_type": "stream",
          "text": [
            "Confusion Matrix:\n",
            "[[ 27  21]\n",
            " [  4 102]]\n",
            "Accuracy of Dtree Model:\n",
            "83.77%\n",
            "Precision of DTree Model:\n",
            "83.00%\n",
            "Recall of DTree Model:\n",
            "96.00%\n",
            "F1 Score of DTree Model:\n",
            "89.00%\n"
          ],
          "name": "stdout"
        }
      ]
    },
    {
      "cell_type": "markdown",
      "metadata": {
        "id": "Y9nOfYdNo5Ru",
        "colab_type": "text"
      },
      "source": [
        "####**AUROC curve for RandomForestClassifier with OneHotEncoded Dataset**"
      ]
    },
    {
      "cell_type": "code",
      "metadata": {
        "id": "PKHe_L9aohqB",
        "colab_type": "code",
        "colab": {
          "base_uri": "https://localhost:8080/",
          "height": 330
        },
        "outputId": "8fa27632-e680-40e7-e0a3-b568cd9e826b"
      },
      "source": [
        "print(\"AUROC Value:\\n\"+str(round(roc_auc_score(y_test_oHE,y_pred4)*100)) + '%')\n",
        "fpr, tpr, thresholds = roc_curve(y_test_oHE,y_pred4)\n",
        "plt.figure(1)\n",
        "plt.plot([0, 1], [0, 1], 'k--')\n",
        "plt.plot(fpr, tpr, label='ROC curve (area = %0.2f)'% round(roc_auc_score(y_test_oHE,y_pred4)*100) + '%')\n",
        "plt.xlabel('False positive rate')\n",
        "plt.ylabel('True positive rate')\n",
        "plt.legend(loc='best')"
      ],
      "execution_count": 329,
      "outputs": [
        {
          "output_type": "stream",
          "text": [
            "AUROC Value:\n",
            "76.0%\n"
          ],
          "name": "stdout"
        },
        {
          "output_type": "execute_result",
          "data": {
            "text/plain": [
              "<matplotlib.legend.Legend at 0x7fa27ba7e128>"
            ]
          },
          "metadata": {
            "tags": []
          },
          "execution_count": 329
        },
        {
          "output_type": "display_data",
          "data": {
            "image/png": "[encoded data removed]",
            "text/plain": [
              "<Figure size 432x288 with 1 Axes>"
            ]
          },
          "metadata": {
            "tags": [],
            "needs_background": "light"
          }
        }
      ]
    },
    {
      "cell_type": "markdown",
      "metadata": {
        "id": "5xzjHYRttqIi",
        "colab_type": "text"
      },
      "source": [
        "##**Conclusion**\n",
        "\n",
        "1. Label Encoded Dataset\n",
        "\n",
        "    Using 80% of the data as train_set.\n",
        "\n",
        "      a. Logistic Regression - \n",
        "\n",
        "        Accuracy - 85.37%\n",
        "\n",
        "  b.  RandomForest Classifier - \n",
        "\n",
        "        Accuracy - 86.18%\n",
        "\n",
        "2.  OneHot Encoded Dataset\n",
        "\n",
        "    Using 75% of data as Train_Set\n",
        "\n",
        "      a.  Logistic Regression - \n",
        "      \n",
        "        Accuracy - 85.71%\n",
        "\n",
        "  b.  RandomForest Clasifier - \n",
        "\n",
        "        Accuracy - 85.06%\n",
        "\n",
        "As we can see in LabelEncoded Dataset \n",
        "\n",
        "        - RandomForest Classifier has more accuracy\n",
        "\n",
        "As we can see in OneHotEncoded Dataset\n",
        "\n",
        "        - Logistic Regression had more accuracy\n",
        "\n",
        "\n",
        "###**Overall RandomForest Classifier (LabelEncoded Data) is highly accurate in-order to predict whether to Approve or Deny the Loan Application**\n"
      ]
    }
  ]
}